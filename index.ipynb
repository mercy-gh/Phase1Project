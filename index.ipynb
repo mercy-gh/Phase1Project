{
 "cells": [
  {
   "cell_type": "markdown",
   "metadata": {},
   "source": [
    "# Phase1 Project: Aviation Accidents Data Analysis and Insights"
   ]
  },
  {
   "cell_type": "markdown",
   "metadata": {},
   "source": [
    "## Overview\n",
    "The project seeks to explore data on different airplanes accidents in order to advise company stakeholders on which type of airplane to choose for business as they would like to join this industry. The dataset is from kaggle and it contains information covering United States, its territories and international waters from 1962 and later on selected incidents.\n",
    "\n",
    "## Business\n",
    "The company is seeking to start a new business endeavor, operating airplanes for commercial and private enterprises, in which they are novice to it. The stakeholders are seeking to understand what type of aircrafts have low risk to accidents from prevoius occurences. \n",
    "\n",
    "The dataset has various incidents since 1962. The information on the database is on continual update once an incident happens. Using this data would help identify the patterns/trends on these occurences. \n",
    "\n",
    "At the end of the data analysis, getting airplanes types which have minimal or no accidents and any other factors that may affect the purchase, this would make the best fit for recommendation thus aid in making decisions on which type of airplane to purchase.\n"
   ]
  },
  {
   "cell_type": "markdown",
   "metadata": {},
   "source": [
    "## Data\n",
    "Let's check what the data is about. We will use python methods and its libraries to explore the data."
   ]
  },
  {
   "cell_type": "code",
   "execution_count": 431,
   "metadata": {},
   "outputs": [],
   "source": [
    "# Importing Libraries\n",
    "import pandas as pd\n",
    "import matplotlib.pyplot as plt\n",
    "%matplotlib inline"
   ]
  },
  {
   "cell_type": "code",
   "execution_count": 335,
   "metadata": {},
   "outputs": [
    {
     "name": "stderr",
     "output_type": "stream",
     "text": [
      "c:\\Users\\amerc\\anaconda3\\envs\\learn-env\\lib\\site-packages\\IPython\\core\\interactiveshell.py:3145: DtypeWarning: Columns (6,7,28) have mixed types.Specify dtype option on import or set low_memory=False.\n",
      "  has_raised = await self.run_ast_nodes(code_ast.body, cell_name,\n"
     ]
    }
   ],
   "source": [
    "#Open and reeding the datasets\n",
    "aviation_df = pd.read_csv(\"AviationData.csv\", encoding='cp1252')\n",
    "usstate_df = pd.read_csv(\"USState_Codes.csv\", encoding='cp1252')"
   ]
  },
  {
   "cell_type": "code",
   "execution_count": 336,
   "metadata": {},
   "outputs": [
    {
     "data": {
      "text/html": [
       "<div>\n",
       "<style scoped>\n",
       "    .dataframe tbody tr th:only-of-type {\n",
       "        vertical-align: middle;\n",
       "    }\n",
       "\n",
       "    .dataframe tbody tr th {\n",
       "        vertical-align: top;\n",
       "    }\n",
       "\n",
       "    .dataframe thead th {\n",
       "        text-align: right;\n",
       "    }\n",
       "</style>\n",
       "<table border=\"1\" class=\"dataframe\">\n",
       "  <thead>\n",
       "    <tr style=\"text-align: right;\">\n",
       "      <th></th>\n",
       "      <th>Event.Id</th>\n",
       "      <th>Investigation.Type</th>\n",
       "      <th>Accident.Number</th>\n",
       "      <th>Event.Date</th>\n",
       "      <th>Location</th>\n",
       "      <th>Country</th>\n",
       "      <th>Latitude</th>\n",
       "      <th>Longitude</th>\n",
       "      <th>Airport.Code</th>\n",
       "      <th>Airport.Name</th>\n",
       "      <th>...</th>\n",
       "      <th>Purpose.of.flight</th>\n",
       "      <th>Air.carrier</th>\n",
       "      <th>Total.Fatal.Injuries</th>\n",
       "      <th>Total.Serious.Injuries</th>\n",
       "      <th>Total.Minor.Injuries</th>\n",
       "      <th>Total.Uninjured</th>\n",
       "      <th>Weather.Condition</th>\n",
       "      <th>Broad.phase.of.flight</th>\n",
       "      <th>Report.Status</th>\n",
       "      <th>Publication.Date</th>\n",
       "    </tr>\n",
       "  </thead>\n",
       "  <tbody>\n",
       "    <tr>\n",
       "      <th>0</th>\n",
       "      <td>20001218X45444</td>\n",
       "      <td>Accident</td>\n",
       "      <td>SEA87LA080</td>\n",
       "      <td>1948-10-24</td>\n",
       "      <td>MOOSE CREEK, ID</td>\n",
       "      <td>United States</td>\n",
       "      <td>NaN</td>\n",
       "      <td>NaN</td>\n",
       "      <td>NaN</td>\n",
       "      <td>NaN</td>\n",
       "      <td>...</td>\n",
       "      <td>Personal</td>\n",
       "      <td>NaN</td>\n",
       "      <td>2.0</td>\n",
       "      <td>0.0</td>\n",
       "      <td>0.0</td>\n",
       "      <td>0.0</td>\n",
       "      <td>UNK</td>\n",
       "      <td>Cruise</td>\n",
       "      <td>Probable Cause</td>\n",
       "      <td>NaN</td>\n",
       "    </tr>\n",
       "    <tr>\n",
       "      <th>1</th>\n",
       "      <td>20001218X45447</td>\n",
       "      <td>Accident</td>\n",
       "      <td>LAX94LA336</td>\n",
       "      <td>1962-07-19</td>\n",
       "      <td>BRIDGEPORT, CA</td>\n",
       "      <td>United States</td>\n",
       "      <td>NaN</td>\n",
       "      <td>NaN</td>\n",
       "      <td>NaN</td>\n",
       "      <td>NaN</td>\n",
       "      <td>...</td>\n",
       "      <td>Personal</td>\n",
       "      <td>NaN</td>\n",
       "      <td>4.0</td>\n",
       "      <td>0.0</td>\n",
       "      <td>0.0</td>\n",
       "      <td>0.0</td>\n",
       "      <td>UNK</td>\n",
       "      <td>Unknown</td>\n",
       "      <td>Probable Cause</td>\n",
       "      <td>19-09-1996</td>\n",
       "    </tr>\n",
       "    <tr>\n",
       "      <th>2</th>\n",
       "      <td>20061025X01555</td>\n",
       "      <td>Accident</td>\n",
       "      <td>NYC07LA005</td>\n",
       "      <td>1974-08-30</td>\n",
       "      <td>Saltville, VA</td>\n",
       "      <td>United States</td>\n",
       "      <td>36.9222</td>\n",
       "      <td>-81.8781</td>\n",
       "      <td>NaN</td>\n",
       "      <td>NaN</td>\n",
       "      <td>...</td>\n",
       "      <td>Personal</td>\n",
       "      <td>NaN</td>\n",
       "      <td>3.0</td>\n",
       "      <td>NaN</td>\n",
       "      <td>NaN</td>\n",
       "      <td>NaN</td>\n",
       "      <td>IMC</td>\n",
       "      <td>Cruise</td>\n",
       "      <td>Probable Cause</td>\n",
       "      <td>26-02-2007</td>\n",
       "    </tr>\n",
       "    <tr>\n",
       "      <th>3</th>\n",
       "      <td>20001218X45448</td>\n",
       "      <td>Accident</td>\n",
       "      <td>LAX96LA321</td>\n",
       "      <td>1977-06-19</td>\n",
       "      <td>EUREKA, CA</td>\n",
       "      <td>United States</td>\n",
       "      <td>NaN</td>\n",
       "      <td>NaN</td>\n",
       "      <td>NaN</td>\n",
       "      <td>NaN</td>\n",
       "      <td>...</td>\n",
       "      <td>Personal</td>\n",
       "      <td>NaN</td>\n",
       "      <td>2.0</td>\n",
       "      <td>0.0</td>\n",
       "      <td>0.0</td>\n",
       "      <td>0.0</td>\n",
       "      <td>IMC</td>\n",
       "      <td>Cruise</td>\n",
       "      <td>Probable Cause</td>\n",
       "      <td>12-09-2000</td>\n",
       "    </tr>\n",
       "    <tr>\n",
       "      <th>4</th>\n",
       "      <td>20041105X01764</td>\n",
       "      <td>Accident</td>\n",
       "      <td>CHI79FA064</td>\n",
       "      <td>1979-08-02</td>\n",
       "      <td>Canton, OH</td>\n",
       "      <td>United States</td>\n",
       "      <td>NaN</td>\n",
       "      <td>NaN</td>\n",
       "      <td>NaN</td>\n",
       "      <td>NaN</td>\n",
       "      <td>...</td>\n",
       "      <td>Personal</td>\n",
       "      <td>NaN</td>\n",
       "      <td>1.0</td>\n",
       "      <td>2.0</td>\n",
       "      <td>NaN</td>\n",
       "      <td>0.0</td>\n",
       "      <td>VMC</td>\n",
       "      <td>Approach</td>\n",
       "      <td>Probable Cause</td>\n",
       "      <td>16-04-1980</td>\n",
       "    </tr>\n",
       "  </tbody>\n",
       "</table>\n",
       "<p>5 rows × 31 columns</p>\n",
       "</div>"
      ],
      "text/plain": [
       "         Event.Id Investigation.Type Accident.Number  Event.Date  \\\n",
       "0  20001218X45444           Accident      SEA87LA080  1948-10-24   \n",
       "1  20001218X45447           Accident      LAX94LA336  1962-07-19   \n",
       "2  20061025X01555           Accident      NYC07LA005  1974-08-30   \n",
       "3  20001218X45448           Accident      LAX96LA321  1977-06-19   \n",
       "4  20041105X01764           Accident      CHI79FA064  1979-08-02   \n",
       "\n",
       "          Location        Country Latitude Longitude Airport.Code  \\\n",
       "0  MOOSE CREEK, ID  United States      NaN       NaN          NaN   \n",
       "1   BRIDGEPORT, CA  United States      NaN       NaN          NaN   \n",
       "2    Saltville, VA  United States  36.9222  -81.8781          NaN   \n",
       "3       EUREKA, CA  United States      NaN       NaN          NaN   \n",
       "4       Canton, OH  United States      NaN       NaN          NaN   \n",
       "\n",
       "  Airport.Name  ... Purpose.of.flight Air.carrier Total.Fatal.Injuries  \\\n",
       "0          NaN  ...          Personal         NaN                  2.0   \n",
       "1          NaN  ...          Personal         NaN                  4.0   \n",
       "2          NaN  ...          Personal         NaN                  3.0   \n",
       "3          NaN  ...          Personal         NaN                  2.0   \n",
       "4          NaN  ...          Personal         NaN                  1.0   \n",
       "\n",
       "  Total.Serious.Injuries Total.Minor.Injuries Total.Uninjured  \\\n",
       "0                    0.0                  0.0             0.0   \n",
       "1                    0.0                  0.0             0.0   \n",
       "2                    NaN                  NaN             NaN   \n",
       "3                    0.0                  0.0             0.0   \n",
       "4                    2.0                  NaN             0.0   \n",
       "\n",
       "  Weather.Condition  Broad.phase.of.flight   Report.Status Publication.Date  \n",
       "0               UNK                 Cruise  Probable Cause              NaN  \n",
       "1               UNK                Unknown  Probable Cause       19-09-1996  \n",
       "2               IMC                 Cruise  Probable Cause       26-02-2007  \n",
       "3               IMC                 Cruise  Probable Cause       12-09-2000  \n",
       "4               VMC               Approach  Probable Cause       16-04-1980  \n",
       "\n",
       "[5 rows x 31 columns]"
      ]
     },
     "execution_count": 336,
     "metadata": {},
     "output_type": "execute_result"
    }
   ],
   "source": [
    "#get top 5 rows of aviation data\n",
    "aviation_df.head()"
   ]
  },
  {
   "cell_type": "markdown",
   "metadata": {},
   "source": [
    "From the first five records, we see that there are some null values."
   ]
  },
  {
   "cell_type": "code",
   "execution_count": 337,
   "metadata": {},
   "outputs": [
    {
     "data": {
      "text/plain": [
       "(88889, 31)"
      ]
     },
     "execution_count": 337,
     "metadata": {},
     "output_type": "execute_result"
    }
   ],
   "source": [
    "# Get the shape of the data, rows and columns\n",
    "aviation_df.shape"
   ]
  },
  {
   "cell_type": "code",
   "execution_count": 338,
   "metadata": {},
   "outputs": [
    {
     "name": "stdout",
     "output_type": "stream",
     "text": [
      "<class 'pandas.core.frame.DataFrame'>\n",
      "RangeIndex: 88889 entries, 0 to 88888\n",
      "Data columns (total 31 columns):\n",
      " #   Column                  Non-Null Count  Dtype  \n",
      "---  ------                  --------------  -----  \n",
      " 0   Event.Id                88889 non-null  object \n",
      " 1   Investigation.Type      88889 non-null  object \n",
      " 2   Accident.Number         88889 non-null  object \n",
      " 3   Event.Date              88889 non-null  object \n",
      " 4   Location                88837 non-null  object \n",
      " 5   Country                 88663 non-null  object \n",
      " 6   Latitude                34382 non-null  object \n",
      " 7   Longitude               34373 non-null  object \n",
      " 8   Airport.Code            50249 non-null  object \n",
      " 9   Airport.Name            52790 non-null  object \n",
      " 10  Injury.Severity         87889 non-null  object \n",
      " 11  Aircraft.damage         85695 non-null  object \n",
      " 12  Aircraft.Category       32287 non-null  object \n",
      " 13  Registration.Number     87572 non-null  object \n",
      " 14  Make                    88826 non-null  object \n",
      " 15  Model                   88797 non-null  object \n",
      " 16  Amateur.Built           88787 non-null  object \n",
      " 17  Number.of.Engines       82805 non-null  float64\n",
      " 18  Engine.Type             81812 non-null  object \n",
      " 19  FAR.Description         32023 non-null  object \n",
      " 20  Schedule                12582 non-null  object \n",
      " 21  Purpose.of.flight       82697 non-null  object \n",
      " 22  Air.carrier             16648 non-null  object \n",
      " 23  Total.Fatal.Injuries    77488 non-null  float64\n",
      " 24  Total.Serious.Injuries  76379 non-null  float64\n",
      " 25  Total.Minor.Injuries    76956 non-null  float64\n",
      " 26  Total.Uninjured         82977 non-null  float64\n",
      " 27  Weather.Condition       84397 non-null  object \n",
      " 28  Broad.phase.of.flight   61724 non-null  object \n",
      " 29  Report.Status           82508 non-null  object \n",
      " 30  Publication.Date        75118 non-null  object \n",
      "dtypes: float64(5), object(26)\n",
      "memory usage: 21.0+ MB\n"
     ]
    }
   ],
   "source": [
    "#get information about the data, including the datatypes of respective columns\n",
    "aviation_df.info()"
   ]
  },
  {
   "cell_type": "code",
   "execution_count": 339,
   "metadata": {},
   "outputs": [
    {
     "data": {
      "text/html": [
       "<div>\n",
       "<style scoped>\n",
       "    .dataframe tbody tr th:only-of-type {\n",
       "        vertical-align: middle;\n",
       "    }\n",
       "\n",
       "    .dataframe tbody tr th {\n",
       "        vertical-align: top;\n",
       "    }\n",
       "\n",
       "    .dataframe thead th {\n",
       "        text-align: right;\n",
       "    }\n",
       "</style>\n",
       "<table border=\"1\" class=\"dataframe\">\n",
       "  <thead>\n",
       "    <tr style=\"text-align: right;\">\n",
       "      <th></th>\n",
       "      <th>Number.of.Engines</th>\n",
       "      <th>Total.Fatal.Injuries</th>\n",
       "      <th>Total.Serious.Injuries</th>\n",
       "      <th>Total.Minor.Injuries</th>\n",
       "      <th>Total.Uninjured</th>\n",
       "    </tr>\n",
       "  </thead>\n",
       "  <tbody>\n",
       "    <tr>\n",
       "      <th>count</th>\n",
       "      <td>82805.000000</td>\n",
       "      <td>77488.000000</td>\n",
       "      <td>76379.000000</td>\n",
       "      <td>76956.000000</td>\n",
       "      <td>82977.000000</td>\n",
       "    </tr>\n",
       "    <tr>\n",
       "      <th>mean</th>\n",
       "      <td>1.146585</td>\n",
       "      <td>0.647855</td>\n",
       "      <td>0.279881</td>\n",
       "      <td>0.357061</td>\n",
       "      <td>5.325440</td>\n",
       "    </tr>\n",
       "    <tr>\n",
       "      <th>std</th>\n",
       "      <td>0.446510</td>\n",
       "      <td>5.485960</td>\n",
       "      <td>1.544084</td>\n",
       "      <td>2.235625</td>\n",
       "      <td>27.913634</td>\n",
       "    </tr>\n",
       "    <tr>\n",
       "      <th>min</th>\n",
       "      <td>0.000000</td>\n",
       "      <td>0.000000</td>\n",
       "      <td>0.000000</td>\n",
       "      <td>0.000000</td>\n",
       "      <td>0.000000</td>\n",
       "    </tr>\n",
       "    <tr>\n",
       "      <th>25%</th>\n",
       "      <td>1.000000</td>\n",
       "      <td>0.000000</td>\n",
       "      <td>0.000000</td>\n",
       "      <td>0.000000</td>\n",
       "      <td>0.000000</td>\n",
       "    </tr>\n",
       "    <tr>\n",
       "      <th>50%</th>\n",
       "      <td>1.000000</td>\n",
       "      <td>0.000000</td>\n",
       "      <td>0.000000</td>\n",
       "      <td>0.000000</td>\n",
       "      <td>1.000000</td>\n",
       "    </tr>\n",
       "    <tr>\n",
       "      <th>75%</th>\n",
       "      <td>1.000000</td>\n",
       "      <td>0.000000</td>\n",
       "      <td>0.000000</td>\n",
       "      <td>0.000000</td>\n",
       "      <td>2.000000</td>\n",
       "    </tr>\n",
       "    <tr>\n",
       "      <th>max</th>\n",
       "      <td>8.000000</td>\n",
       "      <td>349.000000</td>\n",
       "      <td>161.000000</td>\n",
       "      <td>380.000000</td>\n",
       "      <td>699.000000</td>\n",
       "    </tr>\n",
       "  </tbody>\n",
       "</table>\n",
       "</div>"
      ],
      "text/plain": [
       "       Number.of.Engines  Total.Fatal.Injuries  Total.Serious.Injuries  \\\n",
       "count       82805.000000          77488.000000            76379.000000   \n",
       "mean            1.146585              0.647855                0.279881   \n",
       "std             0.446510              5.485960                1.544084   \n",
       "min             0.000000              0.000000                0.000000   \n",
       "25%             1.000000              0.000000                0.000000   \n",
       "50%             1.000000              0.000000                0.000000   \n",
       "75%             1.000000              0.000000                0.000000   \n",
       "max             8.000000            349.000000              161.000000   \n",
       "\n",
       "       Total.Minor.Injuries  Total.Uninjured  \n",
       "count          76956.000000     82977.000000  \n",
       "mean               0.357061         5.325440  \n",
       "std                2.235625        27.913634  \n",
       "min                0.000000         0.000000  \n",
       "25%                0.000000         0.000000  \n",
       "50%                0.000000         1.000000  \n",
       "75%                0.000000         2.000000  \n",
       "max              380.000000       699.000000  "
      ]
     },
     "execution_count": 339,
     "metadata": {},
     "output_type": "execute_result"
    }
   ],
   "source": [
    "aviation_df.describe()"
   ]
  },
  {
   "cell_type": "markdown",
   "metadata": {},
   "source": [
    "From the above data, we can see aviation dataset has 88,889 rows with 35 columns. It gives info on airplane type, location, country where the incident occured, information about the airplane, dates, etc.\n",
    "\n",
    "There are missing data from the null values seen in the data. The dataset has numbers on injuries - fatal, seroius or minor ones, and number of engines of the airplane."
   ]
  },
  {
   "cell_type": "code",
   "execution_count": 340,
   "metadata": {},
   "outputs": [
    {
     "data": {
      "text/html": [
       "<div>\n",
       "<style scoped>\n",
       "    .dataframe tbody tr th:only-of-type {\n",
       "        vertical-align: middle;\n",
       "    }\n",
       "\n",
       "    .dataframe tbody tr th {\n",
       "        vertical-align: top;\n",
       "    }\n",
       "\n",
       "    .dataframe thead th {\n",
       "        text-align: right;\n",
       "    }\n",
       "</style>\n",
       "<table border=\"1\" class=\"dataframe\">\n",
       "  <thead>\n",
       "    <tr style=\"text-align: right;\">\n",
       "      <th></th>\n",
       "      <th>US_State</th>\n",
       "      <th>Abbreviation</th>\n",
       "    </tr>\n",
       "  </thead>\n",
       "  <tbody>\n",
       "    <tr>\n",
       "      <th>0</th>\n",
       "      <td>Alabama</td>\n",
       "      <td>AL</td>\n",
       "    </tr>\n",
       "    <tr>\n",
       "      <th>1</th>\n",
       "      <td>Alaska</td>\n",
       "      <td>AK</td>\n",
       "    </tr>\n",
       "    <tr>\n",
       "      <th>2</th>\n",
       "      <td>Arizona</td>\n",
       "      <td>AZ</td>\n",
       "    </tr>\n",
       "    <tr>\n",
       "      <th>3</th>\n",
       "      <td>Arkansas</td>\n",
       "      <td>AR</td>\n",
       "    </tr>\n",
       "    <tr>\n",
       "      <th>4</th>\n",
       "      <td>California</td>\n",
       "      <td>CA</td>\n",
       "    </tr>\n",
       "  </tbody>\n",
       "</table>\n",
       "</div>"
      ],
      "text/plain": [
       "     US_State Abbreviation\n",
       "0     Alabama           AL\n",
       "1      Alaska           AK\n",
       "2     Arizona           AZ\n",
       "3    Arkansas           AR\n",
       "4  California           CA"
      ]
     },
     "execution_count": 340,
     "metadata": {},
     "output_type": "execute_result"
    }
   ],
   "source": [
    "##get top 5 rows of USState Codes data\n",
    "usstate_df.head()"
   ]
  },
  {
   "cell_type": "code",
   "execution_count": 341,
   "metadata": {},
   "outputs": [
    {
     "name": "stdout",
     "output_type": "stream",
     "text": [
      "<class 'pandas.core.frame.DataFrame'>\n",
      "RangeIndex: 62 entries, 0 to 61\n",
      "Data columns (total 2 columns):\n",
      " #   Column        Non-Null Count  Dtype \n",
      "---  ------        --------------  ----- \n",
      " 0   US_State      62 non-null     object\n",
      " 1   Abbreviation  62 non-null     object\n",
      "dtypes: object(2)\n",
      "memory usage: 1.1+ KB\n"
     ]
    }
   ],
   "source": [
    "usstate_df.info()"
   ]
  },
  {
   "cell_type": "code",
   "execution_count": 342,
   "metadata": {},
   "outputs": [
    {
     "data": {
      "text/plain": [
       "(62, 2)"
      ]
     },
     "execution_count": 342,
     "metadata": {},
     "output_type": "execute_result"
    }
   ],
   "source": [
    "usstate_df.shape"
   ]
  },
  {
   "cell_type": "code",
   "execution_count": 343,
   "metadata": {},
   "outputs": [
    {
     "data": {
      "text/plain": [
       "Index(['Event.Id', 'Investigation.Type', 'Accident.Number', 'Event.Date',\n",
       "       'Location', 'Country', 'Latitude', 'Longitude', 'Airport.Code',\n",
       "       'Airport.Name', 'Injury.Severity', 'Aircraft.damage',\n",
       "       'Aircraft.Category', 'Registration.Number', 'Make', 'Model',\n",
       "       'Amateur.Built', 'Number.of.Engines', 'Engine.Type', 'FAR.Description',\n",
       "       'Schedule', 'Purpose.of.flight', 'Air.carrier', 'Total.Fatal.Injuries',\n",
       "       'Total.Serious.Injuries', 'Total.Minor.Injuries', 'Total.Uninjured',\n",
       "       'Weather.Condition', 'Broad.phase.of.flight', 'Report.Status',\n",
       "       'Publication.Date'],\n",
       "      dtype='object')"
      ]
     },
     "execution_count": 343,
     "metadata": {},
     "output_type": "execute_result"
    }
   ],
   "source": [
    "#Check the columns in the aviation publish_display_data\n",
    "aviation_df.columns"
   ]
  },
  {
   "cell_type": "code",
   "execution_count": 344,
   "metadata": {},
   "outputs": [
    {
     "data": {
      "text/plain": [
       "US_State       Abbreviation\n",
       "Wyoming        WY              1\n",
       "Idaho          ID              1\n",
       "Minnesota      MN              1\n",
       "Micronesia     FM              1\n",
       "Michigan       MI              1\n",
       "                              ..\n",
       "New Mexico     NM              1\n",
       "New Jersey     NJ              1\n",
       "New Hampshire  NH              1\n",
       "Nevada         NV              1\n",
       "Alabama        AL              1\n",
       "Length: 62, dtype: int64"
      ]
     },
     "execution_count": 344,
     "metadata": {},
     "output_type": "execute_result"
    }
   ],
   "source": [
    "usstate_df.value_counts() #"
   ]
  },
  {
   "cell_type": "code",
   "execution_count": 345,
   "metadata": {},
   "outputs": [
    {
     "data": {
      "text/plain": [
       "US_State        0\n",
       "Abbreviation    0\n",
       "dtype: int64"
      ]
     },
     "execution_count": 345,
     "metadata": {},
     "output_type": "execute_result"
    }
   ],
   "source": [
    "usstate_df.isna().sum()"
   ]
  },
  {
   "cell_type": "markdown",
   "metadata": {},
   "source": [
    "The data from USState codes contains 62 rows, showing 62 states and 2 columns showing the States involved and the respective codes.\n",
    "There are no null values"
   ]
  },
  {
   "cell_type": "code",
   "execution_count": 346,
   "metadata": {},
   "outputs": [
    {
     "data": {
      "text/plain": [
       "False    54\n",
       "True      8\n",
       "Name: US_State, dtype: int64"
      ]
     },
     "execution_count": 346,
     "metadata": {},
     "output_type": "execute_result"
    }
   ],
   "source": [
    "#let us check if the data has columns that have similar content on both aviation and usstate codes\n",
    "usstate_df['US_State'].isin(aviation_df['Country']).value_counts()\n"
   ]
  },
  {
   "cell_type": "markdown",
   "metadata": {},
   "source": [
    "## Data Preparation\n",
    "Let us prepare the data for analysis. This will/may involve handling missing values in the data, dropping unnecessary columns, selecting needed data, etc.\n",
    "\n",
    "We start by checking the essential columns and dropping the unnecessary ones.\n",
    "\n",
    "1. The company needs 'Airplane'. If you check the AircraftCategory, there are aircraft of the Airplane Category. So we will create a dataset of that category.\n",
    "\n",
    "2. To determine the low risk aircraft, it needs specific kind of data such as the model, make, category, engine type, level of damage, number of injuries, etc.\n",
    "Columns such as Event Id, Investigation Type, Accident Number, etc. may not be useful. So we will drop these columns\n",
    "\n",
    "3. The data may be having spaces at the edges, we will strip the empty spaces in case the are present.\n",
    "\n",
    "4. Then we rename the columns to be easy handling by removing dots on column names \n",
    "\n",
    "5. Check null values and see how to handle them, drop, replace by mode , mean or median.\n",
    "As noticed earlier, there are only 4 columns without null values in the aviation data i.e.:\n",
    "\n",
    "        1. 'Event.Id' \n",
    "        2. 'Investigation.Type'\n",
    "        3. 'Accident.Number'\n",
    "        4. 'Event.Date'"
   ]
  },
  {
   "cell_type": "code",
   "execution_count": 347,
   "metadata": {},
   "outputs": [],
   "source": [
    "#First let us make a copy of the data\n",
    "aviation_df_copy = aviation_df.copy(deep=True)"
   ]
  },
  {
   "cell_type": "code",
   "execution_count": 348,
   "metadata": {},
   "outputs": [
    {
     "data": {
      "text/plain": [
       "Index(['Event.Id', 'Investigation.Type', 'Accident.Number', 'Event.Date',\n",
       "       'Location', 'Country', 'Latitude', 'Longitude', 'Airport.Code',\n",
       "       'Airport.Name', 'Injury.Severity', 'Aircraft.damage',\n",
       "       'Aircraft.Category', 'Registration.Number', 'Make', 'Model',\n",
       "       'Amateur.Built', 'Number.of.Engines', 'Engine.Type', 'FAR.Description',\n",
       "       'Schedule', 'Purpose.of.flight', 'Air.carrier', 'Total.Fatal.Injuries',\n",
       "       'Total.Serious.Injuries', 'Total.Minor.Injuries', 'Total.Uninjured',\n",
       "       'Weather.Condition', 'Broad.phase.of.flight', 'Report.Status',\n",
       "       'Publication.Date'],\n",
       "      dtype='object')"
      ]
     },
     "execution_count": 348,
     "metadata": {},
     "output_type": "execute_result"
    }
   ],
   "source": [
    "#Checking the columns of aviation data\n",
    "aviation_df_copy.columns"
   ]
  },
  {
   "cell_type": "code",
   "execution_count": 349,
   "metadata": {},
   "outputs": [
    {
     "data": {
      "text/plain": [
       "Airplane             27617\n",
       "Helicopter            3440\n",
       "Glider                 508\n",
       "Balloon                231\n",
       "Gyrocraft              173\n",
       "Weight-Shift           161\n",
       "Powered Parachute       91\n",
       "Ultralight              30\n",
       "Unknown                 14\n",
       "WSFT                     9\n",
       "Powered-Lift             5\n",
       "Blimp                    4\n",
       "UNK                      2\n",
       "Rocket                   1\n",
       "ULTR                     1\n",
       "Name: Aircraft.Category, dtype: int64"
      ]
     },
     "execution_count": 349,
     "metadata": {},
     "output_type": "execute_result"
    }
   ],
   "source": [
    "#Check Aircraft Category\n",
    "aviation_df_copy['Aircraft.Category'].value_counts()"
   ]
  },
  {
   "cell_type": "code",
   "execution_count": 370,
   "metadata": {},
   "outputs": [
    {
     "data": {
      "text/html": [
       "<div>\n",
       "<style scoped>\n",
       "    .dataframe tbody tr th:only-of-type {\n",
       "        vertical-align: middle;\n",
       "    }\n",
       "\n",
       "    .dataframe tbody tr th {\n",
       "        vertical-align: top;\n",
       "    }\n",
       "\n",
       "    .dataframe thead th {\n",
       "        text-align: right;\n",
       "    }\n",
       "</style>\n",
       "<table border=\"1\" class=\"dataframe\">\n",
       "  <thead>\n",
       "    <tr style=\"text-align: right;\">\n",
       "      <th></th>\n",
       "      <th>Event.Id</th>\n",
       "      <th>Investigation.Type</th>\n",
       "      <th>Accident.Number</th>\n",
       "      <th>Event.Date</th>\n",
       "      <th>Location</th>\n",
       "      <th>Country</th>\n",
       "      <th>Latitude</th>\n",
       "      <th>Longitude</th>\n",
       "      <th>Airport.Code</th>\n",
       "      <th>Airport.Name</th>\n",
       "      <th>...</th>\n",
       "      <th>Purpose.of.flight</th>\n",
       "      <th>Air.carrier</th>\n",
       "      <th>Total.Fatal.Injuries</th>\n",
       "      <th>Total.Serious.Injuries</th>\n",
       "      <th>Total.Minor.Injuries</th>\n",
       "      <th>Total.Uninjured</th>\n",
       "      <th>Weather.Condition</th>\n",
       "      <th>Broad.phase.of.flight</th>\n",
       "      <th>Report.Status</th>\n",
       "      <th>Publication.Date</th>\n",
       "    </tr>\n",
       "  </thead>\n",
       "  <tbody>\n",
       "    <tr>\n",
       "      <th>5</th>\n",
       "      <td>20170710X52551</td>\n",
       "      <td>Accident</td>\n",
       "      <td>NYC79AA106</td>\n",
       "      <td>1979-09-17</td>\n",
       "      <td>BOSTON, MA</td>\n",
       "      <td>United States</td>\n",
       "      <td>42.4453</td>\n",
       "      <td>-70.7583</td>\n",
       "      <td>NaN</td>\n",
       "      <td>NaN</td>\n",
       "      <td>...</td>\n",
       "      <td>NaN</td>\n",
       "      <td>Air Canada</td>\n",
       "      <td>NaN</td>\n",
       "      <td>NaN</td>\n",
       "      <td>1.0</td>\n",
       "      <td>44.0</td>\n",
       "      <td>VMC</td>\n",
       "      <td>Climb</td>\n",
       "      <td>Probable Cause</td>\n",
       "      <td>19-09-2017</td>\n",
       "    </tr>\n",
       "    <tr>\n",
       "      <th>7</th>\n",
       "      <td>20020909X01562</td>\n",
       "      <td>Accident</td>\n",
       "      <td>SEA82DA022</td>\n",
       "      <td>1982-01-01</td>\n",
       "      <td>PULLMAN, WA</td>\n",
       "      <td>United States</td>\n",
       "      <td>NaN</td>\n",
       "      <td>NaN</td>\n",
       "      <td>NaN</td>\n",
       "      <td>BLACKBURN AG STRIP</td>\n",
       "      <td>...</td>\n",
       "      <td>Personal</td>\n",
       "      <td>NaN</td>\n",
       "      <td>0.0</td>\n",
       "      <td>0.0</td>\n",
       "      <td>0.0</td>\n",
       "      <td>2.0</td>\n",
       "      <td>VMC</td>\n",
       "      <td>Takeoff</td>\n",
       "      <td>Probable Cause</td>\n",
       "      <td>01-01-1982</td>\n",
       "    </tr>\n",
       "    <tr>\n",
       "      <th>8</th>\n",
       "      <td>20020909X01561</td>\n",
       "      <td>Accident</td>\n",
       "      <td>NYC82DA015</td>\n",
       "      <td>1982-01-01</td>\n",
       "      <td>EAST HANOVER, NJ</td>\n",
       "      <td>United States</td>\n",
       "      <td>NaN</td>\n",
       "      <td>NaN</td>\n",
       "      <td>N58</td>\n",
       "      <td>HANOVER</td>\n",
       "      <td>...</td>\n",
       "      <td>Business</td>\n",
       "      <td>NaN</td>\n",
       "      <td>0.0</td>\n",
       "      <td>0.0</td>\n",
       "      <td>0.0</td>\n",
       "      <td>2.0</td>\n",
       "      <td>IMC</td>\n",
       "      <td>Landing</td>\n",
       "      <td>Probable Cause</td>\n",
       "      <td>01-01-1982</td>\n",
       "    </tr>\n",
       "    <tr>\n",
       "      <th>12</th>\n",
       "      <td>20020917X02148</td>\n",
       "      <td>Accident</td>\n",
       "      <td>FTW82FRJ07</td>\n",
       "      <td>1982-01-02</td>\n",
       "      <td>HOMER, LA</td>\n",
       "      <td>United States</td>\n",
       "      <td>NaN</td>\n",
       "      <td>NaN</td>\n",
       "      <td>NaN</td>\n",
       "      <td>NaN</td>\n",
       "      <td>...</td>\n",
       "      <td>Personal</td>\n",
       "      <td>NaN</td>\n",
       "      <td>0.0</td>\n",
       "      <td>0.0</td>\n",
       "      <td>1.0</td>\n",
       "      <td>0.0</td>\n",
       "      <td>IMC</td>\n",
       "      <td>Cruise</td>\n",
       "      <td>Probable Cause</td>\n",
       "      <td>02-01-1983</td>\n",
       "    </tr>\n",
       "    <tr>\n",
       "      <th>13</th>\n",
       "      <td>20020917X02134</td>\n",
       "      <td>Accident</td>\n",
       "      <td>FTW82FRA14</td>\n",
       "      <td>1982-01-02</td>\n",
       "      <td>HEARNE, TX</td>\n",
       "      <td>United States</td>\n",
       "      <td>NaN</td>\n",
       "      <td>NaN</td>\n",
       "      <td>T72</td>\n",
       "      <td>HEARNE MUNICIPAL</td>\n",
       "      <td>...</td>\n",
       "      <td>Personal</td>\n",
       "      <td>NaN</td>\n",
       "      <td>1.0</td>\n",
       "      <td>0.0</td>\n",
       "      <td>0.0</td>\n",
       "      <td>0.0</td>\n",
       "      <td>IMC</td>\n",
       "      <td>Takeoff</td>\n",
       "      <td>Probable Cause</td>\n",
       "      <td>02-01-1983</td>\n",
       "    </tr>\n",
       "  </tbody>\n",
       "</table>\n",
       "<p>5 rows × 31 columns</p>\n",
       "</div>"
      ],
      "text/plain": [
       "          Event.Id Investigation.Type Accident.Number  Event.Date  \\\n",
       "5   20170710X52551           Accident      NYC79AA106  1979-09-17   \n",
       "7   20020909X01562           Accident      SEA82DA022  1982-01-01   \n",
       "8   20020909X01561           Accident      NYC82DA015  1982-01-01   \n",
       "12  20020917X02148           Accident      FTW82FRJ07  1982-01-02   \n",
       "13  20020917X02134           Accident      FTW82FRA14  1982-01-02   \n",
       "\n",
       "            Location        Country Latitude Longitude Airport.Code  \\\n",
       "5         BOSTON, MA  United States  42.4453  -70.7583          NaN   \n",
       "7        PULLMAN, WA  United States      NaN       NaN          NaN   \n",
       "8   EAST HANOVER, NJ  United States      NaN       NaN          N58   \n",
       "12         HOMER, LA  United States      NaN       NaN          NaN   \n",
       "13        HEARNE, TX  United States      NaN       NaN          T72   \n",
       "\n",
       "          Airport.Name  ... Purpose.of.flight Air.carrier  \\\n",
       "5                  NaN  ...               NaN  Air Canada   \n",
       "7   BLACKBURN AG STRIP  ...          Personal         NaN   \n",
       "8              HANOVER  ...          Business         NaN   \n",
       "12                 NaN  ...          Personal         NaN   \n",
       "13    HEARNE MUNICIPAL  ...          Personal         NaN   \n",
       "\n",
       "   Total.Fatal.Injuries Total.Serious.Injuries Total.Minor.Injuries  \\\n",
       "5                   NaN                    NaN                  1.0   \n",
       "7                   0.0                    0.0                  0.0   \n",
       "8                   0.0                    0.0                  0.0   \n",
       "12                  0.0                    0.0                  1.0   \n",
       "13                  1.0                    0.0                  0.0   \n",
       "\n",
       "   Total.Uninjured Weather.Condition  Broad.phase.of.flight   Report.Status  \\\n",
       "5             44.0               VMC                  Climb  Probable Cause   \n",
       "7              2.0               VMC                Takeoff  Probable Cause   \n",
       "8              2.0               IMC                Landing  Probable Cause   \n",
       "12             0.0               IMC                 Cruise  Probable Cause   \n",
       "13             0.0               IMC                Takeoff  Probable Cause   \n",
       "\n",
       "   Publication.Date  \n",
       "5        19-09-2017  \n",
       "7        01-01-1982  \n",
       "8        01-01-1982  \n",
       "12       02-01-1983  \n",
       "13       02-01-1983  \n",
       "\n",
       "[5 rows x 31 columns]"
      ]
     },
     "execution_count": 370,
     "metadata": {},
     "output_type": "execute_result"
    }
   ],
   "source": [
    "import numpy as np\n",
    "#creating Airplane dataset\n",
    "airplane_df = aviation_df_copy.loc[aviation_df_copy[\"Aircraft.Category\"] == \"Airplane\"]\n",
    "airplane_df.set_index(keys=np.arange(1, len(airplane_df)+1))#reset_index()\n",
    "airplane_df.head()\n"
   ]
  },
  {
   "cell_type": "code",
   "execution_count": 371,
   "metadata": {},
   "outputs": [
    {
     "name": "stderr",
     "output_type": "stream",
     "text": [
      "c:\\Users\\amerc\\anaconda3\\envs\\learn-env\\lib\\site-packages\\pandas\\core\\frame.py:4163: SettingWithCopyWarning: \n",
      "A value is trying to be set on a copy of a slice from a DataFrame\n",
      "\n",
      "See the caveats in the documentation: https://pandas.pydata.org/pandas-docs/stable/user_guide/indexing.html#returning-a-view-versus-a-copy\n",
      "  return super().drop(\n"
     ]
    }
   ],
   "source": [
    "#droping columns\n",
    "airplane_df.drop([\"Event.Id\",\"Investigation.Type\", \"Accident.Number\", \"Airport.Code\", \"Airport.Name\", \"Air.carrier\", \"Schedule\", \"Report.Status\", \"Publication.Date\"], axis=1,inplace = True)\n",
    "#airplane_df.head()"
   ]
  },
  {
   "cell_type": "code",
   "execution_count": 372,
   "metadata": {},
   "outputs": [
    {
     "data": {
      "text/html": [
       "<div>\n",
       "<style scoped>\n",
       "    .dataframe tbody tr th:only-of-type {\n",
       "        vertical-align: middle;\n",
       "    }\n",
       "\n",
       "    .dataframe tbody tr th {\n",
       "        vertical-align: top;\n",
       "    }\n",
       "\n",
       "    .dataframe thead th {\n",
       "        text-align: right;\n",
       "    }\n",
       "</style>\n",
       "<table border=\"1\" class=\"dataframe\">\n",
       "  <thead>\n",
       "    <tr style=\"text-align: right;\">\n",
       "      <th></th>\n",
       "      <th>Event.Date</th>\n",
       "      <th>Location</th>\n",
       "      <th>Country</th>\n",
       "      <th>Latitude</th>\n",
       "      <th>Longitude</th>\n",
       "      <th>Injury.Severity</th>\n",
       "      <th>Aircraft.damage</th>\n",
       "      <th>Aircraft.Category</th>\n",
       "      <th>Registration.Number</th>\n",
       "      <th>Make</th>\n",
       "      <th>...</th>\n",
       "      <th>Number.of.Engines</th>\n",
       "      <th>Engine.Type</th>\n",
       "      <th>FAR.Description</th>\n",
       "      <th>Purpose.of.flight</th>\n",
       "      <th>Total.Fatal.Injuries</th>\n",
       "      <th>Total.Serious.Injuries</th>\n",
       "      <th>Total.Minor.Injuries</th>\n",
       "      <th>Total.Uninjured</th>\n",
       "      <th>Weather.Condition</th>\n",
       "      <th>Broad.phase.of.flight</th>\n",
       "    </tr>\n",
       "  </thead>\n",
       "  <tbody>\n",
       "    <tr>\n",
       "      <th>88869</th>\n",
       "      <td>2022-12-13</td>\n",
       "      <td>Lewistown, MT</td>\n",
       "      <td>United States</td>\n",
       "      <td>047257N</td>\n",
       "      <td>0109280W</td>\n",
       "      <td>Non-Fatal</td>\n",
       "      <td>Substantial</td>\n",
       "      <td>Airplane</td>\n",
       "      <td>C-GZPU</td>\n",
       "      <td>PIPER</td>\n",
       "      <td>...</td>\n",
       "      <td>2.0</td>\n",
       "      <td>NaN</td>\n",
       "      <td>NUSC</td>\n",
       "      <td>NaN</td>\n",
       "      <td>0.0</td>\n",
       "      <td>0.0</td>\n",
       "      <td>0.0</td>\n",
       "      <td>1.0</td>\n",
       "      <td>NaN</td>\n",
       "      <td>NaN</td>\n",
       "    </tr>\n",
       "    <tr>\n",
       "      <th>88873</th>\n",
       "      <td>2022-12-14</td>\n",
       "      <td>San Juan, PR</td>\n",
       "      <td>United States</td>\n",
       "      <td>182724N</td>\n",
       "      <td>0066554W</td>\n",
       "      <td>Non-Fatal</td>\n",
       "      <td>Substantial</td>\n",
       "      <td>Airplane</td>\n",
       "      <td>N416PC</td>\n",
       "      <td>CIRRUS DESIGN CORP</td>\n",
       "      <td>...</td>\n",
       "      <td>1.0</td>\n",
       "      <td>NaN</td>\n",
       "      <td>091</td>\n",
       "      <td>Personal</td>\n",
       "      <td>0.0</td>\n",
       "      <td>0.0</td>\n",
       "      <td>0.0</td>\n",
       "      <td>1.0</td>\n",
       "      <td>VMC</td>\n",
       "      <td>NaN</td>\n",
       "    </tr>\n",
       "    <tr>\n",
       "      <th>88876</th>\n",
       "      <td>2022-12-15</td>\n",
       "      <td>Wichita, KS</td>\n",
       "      <td>United States</td>\n",
       "      <td>373829N</td>\n",
       "      <td>0972635W</td>\n",
       "      <td>Non-Fatal</td>\n",
       "      <td>Substantial</td>\n",
       "      <td>Airplane</td>\n",
       "      <td>N398KL</td>\n",
       "      <td>SWEARINGEN</td>\n",
       "      <td>...</td>\n",
       "      <td>2.0</td>\n",
       "      <td>NaN</td>\n",
       "      <td>135</td>\n",
       "      <td>NaN</td>\n",
       "      <td>0.0</td>\n",
       "      <td>0.0</td>\n",
       "      <td>0.0</td>\n",
       "      <td>1.0</td>\n",
       "      <td>NaN</td>\n",
       "      <td>NaN</td>\n",
       "    </tr>\n",
       "    <tr>\n",
       "      <th>88877</th>\n",
       "      <td>2022-12-16</td>\n",
       "      <td>Brooksville, FL</td>\n",
       "      <td>United States</td>\n",
       "      <td>282825N</td>\n",
       "      <td>0822719W</td>\n",
       "      <td>Minor</td>\n",
       "      <td>Substantial</td>\n",
       "      <td>Airplane</td>\n",
       "      <td>N5405V</td>\n",
       "      <td>CESSNA</td>\n",
       "      <td>...</td>\n",
       "      <td>1.0</td>\n",
       "      <td>NaN</td>\n",
       "      <td>091</td>\n",
       "      <td>Personal</td>\n",
       "      <td>0.0</td>\n",
       "      <td>1.0</td>\n",
       "      <td>0.0</td>\n",
       "      <td>0.0</td>\n",
       "      <td>VMC</td>\n",
       "      <td>NaN</td>\n",
       "    </tr>\n",
       "    <tr>\n",
       "      <th>88886</th>\n",
       "      <td>2022-12-26</td>\n",
       "      <td>Payson, AZ</td>\n",
       "      <td>United States</td>\n",
       "      <td>341525N</td>\n",
       "      <td>1112021W</td>\n",
       "      <td>Non-Fatal</td>\n",
       "      <td>Substantial</td>\n",
       "      <td>Airplane</td>\n",
       "      <td>N749PJ</td>\n",
       "      <td>AMERICAN CHAMPION AIRCRAFT</td>\n",
       "      <td>...</td>\n",
       "      <td>1.0</td>\n",
       "      <td>NaN</td>\n",
       "      <td>091</td>\n",
       "      <td>Personal</td>\n",
       "      <td>0.0</td>\n",
       "      <td>0.0</td>\n",
       "      <td>0.0</td>\n",
       "      <td>1.0</td>\n",
       "      <td>VMC</td>\n",
       "      <td>NaN</td>\n",
       "    </tr>\n",
       "  </tbody>\n",
       "</table>\n",
       "<p>5 rows × 22 columns</p>\n",
       "</div>"
      ],
      "text/plain": [
       "       Event.Date         Location        Country Latitude Longitude  \\\n",
       "88869  2022-12-13    Lewistown, MT  United States  047257N  0109280W   \n",
       "88873  2022-12-14     San Juan, PR  United States  182724N  0066554W   \n",
       "88876  2022-12-15      Wichita, KS  United States  373829N  0972635W   \n",
       "88877  2022-12-16  Brooksville, FL  United States  282825N  0822719W   \n",
       "88886  2022-12-26       Payson, AZ  United States  341525N  1112021W   \n",
       "\n",
       "      Injury.Severity Aircraft.damage Aircraft.Category Registration.Number  \\\n",
       "88869       Non-Fatal     Substantial          Airplane              C-GZPU   \n",
       "88873       Non-Fatal     Substantial          Airplane              N416PC   \n",
       "88876       Non-Fatal     Substantial          Airplane              N398KL   \n",
       "88877           Minor     Substantial          Airplane              N5405V   \n",
       "88886       Non-Fatal     Substantial          Airplane              N749PJ   \n",
       "\n",
       "                             Make  ... Number.of.Engines Engine.Type  \\\n",
       "88869                       PIPER  ...               2.0         NaN   \n",
       "88873          CIRRUS DESIGN CORP  ...               1.0         NaN   \n",
       "88876                  SWEARINGEN  ...               2.0         NaN   \n",
       "88877                      CESSNA  ...               1.0         NaN   \n",
       "88886  AMERICAN CHAMPION AIRCRAFT  ...               1.0         NaN   \n",
       "\n",
       "       FAR.Description Purpose.of.flight Total.Fatal.Injuries  \\\n",
       "88869             NUSC               NaN                  0.0   \n",
       "88873              091          Personal                  0.0   \n",
       "88876              135               NaN                  0.0   \n",
       "88877              091          Personal                  0.0   \n",
       "88886              091          Personal                  0.0   \n",
       "\n",
       "      Total.Serious.Injuries  Total.Minor.Injuries  Total.Uninjured  \\\n",
       "88869                    0.0                   0.0              1.0   \n",
       "88873                    0.0                   0.0              1.0   \n",
       "88876                    0.0                   0.0              1.0   \n",
       "88877                    1.0                   0.0              0.0   \n",
       "88886                    0.0                   0.0              1.0   \n",
       "\n",
       "       Weather.Condition  Broad.phase.of.flight  \n",
       "88869                NaN                    NaN  \n",
       "88873                VMC                    NaN  \n",
       "88876                NaN                    NaN  \n",
       "88877                VMC                    NaN  \n",
       "88886                VMC                    NaN  \n",
       "\n",
       "[5 rows x 22 columns]"
      ]
     },
     "execution_count": 372,
     "metadata": {},
     "output_type": "execute_result"
    }
   ],
   "source": [
    "airplane_df.tail()"
   ]
  },
  {
   "cell_type": "code",
   "execution_count": 373,
   "metadata": {},
   "outputs": [
    {
     "data": {
      "text/plain": [
       "Index(['Event.Date', 'Location', 'Country', 'Latitude', 'Longitude',\n",
       "       'Injury.Severity', 'Aircraft.damage', 'Aircraft.Category',\n",
       "       'Registration.Number', 'Make', 'Model', 'Amateur.Built',\n",
       "       'Number.of.Engines', 'Engine.Type', 'FAR.Description',\n",
       "       'Purpose.of.flight', 'Total.Fatal.Injuries', 'Total.Serious.Injuries',\n",
       "       'Total.Minor.Injuries', 'Total.Uninjured', 'Weather.Condition',\n",
       "       'Broad.phase.of.flight'],\n",
       "      dtype='object')"
      ]
     },
     "execution_count": 373,
     "metadata": {},
     "output_type": "execute_result"
    }
   ],
   "source": [
    "airplane_df.columns"
   ]
  },
  {
   "cell_type": "markdown",
   "metadata": {},
   "source": [
    "If you check, the column names have a '.' separator between 2 names. We can remove the dot for each column name.\n",
    "Then we can strip of any empty spaces in the data."
   ]
  },
  {
   "cell_type": "code",
   "execution_count": 374,
   "metadata": {},
   "outputs": [
    {
     "data": {
      "text/plain": [
       "22"
      ]
     },
     "execution_count": 374,
     "metadata": {},
     "output_type": "execute_result"
    }
   ],
   "source": [
    "#Let us remove the dot(.) in the column names\n",
    "#First create a dictionary with key-value pairs consisting of old names as keys and new names as keys\n",
    "#create keys append them to an empty list\n",
    "colmn_names_orig = []\n",
    "for colmn in airplane_df.columns:\n",
    "    colmn_names_orig.append(colmn)\n",
    "len(colmn_names_orig)\n"
   ]
  },
  {
   "cell_type": "code",
   "execution_count": 281,
   "metadata": {},
   "outputs": [
    {
     "data": {
      "text/plain": [
       "22"
      ]
     },
     "execution_count": 281,
     "metadata": {},
     "output_type": "execute_result"
    }
   ],
   "source": [
    "#Create values\n",
    "colmn_names_new = []\n",
    "#remove the '.' from column names and append to an empty list\n",
    "for x in range(len(airplane_df.columns)):\n",
    "    new_column_name = airplane_df.columns[x].replace('.', '')\n",
    "    colmn_names_new.append(new_column_name)\n",
    "\n",
    "#type(colmn_names_new)\n",
    "len(colmn_names_new)"
   ]
  },
  {
   "cell_type": "code",
   "execution_count": 282,
   "metadata": {},
   "outputs": [],
   "source": [
    "colmn_names_dict = dict(zip(colmn_names_orig, colmn_names_new))\n",
    "#colmn_names_dict"
   ]
  },
  {
   "cell_type": "code",
   "execution_count": 376,
   "metadata": {},
   "outputs": [],
   "source": [
    "#Rename the columns\n",
    "airplane_df.rename(colmn_names_dict, axis='columns', inplace=True)"
   ]
  },
  {
   "cell_type": "code",
   "execution_count": 284,
   "metadata": {},
   "outputs": [
    {
     "data": {
      "text/plain": [
       "EventDate                object\n",
       "Location                 object\n",
       "Country                  object\n",
       "Latitude                 object\n",
       "Longitude                object\n",
       "InjurySeverity           object\n",
       "Aircraftdamage           object\n",
       "AircraftCategory         object\n",
       "RegistrationNumber       object\n",
       "Make                     object\n",
       "Model                    object\n",
       "AmateurBuilt             object\n",
       "NumberofEngines         float64\n",
       "EngineType               object\n",
       "FARDescription           object\n",
       "Purposeofflight          object\n",
       "TotalFatalInjuries      float64\n",
       "TotalSeriousInjuries    float64\n",
       "TotalMinorInjuries      float64\n",
       "TotalUninjured          float64\n",
       "WeatherCondition         object\n",
       "Broadphaseofflight       object\n",
       "dtype: object"
      ]
     },
     "execution_count": 284,
     "metadata": {},
     "output_type": "execute_result"
    }
   ],
   "source": [
    "airplane_df.dtypes"
   ]
  },
  {
   "cell_type": "code",
   "execution_count": 377,
   "metadata": {},
   "outputs": [
    {
     "data": {
      "text/plain": [
       "CESSNA             4867\n",
       "Cessna             3608\n",
       "PIPER              2805\n",
       "Piper              1910\n",
       "BOEING             1037\n",
       "                   ... \n",
       "HARTZ PAUL            1\n",
       "HANSON ROBERT H       1\n",
       "THOMAS WAYNE L        1\n",
       "Seele                 1\n",
       "TUBERVILLE            1\n",
       "Name: Make, Length: 3874, dtype: int64"
      ]
     },
     "execution_count": 377,
     "metadata": {},
     "output_type": "execute_result"
    }
   ],
   "source": [
    "#Checking the Make and see if there is uniformity\n",
    "airplane_df['Make'].value_counts()#.head(20)"
   ]
  },
  {
   "cell_type": "markdown",
   "metadata": {},
   "source": [
    "If you check the 'Make\", there are Cessna and CESSNA. The make is the same but they keyed in with different letter cases.\n",
    "We will make it uniform by captitalizing each or having it in small letters."
   ]
  },
  {
   "cell_type": "code",
   "execution_count": 394,
   "metadata": {},
   "outputs": [
    {
     "name": "stderr",
     "output_type": "stream",
     "text": [
      "<ipython-input-394-6f470463b9b4>:1: SettingWithCopyWarning: \n",
      "A value is trying to be set on a copy of a slice from a DataFrame.\n",
      "Try using .loc[row_indexer,col_indexer] = value instead\n",
      "\n",
      "See the caveats in the documentation: https://pandas.pydata.org/pandas-docs/stable/user_guide/indexing.html#returning-a-view-versus-a-copy\n",
      "  airplane_df['Make']= airplane_df['Make'].str.capitalize()\n"
     ]
    }
   ],
   "source": [
    "airplane_df['Make']= airplane_df['Make'].str.capitalize()"
   ]
  },
  {
   "cell_type": "code",
   "execution_count": 395,
   "metadata": {},
   "outputs": [
    {
     "data": {
      "text/plain": [
       "Cessna                8475\n",
       "Piper                 4715\n",
       "Beech                 1692\n",
       "Boeing                1324\n",
       "Mooney                 419\n",
       "Bellanca               282\n",
       "Grumman                251\n",
       "Airbus                 245\n",
       "Maule                  232\n",
       "Aeronca                229\n",
       "Air tractor            224\n",
       "Cirrus design corp     220\n",
       "Air tractor inc        219\n",
       "Champion               170\n",
       "Luscombe               164\n",
       "Embraer                155\n",
       "Stinson                146\n",
       "Cirrus                 137\n",
       "Vans                   125\n",
       "North american         118\n",
       "Name: Make, dtype: int64"
      ]
     },
     "execution_count": 395,
     "metadata": {},
     "output_type": "execute_result"
    }
   ],
   "source": [
    "airplane_df['Make'].value_counts().head(20)"
   ]
  },
  {
   "cell_type": "code",
   "execution_count": 396,
   "metadata": {},
   "outputs": [
    {
     "data": {
      "text/plain": [
       "Make                      Model            \n",
       "Cessna                    150 - G              1\n",
       "Volmer                    VJ22                 1\n",
       "Vollenweider r/hurst r f  VANS RV-9A           1\n",
       "Volksplane                VP-2                 1\n",
       "Volin                     KITFOX CLASSIC IV    1\n",
       "Volaircraft               10A                  1\n",
       "Vink robert d             YOUNGSTER            1\n",
       "Vining john k             SD-1 MINISPORT       1\n",
       "Villine's                 BREEZY RLV-1         1\n",
       "Villeneuve                RV-3                 1\n",
       "Villarubia                RV-6                 1\n",
       "Viking air limited        DHC-6                1\n",
       "Viking (clarke)           Dragonfly            1\n",
       "Viguie g/viguie m         LANCAIR LEGACY       1\n",
       "Victor m cordero          RV-9A                1\n",
       "Vickers                   Supermaine Ltd       1\n",
       "                          Spitfire             1\n",
       "Vicari                    Waiex                1\n",
       "Waco                      4MF 5                1\n",
       "Frisby                    CH801                1\n",
       "dtype: int64"
      ]
     },
     "execution_count": 396,
     "metadata": {},
     "output_type": "execute_result"
    }
   ],
   "source": [
    "new_df = airplane_df[['Make','Model']].value_counts().sort_values().head(20)\n",
    "new_df"
   ]
  },
  {
   "cell_type": "markdown",
   "metadata": {},
   "source": [
    "## Dealing with the null values\n",
    "Let us check null values on different columns"
   ]
  },
  {
   "cell_type": "code",
   "execution_count": 397,
   "metadata": {},
   "outputs": [
    {
     "data": {
      "text/plain": [
       "EventDate                   0\n",
       "Location                    7\n",
       "Country                     7\n",
       "Latitude                 5525\n",
       "Longitude                5534\n",
       "InjurySeverity            814\n",
       "Aircraftdamage           1282\n",
       "AircraftCategory            0\n",
       "RegistrationNumber        226\n",
       "Make                        9\n",
       "Model                      31\n",
       "AmateurBuilt               17\n",
       "NumberofEngines          2754\n",
       "EngineType               4226\n",
       "FARDescription            499\n",
       "Purposeofflight          3739\n",
       "TotalFatalInjuries       3165\n",
       "TotalSeriousInjuries     3224\n",
       "TotalMinorInjuries       2878\n",
       "TotalUninjured            900\n",
       "WeatherCondition         3053\n",
       "Broadphaseofflight      21209\n",
       "dtype: int64"
      ]
     },
     "execution_count": 397,
     "metadata": {},
     "output_type": "execute_result"
    }
   ],
   "source": [
    "airplane_df.isna().sum()"
   ]
  },
  {
   "cell_type": "markdown",
   "metadata": {},
   "source": [
    "If you check the make and the model, there are missing data. Without these values, we cannot determine what aircraft to purchase. You may not fill in the data as this concerns accidents and icnidents that occured and may distort the information. So, we will drop the missing values on Make amd Model/"
   ]
  },
  {
   "cell_type": "code",
   "execution_count": 401,
   "metadata": {},
   "outputs": [
    {
     "name": "stderr",
     "output_type": "stream",
     "text": [
      "<ipython-input-401-6fb5dd51b8a0>:1: SettingWithCopyWarning: \n",
      "A value is trying to be set on a copy of a slice from a DataFrame\n",
      "\n",
      "See the caveats in the documentation: https://pandas.pydata.org/pandas-docs/stable/user_guide/indexing.html#returning-a-view-versus-a-copy\n",
      "  airplane_df.dropna(subset=['Make','Model'], inplace=True)\n"
     ]
    }
   ],
   "source": [
    "airplane_df.dropna(subset=['Make','Model'], inplace=True)"
   ]
  },
  {
   "cell_type": "code",
   "execution_count": 402,
   "metadata": {},
   "outputs": [
    {
     "data": {
      "text/plain": [
       "EventDate                   0\n",
       "Location                    7\n",
       "Country                     7\n",
       "Latitude                 5498\n",
       "Longitude                5507\n",
       "InjurySeverity            812\n",
       "Aircraftdamage           1279\n",
       "AircraftCategory            0\n",
       "RegistrationNumber        223\n",
       "Make                        0\n",
       "Model                       0\n",
       "AmateurBuilt               17\n",
       "NumberofEngines          2749\n",
       "EngineType               4213\n",
       "FARDescription            499\n",
       "Purposeofflight          3730\n",
       "TotalFatalInjuries       3159\n",
       "TotalSeriousInjuries     3216\n",
       "TotalMinorInjuries       2871\n",
       "TotalUninjured            894\n",
       "WeatherCondition         3044\n",
       "Broadphaseofflight      21195\n",
       "dtype: int64"
      ]
     },
     "execution_count": 402,
     "metadata": {},
     "output_type": "execute_result"
    }
   ],
   "source": [
    "airplane_df.isna().sum()"
   ]
  },
  {
   "cell_type": "code",
   "execution_count": 403,
   "metadata": {},
   "outputs": [
    {
     "data": {
      "text/plain": [
       "Index(['EventDate', 'Location', 'Country', 'Latitude', 'Longitude',\n",
       "       'InjurySeverity', 'Aircraftdamage', 'AircraftCategory',\n",
       "       'RegistrationNumber', 'Make', 'Model', 'AmateurBuilt',\n",
       "       'NumberofEngines', 'EngineType', 'FARDescription', 'Purposeofflight',\n",
       "       'TotalFatalInjuries', 'TotalSeriousInjuries', 'TotalMinorInjuries',\n",
       "       'TotalUninjured', 'WeatherCondition', 'Broadphaseofflight'],\n",
       "      dtype='object')"
      ]
     },
     "execution_count": 403,
     "metadata": {},
     "output_type": "execute_result"
    }
   ],
   "source": [
    "airplane_df.columns"
   ]
  },
  {
   "cell_type": "code",
   "execution_count": 405,
   "metadata": {},
   "outputs": [
    {
     "data": {
      "text/plain": [
       "Make                     Purposeofflight   \n",
       "Cessna                   Personal              4875\n",
       "Piper                    Personal              3051\n",
       "Cessna                   Instructional         1588\n",
       "Beech                    Personal              1091\n",
       "Piper                    Instructional          720\n",
       "                                               ... \n",
       "Cirrus design corp.      Personal                18\n",
       "Piper                    Glider Tow              18\n",
       "Piper aircraft inc       Personal                18\n",
       "Schweizer aircraft corp  Aerial Application      18\n",
       "Grumman-schweizer        Aerial Application      18\n",
       "Length: 100, dtype: int64"
      ]
     },
     "execution_count": 405,
     "metadata": {},
     "output_type": "execute_result"
    }
   ],
   "source": [
    "#Checking the number of makes, they are 7,587\n",
    "airplane_df['Make'].value_counts()\n",
    "#Picking the top 20 makes\n",
    "airplane_df['Make'].value_counts().head(100)\n",
    "\n",
    "#Match the make with the use of the flight. The client needs flights for commercial and private enterprises\n",
    "use_make = airplane_df[[\"Make\",\"Purposeofflight\"]].value_counts()\n",
    "use_make.head(100)\n",
    "\n"
   ]
  },
  {
   "cell_type": "markdown",
   "metadata": {},
   "source": [
    "The company intends to use aircraft for business and private enterprices. Aircraft such as instructional, public aircraft (federal, state, local), firefighting, and others, are more specialized and often not classified under general commercial or private enterprise use.\n",
    "\n",
    "Let us form a dataset with aircraft for the purpose of business and private enterprises: Personal, Business, Executive/Corporate, Aerial Application, Banner Tow, Aerial Observation, Skydiving, Ferry, Flight Test, Positioning."
   ]
  },
  {
   "cell_type": "code",
   "execution_count": 417,
   "metadata": {},
   "outputs": [
    {
     "data": {
      "text/html": [
       "<div>\n",
       "<style scoped>\n",
       "    .dataframe tbody tr th:only-of-type {\n",
       "        vertical-align: middle;\n",
       "    }\n",
       "\n",
       "    .dataframe tbody tr th {\n",
       "        vertical-align: top;\n",
       "    }\n",
       "\n",
       "    .dataframe thead th {\n",
       "        text-align: right;\n",
       "    }\n",
       "</style>\n",
       "<table border=\"1\" class=\"dataframe\">\n",
       "  <thead>\n",
       "    <tr style=\"text-align: right;\">\n",
       "      <th></th>\n",
       "      <th>EventDate</th>\n",
       "      <th>Location</th>\n",
       "      <th>Country</th>\n",
       "      <th>Latitude</th>\n",
       "      <th>Longitude</th>\n",
       "      <th>InjurySeverity</th>\n",
       "      <th>Aircraftdamage</th>\n",
       "      <th>AircraftCategory</th>\n",
       "      <th>RegistrationNumber</th>\n",
       "      <th>Make</th>\n",
       "      <th>...</th>\n",
       "      <th>NumberofEngines</th>\n",
       "      <th>EngineType</th>\n",
       "      <th>FARDescription</th>\n",
       "      <th>Purposeofflight</th>\n",
       "      <th>TotalFatalInjuries</th>\n",
       "      <th>TotalSeriousInjuries</th>\n",
       "      <th>TotalMinorInjuries</th>\n",
       "      <th>TotalUninjured</th>\n",
       "      <th>WeatherCondition</th>\n",
       "      <th>Broadphaseofflight</th>\n",
       "    </tr>\n",
       "  </thead>\n",
       "  <tbody>\n",
       "    <tr>\n",
       "      <th>7</th>\n",
       "      <td>1982-01-01</td>\n",
       "      <td>PULLMAN, WA</td>\n",
       "      <td>United States</td>\n",
       "      <td>NaN</td>\n",
       "      <td>NaN</td>\n",
       "      <td>Non-Fatal</td>\n",
       "      <td>Substantial</td>\n",
       "      <td>Airplane</td>\n",
       "      <td>N2482N</td>\n",
       "      <td>Cessna</td>\n",
       "      <td>...</td>\n",
       "      <td>1.0</td>\n",
       "      <td>Reciprocating</td>\n",
       "      <td>Part 91: General Aviation</td>\n",
       "      <td>Personal</td>\n",
       "      <td>0.0</td>\n",
       "      <td>0.0</td>\n",
       "      <td>0.0</td>\n",
       "      <td>2.0</td>\n",
       "      <td>VMC</td>\n",
       "      <td>Takeoff</td>\n",
       "    </tr>\n",
       "    <tr>\n",
       "      <th>8</th>\n",
       "      <td>1982-01-01</td>\n",
       "      <td>EAST HANOVER, NJ</td>\n",
       "      <td>United States</td>\n",
       "      <td>NaN</td>\n",
       "      <td>NaN</td>\n",
       "      <td>Non-Fatal</td>\n",
       "      <td>Substantial</td>\n",
       "      <td>Airplane</td>\n",
       "      <td>N7967Q</td>\n",
       "      <td>Cessna</td>\n",
       "      <td>...</td>\n",
       "      <td>2.0</td>\n",
       "      <td>Reciprocating</td>\n",
       "      <td>Part 91: General Aviation</td>\n",
       "      <td>Business</td>\n",
       "      <td>0.0</td>\n",
       "      <td>0.0</td>\n",
       "      <td>0.0</td>\n",
       "      <td>2.0</td>\n",
       "      <td>IMC</td>\n",
       "      <td>Landing</td>\n",
       "    </tr>\n",
       "    <tr>\n",
       "      <th>12</th>\n",
       "      <td>1982-01-02</td>\n",
       "      <td>HOMER, LA</td>\n",
       "      <td>United States</td>\n",
       "      <td>NaN</td>\n",
       "      <td>NaN</td>\n",
       "      <td>Non-Fatal</td>\n",
       "      <td>Destroyed</td>\n",
       "      <td>Airplane</td>\n",
       "      <td>N14779</td>\n",
       "      <td>Bellanca</td>\n",
       "      <td>...</td>\n",
       "      <td>1.0</td>\n",
       "      <td>Reciprocating</td>\n",
       "      <td>Part 91: General Aviation</td>\n",
       "      <td>Personal</td>\n",
       "      <td>0.0</td>\n",
       "      <td>0.0</td>\n",
       "      <td>1.0</td>\n",
       "      <td>0.0</td>\n",
       "      <td>IMC</td>\n",
       "      <td>Cruise</td>\n",
       "    </tr>\n",
       "    <tr>\n",
       "      <th>13</th>\n",
       "      <td>1982-01-02</td>\n",
       "      <td>HEARNE, TX</td>\n",
       "      <td>United States</td>\n",
       "      <td>NaN</td>\n",
       "      <td>NaN</td>\n",
       "      <td>Fatal(1)</td>\n",
       "      <td>Destroyed</td>\n",
       "      <td>Airplane</td>\n",
       "      <td>N758SK</td>\n",
       "      <td>Cessna</td>\n",
       "      <td>...</td>\n",
       "      <td>1.0</td>\n",
       "      <td>Reciprocating</td>\n",
       "      <td>Part 91: General Aviation</td>\n",
       "      <td>Personal</td>\n",
       "      <td>1.0</td>\n",
       "      <td>0.0</td>\n",
       "      <td>0.0</td>\n",
       "      <td>0.0</td>\n",
       "      <td>IMC</td>\n",
       "      <td>Takeoff</td>\n",
       "    </tr>\n",
       "    <tr>\n",
       "      <th>14</th>\n",
       "      <td>1982-01-02</td>\n",
       "      <td>CHICKASHA, OK</td>\n",
       "      <td>United States</td>\n",
       "      <td>NaN</td>\n",
       "      <td>NaN</td>\n",
       "      <td>Fatal(1)</td>\n",
       "      <td>Destroyed</td>\n",
       "      <td>Airplane</td>\n",
       "      <td>N4876K</td>\n",
       "      <td>Navion</td>\n",
       "      <td>...</td>\n",
       "      <td>1.0</td>\n",
       "      <td>Reciprocating</td>\n",
       "      <td>Part 91: General Aviation</td>\n",
       "      <td>Personal</td>\n",
       "      <td>1.0</td>\n",
       "      <td>0.0</td>\n",
       "      <td>0.0</td>\n",
       "      <td>0.0</td>\n",
       "      <td>IMC</td>\n",
       "      <td>Cruise</td>\n",
       "    </tr>\n",
       "    <tr>\n",
       "      <th>...</th>\n",
       "      <td>...</td>\n",
       "      <td>...</td>\n",
       "      <td>...</td>\n",
       "      <td>...</td>\n",
       "      <td>...</td>\n",
       "      <td>...</td>\n",
       "      <td>...</td>\n",
       "      <td>...</td>\n",
       "      <td>...</td>\n",
       "      <td>...</td>\n",
       "      <td>...</td>\n",
       "      <td>...</td>\n",
       "      <td>...</td>\n",
       "      <td>...</td>\n",
       "      <td>...</td>\n",
       "      <td>...</td>\n",
       "      <td>...</td>\n",
       "      <td>...</td>\n",
       "      <td>...</td>\n",
       "      <td>...</td>\n",
       "      <td>...</td>\n",
       "    </tr>\n",
       "    <tr>\n",
       "      <th>88859</th>\n",
       "      <td>2022-12-09</td>\n",
       "      <td>Casa Grande, AZ</td>\n",
       "      <td>United States</td>\n",
       "      <td>325736N</td>\n",
       "      <td>1114536W</td>\n",
       "      <td>Non-Fatal</td>\n",
       "      <td>Substantial</td>\n",
       "      <td>Airplane</td>\n",
       "      <td>190DK</td>\n",
       "      <td>Arado-flugzeugwerke gmbh</td>\n",
       "      <td>...</td>\n",
       "      <td>1.0</td>\n",
       "      <td>NaN</td>\n",
       "      <td>091</td>\n",
       "      <td>Personal</td>\n",
       "      <td>0.0</td>\n",
       "      <td>0.0</td>\n",
       "      <td>0.0</td>\n",
       "      <td>1.0</td>\n",
       "      <td>VMC</td>\n",
       "      <td>NaN</td>\n",
       "    </tr>\n",
       "    <tr>\n",
       "      <th>88861</th>\n",
       "      <td>2022-12-10</td>\n",
       "      <td>Alabaster, AL</td>\n",
       "      <td>United States</td>\n",
       "      <td>331040N</td>\n",
       "      <td>0086470W</td>\n",
       "      <td>Non-Fatal</td>\n",
       "      <td>Substantial</td>\n",
       "      <td>Airplane</td>\n",
       "      <td>N5301G</td>\n",
       "      <td>Cessna</td>\n",
       "      <td>...</td>\n",
       "      <td>1.0</td>\n",
       "      <td>NaN</td>\n",
       "      <td>091</td>\n",
       "      <td>Personal</td>\n",
       "      <td>0.0</td>\n",
       "      <td>0.0</td>\n",
       "      <td>0.0</td>\n",
       "      <td>2.0</td>\n",
       "      <td>NaN</td>\n",
       "      <td>NaN</td>\n",
       "    </tr>\n",
       "    <tr>\n",
       "      <th>88873</th>\n",
       "      <td>2022-12-14</td>\n",
       "      <td>San Juan, PR</td>\n",
       "      <td>United States</td>\n",
       "      <td>182724N</td>\n",
       "      <td>0066554W</td>\n",
       "      <td>Non-Fatal</td>\n",
       "      <td>Substantial</td>\n",
       "      <td>Airplane</td>\n",
       "      <td>N416PC</td>\n",
       "      <td>Cirrus design corp</td>\n",
       "      <td>...</td>\n",
       "      <td>1.0</td>\n",
       "      <td>NaN</td>\n",
       "      <td>091</td>\n",
       "      <td>Personal</td>\n",
       "      <td>0.0</td>\n",
       "      <td>0.0</td>\n",
       "      <td>0.0</td>\n",
       "      <td>1.0</td>\n",
       "      <td>VMC</td>\n",
       "      <td>NaN</td>\n",
       "    </tr>\n",
       "    <tr>\n",
       "      <th>88877</th>\n",
       "      <td>2022-12-16</td>\n",
       "      <td>Brooksville, FL</td>\n",
       "      <td>United States</td>\n",
       "      <td>282825N</td>\n",
       "      <td>0822719W</td>\n",
       "      <td>Minor</td>\n",
       "      <td>Substantial</td>\n",
       "      <td>Airplane</td>\n",
       "      <td>N5405V</td>\n",
       "      <td>Cessna</td>\n",
       "      <td>...</td>\n",
       "      <td>1.0</td>\n",
       "      <td>NaN</td>\n",
       "      <td>091</td>\n",
       "      <td>Personal</td>\n",
       "      <td>0.0</td>\n",
       "      <td>1.0</td>\n",
       "      <td>0.0</td>\n",
       "      <td>0.0</td>\n",
       "      <td>VMC</td>\n",
       "      <td>NaN</td>\n",
       "    </tr>\n",
       "    <tr>\n",
       "      <th>88886</th>\n",
       "      <td>2022-12-26</td>\n",
       "      <td>Payson, AZ</td>\n",
       "      <td>United States</td>\n",
       "      <td>341525N</td>\n",
       "      <td>1112021W</td>\n",
       "      <td>Non-Fatal</td>\n",
       "      <td>Substantial</td>\n",
       "      <td>Airplane</td>\n",
       "      <td>N749PJ</td>\n",
       "      <td>American champion aircraft</td>\n",
       "      <td>...</td>\n",
       "      <td>1.0</td>\n",
       "      <td>NaN</td>\n",
       "      <td>091</td>\n",
       "      <td>Personal</td>\n",
       "      <td>0.0</td>\n",
       "      <td>0.0</td>\n",
       "      <td>0.0</td>\n",
       "      <td>1.0</td>\n",
       "      <td>VMC</td>\n",
       "      <td>NaN</td>\n",
       "    </tr>\n",
       "  </tbody>\n",
       "</table>\n",
       "<p>19324 rows × 22 columns</p>\n",
       "</div>"
      ],
      "text/plain": [
       "        EventDate          Location        Country Latitude Longitude  \\\n",
       "7      1982-01-01       PULLMAN, WA  United States      NaN       NaN   \n",
       "8      1982-01-01  EAST HANOVER, NJ  United States      NaN       NaN   \n",
       "12     1982-01-02         HOMER, LA  United States      NaN       NaN   \n",
       "13     1982-01-02        HEARNE, TX  United States      NaN       NaN   \n",
       "14     1982-01-02     CHICKASHA, OK  United States      NaN       NaN   \n",
       "...           ...               ...            ...      ...       ...   \n",
       "88859  2022-12-09   Casa Grande, AZ  United States  325736N  1114536W   \n",
       "88861  2022-12-10     Alabaster, AL  United States  331040N  0086470W   \n",
       "88873  2022-12-14      San Juan, PR  United States  182724N  0066554W   \n",
       "88877  2022-12-16   Brooksville, FL  United States  282825N  0822719W   \n",
       "88886  2022-12-26        Payson, AZ  United States  341525N  1112021W   \n",
       "\n",
       "      InjurySeverity Aircraftdamage AircraftCategory RegistrationNumber  \\\n",
       "7          Non-Fatal    Substantial         Airplane             N2482N   \n",
       "8          Non-Fatal    Substantial         Airplane             N7967Q   \n",
       "12         Non-Fatal      Destroyed         Airplane             N14779   \n",
       "13          Fatal(1)      Destroyed         Airplane             N758SK   \n",
       "14          Fatal(1)      Destroyed         Airplane             N4876K   \n",
       "...              ...            ...              ...                ...   \n",
       "88859      Non-Fatal    Substantial         Airplane              190DK   \n",
       "88861      Non-Fatal    Substantial         Airplane             N5301G   \n",
       "88873      Non-Fatal    Substantial         Airplane             N416PC   \n",
       "88877          Minor    Substantial         Airplane             N5405V   \n",
       "88886      Non-Fatal    Substantial         Airplane             N749PJ   \n",
       "\n",
       "                             Make  ... NumberofEngines     EngineType  \\\n",
       "7                          Cessna  ...             1.0  Reciprocating   \n",
       "8                          Cessna  ...             2.0  Reciprocating   \n",
       "12                       Bellanca  ...             1.0  Reciprocating   \n",
       "13                         Cessna  ...             1.0  Reciprocating   \n",
       "14                         Navion  ...             1.0  Reciprocating   \n",
       "...                           ...  ...             ...            ...   \n",
       "88859    Arado-flugzeugwerke gmbh  ...             1.0            NaN   \n",
       "88861                      Cessna  ...             1.0            NaN   \n",
       "88873          Cirrus design corp  ...             1.0            NaN   \n",
       "88877                      Cessna  ...             1.0            NaN   \n",
       "88886  American champion aircraft  ...             1.0            NaN   \n",
       "\n",
       "                  FARDescription Purposeofflight TotalFatalInjuries  \\\n",
       "7      Part 91: General Aviation        Personal                0.0   \n",
       "8      Part 91: General Aviation        Business                0.0   \n",
       "12     Part 91: General Aviation        Personal                0.0   \n",
       "13     Part 91: General Aviation        Personal                1.0   \n",
       "14     Part 91: General Aviation        Personal                1.0   \n",
       "...                          ...             ...                ...   \n",
       "88859                        091        Personal                0.0   \n",
       "88861                        091        Personal                0.0   \n",
       "88873                        091        Personal                0.0   \n",
       "88877                        091        Personal                0.0   \n",
       "88886                        091        Personal                0.0   \n",
       "\n",
       "      TotalSeriousInjuries  TotalMinorInjuries  TotalUninjured  \\\n",
       "7                      0.0                 0.0             2.0   \n",
       "8                      0.0                 0.0             2.0   \n",
       "12                     0.0                 1.0             0.0   \n",
       "13                     0.0                 0.0             0.0   \n",
       "14                     0.0                 0.0             0.0   \n",
       "...                    ...                 ...             ...   \n",
       "88859                  0.0                 0.0             1.0   \n",
       "88861                  0.0                 0.0             2.0   \n",
       "88873                  0.0                 0.0             1.0   \n",
       "88877                  1.0                 0.0             0.0   \n",
       "88886                  0.0                 0.0             1.0   \n",
       "\n",
       "       WeatherCondition  Broadphaseofflight  \n",
       "7                   VMC             Takeoff  \n",
       "8                   IMC             Landing  \n",
       "12                  IMC              Cruise  \n",
       "13                  IMC             Takeoff  \n",
       "14                  IMC              Cruise  \n",
       "...                 ...                 ...  \n",
       "88859               VMC                 NaN  \n",
       "88861               NaN                 NaN  \n",
       "88873               VMC                 NaN  \n",
       "88877               VMC                 NaN  \n",
       "88886               VMC                 NaN  \n",
       "\n",
       "[19324 rows x 22 columns]"
      ]
     },
     "execution_count": 417,
     "metadata": {},
     "output_type": "execute_result"
    }
   ],
   "source": [
    "selectcraft = [\"Personal\", \"Business\", \"Executive/corporate\", \"Aerial Application\", \"Banner Tow\", \"Aerial Observation\", \"Skydiving\", \"Ferry\", \"Flight Test\", \"Positioning\"]\n",
    "selectcraftSample = airplane_df['Purposeofflight'].isin(selectcraft)\n",
    "airplaneCommPrivUse_df =airplane_df[selectcraftSample]\n",
    "airplaneCommPrivUse_df"
   ]
  },
  {
   "cell_type": "code",
   "execution_count": 418,
   "metadata": {},
   "outputs": [
    {
     "data": {
      "text/plain": [
       "EventDate                   0\n",
       "Location                    0\n",
       "Country                     4\n",
       "Latitude                 2577\n",
       "Longitude                2586\n",
       "InjurySeverity             19\n",
       "Aircraftdamage            108\n",
       "AircraftCategory            0\n",
       "RegistrationNumber         39\n",
       "Make                        0\n",
       "Model                       0\n",
       "AmateurBuilt                4\n",
       "NumberofEngines           664\n",
       "EngineType               1638\n",
       "FARDescription              0\n",
       "Purposeofflight             0\n",
       "TotalFatalInjuries       2303\n",
       "TotalSeriousInjuries     2326\n",
       "TotalMinorInjuries       2021\n",
       "TotalUninjured            646\n",
       "WeatherCondition          493\n",
       "Broadphaseofflight      14537\n",
       "dtype: int64"
      ]
     },
     "execution_count": 418,
     "metadata": {},
     "output_type": "execute_result"
    }
   ],
   "source": [
    "airplaneCommPrivUse_df.isna().sum()"
   ]
  },
  {
   "cell_type": "markdown",
   "metadata": {},
   "source": [
    "## EDA\n",
    "### Checking history data\n",
    "Let us check on the make and model of the aircrafts. This will show which ones are used/bought often.\n",
    "\n",
    "Later we will examine Aircraft Damage by reviewing the historical damage records of each aircraft model. Models with frequent or severe damage might indicate higher risk\n",
    "\n",
    "Assess Injury Severity: Analyze the severity of injuries reported for each aircraft model. Lower injury severity can indicate better safety performance.\n",
    "\n",
    "Review Total Fatal and Serious Injuries: High numbers of fatal or serious injuries might be red flags. Compare these numbers across different aircraft models to identify safer options\n"
   ]
  },
  {
   "cell_type": "code",
   "execution_count": 95,
   "metadata": {},
   "outputs": [],
   "source": [
    "#aviation_df.boxplot(column =['TotalUninjured'], grid = False)\n",
    "#plt.title(\"Model outlier\")\n",
    "#plt.xlabel(\"model x axis\")\n",
    "#plt.ylabel(\"model y axis\")\n",
    "#plt.show()"
   ]
  },
  {
   "cell_type": "code",
   "execution_count": 436,
   "metadata": {},
   "outputs": [
    {
     "name": "stdout",
     "output_type": "stream",
     "text": [
      "<class 'pandas.core.frame.DataFrame'>\n",
      "Int64Index: 19324 entries, 7 to 88886\n",
      "Data columns (total 22 columns):\n",
      " #   Column                Non-Null Count  Dtype  \n",
      "---  ------                --------------  -----  \n",
      " 0   EventDate             19324 non-null  object \n",
      " 1   Location              19324 non-null  object \n",
      " 2   Country               19320 non-null  object \n",
      " 3   Latitude              16747 non-null  object \n",
      " 4   Longitude             16738 non-null  object \n",
      " 5   InjurySeverity        19305 non-null  object \n",
      " 6   Aircraftdamage        19216 non-null  object \n",
      " 7   AircraftCategory      19324 non-null  object \n",
      " 8   RegistrationNumber    19285 non-null  object \n",
      " 9   Make                  19324 non-null  object \n",
      " 10  Model                 19324 non-null  object \n",
      " 11  AmateurBuilt          19320 non-null  object \n",
      " 12  NumberofEngines       18660 non-null  float64\n",
      " 13  EngineType            17686 non-null  object \n",
      " 14  FARDescription        19324 non-null  object \n",
      " 15  Purposeofflight       19324 non-null  object \n",
      " 16  TotalFatalInjuries    17021 non-null  float64\n",
      " 17  TotalSeriousInjuries  16998 non-null  float64\n",
      " 18  TotalMinorInjuries    17303 non-null  float64\n",
      " 19  TotalUninjured        18678 non-null  float64\n",
      " 20  WeatherCondition      18831 non-null  object \n",
      " 21  Broadphaseofflight    4787 non-null   object \n",
      "dtypes: float64(5), object(17)\n",
      "memory usage: 3.4+ MB\n"
     ]
    }
   ],
   "source": [
    "airplaneCommPrivUse_df.info()"
   ]
  },
  {
   "cell_type": "code",
   "execution_count": 445,
   "metadata": {},
   "outputs": [
    {
     "data": {
      "image/png": "[encoded data removed]",
      "text/plain": [
       "<Figure size 432x288 with 1 Axes>"
      ]
     },
     "metadata": {
      "needs_background": "light"
     },
     "output_type": "display_data"
    }
   ],
   "source": [
    "df =airplaneCommPrivUse_df[:10]\n",
    "plt.scatter(x=df['Make'], y=df[\"Model\"])\n",
    "plt.show()"
   ]
  },
  {
   "cell_type": "code",
   "execution_count": 457,
   "metadata": {},
   "outputs": [
    {
     "data": {
      "text/plain": [
       "[Cessna      6\n",
       " Piper       1\n",
       " Navion      1\n",
       " Bellanca    1\n",
       " Beech       1\n",
       " Name: Make, dtype: int64]"
      ]
     },
     "execution_count": 457,
     "metadata": {},
     "output_type": "execute_result"
    }
   ],
   "source": [
    "[df['Make'].value_counts()]"
   ]
  },
  {
   "cell_type": "code",
   "execution_count": 461,
   "metadata": {},
   "outputs": [
    {
     "data": {
      "text/plain": [
       "array(['Cessna', 'Bellanca', 'Navion', 'Beech', 'Piper'], dtype=object)"
      ]
     },
     "execution_count": 461,
     "metadata": {},
     "output_type": "execute_result"
    }
   ],
   "source": [
    "df['Make'].unique()"
   ]
  },
  {
   "cell_type": "code",
   "execution_count": 464,
   "metadata": {},
   "outputs": [
    {
     "data": {
      "image/png": "[encoded data removed]",
      "text/plain": [
       "<Figure size 432x288 with 1 Axes>"
      ]
     },
     "metadata": {
      "needs_background": "light"
     },
     "output_type": "display_data"
    }
   ],
   "source": [
    "df =airplaneCommPrivUse_df[:10]\n",
    "plt.bar(x=df['Make'], y=len(df[\"Model\"]), height=8)\n",
    "plt.show()\n",
    "#df['Make'].value_counts()"
   ]
  },
  {
   "cell_type": "code",
   "execution_count": 428,
   "metadata": {},
   "outputs": [
    {
     "data": {
      "text/plain": [
       "EventDate               0\n",
       "Location                0\n",
       "Country                 0\n",
       "Latitude                0\n",
       "Longitude               0\n",
       "InjurySeverity          0\n",
       "Aircraftdamage          0\n",
       "AircraftCategory        0\n",
       "RegistrationNumber      0\n",
       "Make                    0\n",
       "Model                   0\n",
       "AmateurBuilt            0\n",
       "NumberofEngines         0\n",
       "EngineType              0\n",
       "FARDescription          0\n",
       "Purposeofflight         0\n",
       "TotalFatalInjuries      0\n",
       "TotalSeriousInjuries    0\n",
       "TotalMinorInjuries      0\n",
       "TotalUninjured          0\n",
       "WeatherCondition        0\n",
       "Broadphaseofflight      0\n",
       "dtype: int64"
      ]
     },
     "execution_count": 428,
     "metadata": {},
     "output_type": "execute_result"
    }
   ],
   "source": [
    "df3 = airplaneCommPrivUse_df.dropna()\n",
    "len(df3)\n",
    "df3.isna().sum()"
   ]
  }
 ],
 "metadata": {
  "kernelspec": {
   "display_name": "learn-env",
   "language": "python",
   "name": "python3"
  },
  "language_info": {
   "codemirror_mode": {
    "name": "ipython",
    "version": 3
   },
   "file_extension": ".py",
   "mimetype": "text/x-python",
   "name": "python",
   "nbconvert_exporter": "python",
   "pygments_lexer": "ipython3",
   "version": "3.8.5"
  }
 },
 "nbformat": 4,
 "nbformat_minor": 2
}
