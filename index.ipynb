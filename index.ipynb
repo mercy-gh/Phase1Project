{
 "cells": [
  {
   "cell_type": "markdown",
   "metadata": {},
   "source": [
    "# Phase1 Project: Aviation Accidents Data Analysis and Insights"
   ]
  },
  {
   "cell_type": "markdown",
   "metadata": {},
   "source": [
    "## Overview\n",
    "The project seeks to explore data on different aircrafts accidents in order to advise company stakeholders on which type of aircraft to choose for business as they would like to join this industry. The [dataset&rArr;](https://www.kaggle.com/datasets/khsamaha/aviation-accident-database-synopses), from the National Transportation Safety Board that includes aviation accident data and selected incidents covering United States, its territories and international waters from 1962 and later.\n",
    "\n",
    "## Business\n",
    "The company is seeking to start a new business endeavor, operating aircrafts for commercial and private enterprises, in which they are novice to it. The stakeholders are seeking to understand what type of aircrafts have low risk to accidents from prevoius occurences. \n",
    "\n",
    "The dataset has various incidents since 1962. The information on the database is on continual update once an incident happens. Using this data would help identify the patterns/trends on these occurences. \n",
    "\n",
    "At the end of the data analysis, getting aircraft types which are low-risk we need to answer questions such as: \n",
    "    \n",
    "    what factors should we consider for low risk. This may include looking at the number of injuries, level of damage, etc.\n",
    "\n",
    "    What make have minimal or no accidents, which models specifically?\n",
    "    \n",
    "    what level of damage did they acquire during those incidences?\n",
    "    \n",
    " This would aid in making decisions on which type of aircrafts to purchase."
   ]
  },
  {
   "cell_type": "markdown",
   "metadata": {},
   "source": [
    "## Data\n",
    "Let's check what the data is about. We will use python methods and its libraries to explore the data."
   ]
  },
  {
   "cell_type": "code",
   "execution_count": 316,
   "metadata": {},
   "outputs": [],
   "source": [
    "# Importing Libraries\n",
    "import pandas as pd\n",
    "import numpy as np\n",
    "import matplotlib.pyplot as plt\n",
    "%matplotlib inline"
   ]
  },
  {
   "cell_type": "code",
   "execution_count": 317,
   "metadata": {},
   "outputs": [],
   "source": [
    "#Open and reeding the datasets\n",
    "aviation_df = pd.read_csv(\"AviationData.csv\", encoding='cp1252', engine='python')# or use 'low_memory=False'\n",
    "usstate_df = pd.read_csv(\"USState_Codes.csv\", encoding='cp1252')"
   ]
  },
  {
   "cell_type": "code",
   "execution_count": 318,
   "metadata": {},
   "outputs": [
    {
     "data": {
      "text/html": [
       "<div>\n",
       "<style scoped>\n",
       "    .dataframe tbody tr th:only-of-type {\n",
       "        vertical-align: middle;\n",
       "    }\n",
       "\n",
       "    .dataframe tbody tr th {\n",
       "        vertical-align: top;\n",
       "    }\n",
       "\n",
       "    .dataframe thead th {\n",
       "        text-align: right;\n",
       "    }\n",
       "</style>\n",
       "<table border=\"1\" class=\"dataframe\">\n",
       "  <thead>\n",
       "    <tr style=\"text-align: right;\">\n",
       "      <th></th>\n",
       "      <th>Event.Id</th>\n",
       "      <th>Investigation.Type</th>\n",
       "      <th>Accident.Number</th>\n",
       "      <th>Event.Date</th>\n",
       "      <th>Location</th>\n",
       "      <th>Country</th>\n",
       "      <th>Latitude</th>\n",
       "      <th>Longitude</th>\n",
       "      <th>Airport.Code</th>\n",
       "      <th>Airport.Name</th>\n",
       "      <th>...</th>\n",
       "      <th>Purpose.of.flight</th>\n",
       "      <th>Air.carrier</th>\n",
       "      <th>Total.Fatal.Injuries</th>\n",
       "      <th>Total.Serious.Injuries</th>\n",
       "      <th>Total.Minor.Injuries</th>\n",
       "      <th>Total.Uninjured</th>\n",
       "      <th>Weather.Condition</th>\n",
       "      <th>Broad.phase.of.flight</th>\n",
       "      <th>Report.Status</th>\n",
       "      <th>Publication.Date</th>\n",
       "    </tr>\n",
       "  </thead>\n",
       "  <tbody>\n",
       "    <tr>\n",
       "      <th>0</th>\n",
       "      <td>20001218X45444</td>\n",
       "      <td>Accident</td>\n",
       "      <td>SEA87LA080</td>\n",
       "      <td>1948-10-24</td>\n",
       "      <td>MOOSE CREEK, ID</td>\n",
       "      <td>United States</td>\n",
       "      <td>NaN</td>\n",
       "      <td>NaN</td>\n",
       "      <td>NaN</td>\n",
       "      <td>NaN</td>\n",
       "      <td>...</td>\n",
       "      <td>Personal</td>\n",
       "      <td>NaN</td>\n",
       "      <td>2.0</td>\n",
       "      <td>0.0</td>\n",
       "      <td>0.0</td>\n",
       "      <td>0.0</td>\n",
       "      <td>UNK</td>\n",
       "      <td>Cruise</td>\n",
       "      <td>Probable Cause</td>\n",
       "      <td>NaN</td>\n",
       "    </tr>\n",
       "    <tr>\n",
       "      <th>1</th>\n",
       "      <td>20001218X45447</td>\n",
       "      <td>Accident</td>\n",
       "      <td>LAX94LA336</td>\n",
       "      <td>1962-07-19</td>\n",
       "      <td>BRIDGEPORT, CA</td>\n",
       "      <td>United States</td>\n",
       "      <td>NaN</td>\n",
       "      <td>NaN</td>\n",
       "      <td>NaN</td>\n",
       "      <td>NaN</td>\n",
       "      <td>...</td>\n",
       "      <td>Personal</td>\n",
       "      <td>NaN</td>\n",
       "      <td>4.0</td>\n",
       "      <td>0.0</td>\n",
       "      <td>0.0</td>\n",
       "      <td>0.0</td>\n",
       "      <td>UNK</td>\n",
       "      <td>Unknown</td>\n",
       "      <td>Probable Cause</td>\n",
       "      <td>19-09-1996</td>\n",
       "    </tr>\n",
       "    <tr>\n",
       "      <th>2</th>\n",
       "      <td>20061025X01555</td>\n",
       "      <td>Accident</td>\n",
       "      <td>NYC07LA005</td>\n",
       "      <td>1974-08-30</td>\n",
       "      <td>Saltville, VA</td>\n",
       "      <td>United States</td>\n",
       "      <td>36.922223</td>\n",
       "      <td>-81.878056</td>\n",
       "      <td>NaN</td>\n",
       "      <td>NaN</td>\n",
       "      <td>...</td>\n",
       "      <td>Personal</td>\n",
       "      <td>NaN</td>\n",
       "      <td>3.0</td>\n",
       "      <td>NaN</td>\n",
       "      <td>NaN</td>\n",
       "      <td>NaN</td>\n",
       "      <td>IMC</td>\n",
       "      <td>Cruise</td>\n",
       "      <td>Probable Cause</td>\n",
       "      <td>26-02-2007</td>\n",
       "    </tr>\n",
       "    <tr>\n",
       "      <th>3</th>\n",
       "      <td>20001218X45448</td>\n",
       "      <td>Accident</td>\n",
       "      <td>LAX96LA321</td>\n",
       "      <td>1977-06-19</td>\n",
       "      <td>EUREKA, CA</td>\n",
       "      <td>United States</td>\n",
       "      <td>NaN</td>\n",
       "      <td>NaN</td>\n",
       "      <td>NaN</td>\n",
       "      <td>NaN</td>\n",
       "      <td>...</td>\n",
       "      <td>Personal</td>\n",
       "      <td>NaN</td>\n",
       "      <td>2.0</td>\n",
       "      <td>0.0</td>\n",
       "      <td>0.0</td>\n",
       "      <td>0.0</td>\n",
       "      <td>IMC</td>\n",
       "      <td>Cruise</td>\n",
       "      <td>Probable Cause</td>\n",
       "      <td>12-09-2000</td>\n",
       "    </tr>\n",
       "    <tr>\n",
       "      <th>4</th>\n",
       "      <td>20041105X01764</td>\n",
       "      <td>Accident</td>\n",
       "      <td>CHI79FA064</td>\n",
       "      <td>1979-08-02</td>\n",
       "      <td>Canton, OH</td>\n",
       "      <td>United States</td>\n",
       "      <td>NaN</td>\n",
       "      <td>NaN</td>\n",
       "      <td>NaN</td>\n",
       "      <td>NaN</td>\n",
       "      <td>...</td>\n",
       "      <td>Personal</td>\n",
       "      <td>NaN</td>\n",
       "      <td>1.0</td>\n",
       "      <td>2.0</td>\n",
       "      <td>NaN</td>\n",
       "      <td>0.0</td>\n",
       "      <td>VMC</td>\n",
       "      <td>Approach</td>\n",
       "      <td>Probable Cause</td>\n",
       "      <td>16-04-1980</td>\n",
       "    </tr>\n",
       "  </tbody>\n",
       "</table>\n",
       "<p>5 rows × 31 columns</p>\n",
       "</div>"
      ],
      "text/plain": [
       "         Event.Id Investigation.Type Accident.Number  Event.Date  \\\n",
       "0  20001218X45444           Accident      SEA87LA080  1948-10-24   \n",
       "1  20001218X45447           Accident      LAX94LA336  1962-07-19   \n",
       "2  20061025X01555           Accident      NYC07LA005  1974-08-30   \n",
       "3  20001218X45448           Accident      LAX96LA321  1977-06-19   \n",
       "4  20041105X01764           Accident      CHI79FA064  1979-08-02   \n",
       "\n",
       "          Location        Country   Latitude   Longitude Airport.Code  \\\n",
       "0  MOOSE CREEK, ID  United States        NaN         NaN          NaN   \n",
       "1   BRIDGEPORT, CA  United States        NaN         NaN          NaN   \n",
       "2    Saltville, VA  United States  36.922223  -81.878056          NaN   \n",
       "3       EUREKA, CA  United States        NaN         NaN          NaN   \n",
       "4       Canton, OH  United States        NaN         NaN          NaN   \n",
       "\n",
       "  Airport.Name  ... Purpose.of.flight Air.carrier Total.Fatal.Injuries  \\\n",
       "0          NaN  ...          Personal         NaN                  2.0   \n",
       "1          NaN  ...          Personal         NaN                  4.0   \n",
       "2          NaN  ...          Personal         NaN                  3.0   \n",
       "3          NaN  ...          Personal         NaN                  2.0   \n",
       "4          NaN  ...          Personal         NaN                  1.0   \n",
       "\n",
       "  Total.Serious.Injuries Total.Minor.Injuries Total.Uninjured  \\\n",
       "0                    0.0                  0.0             0.0   \n",
       "1                    0.0                  0.0             0.0   \n",
       "2                    NaN                  NaN             NaN   \n",
       "3                    0.0                  0.0             0.0   \n",
       "4                    2.0                  NaN             0.0   \n",
       "\n",
       "  Weather.Condition  Broad.phase.of.flight   Report.Status Publication.Date  \n",
       "0               UNK                 Cruise  Probable Cause              NaN  \n",
       "1               UNK                Unknown  Probable Cause       19-09-1996  \n",
       "2               IMC                 Cruise  Probable Cause       26-02-2007  \n",
       "3               IMC                 Cruise  Probable Cause       12-09-2000  \n",
       "4               VMC               Approach  Probable Cause       16-04-1980  \n",
       "\n",
       "[5 rows x 31 columns]"
      ]
     },
     "execution_count": 318,
     "metadata": {},
     "output_type": "execute_result"
    }
   ],
   "source": [
    "#get top 5 rows of aviation data\n",
    "aviation_df.head()"
   ]
  },
  {
   "cell_type": "markdown",
   "metadata": {},
   "source": [
    "From the first five records, we see that there are some null values."
   ]
  },
  {
   "cell_type": "code",
   "execution_count": 319,
   "metadata": {},
   "outputs": [
    {
     "data": {
      "text/html": [
       "<div>\n",
       "<style scoped>\n",
       "    .dataframe tbody tr th:only-of-type {\n",
       "        vertical-align: middle;\n",
       "    }\n",
       "\n",
       "    .dataframe tbody tr th {\n",
       "        vertical-align: top;\n",
       "    }\n",
       "\n",
       "    .dataframe thead th {\n",
       "        text-align: right;\n",
       "    }\n",
       "</style>\n",
       "<table border=\"1\" class=\"dataframe\">\n",
       "  <thead>\n",
       "    <tr style=\"text-align: right;\">\n",
       "      <th></th>\n",
       "      <th>Event.Id</th>\n",
       "      <th>Investigation.Type</th>\n",
       "      <th>Accident.Number</th>\n",
       "      <th>Event.Date</th>\n",
       "      <th>Location</th>\n",
       "      <th>Country</th>\n",
       "      <th>Latitude</th>\n",
       "      <th>Longitude</th>\n",
       "      <th>Airport.Code</th>\n",
       "      <th>Airport.Name</th>\n",
       "      <th>...</th>\n",
       "      <th>Purpose.of.flight</th>\n",
       "      <th>Air.carrier</th>\n",
       "      <th>Total.Fatal.Injuries</th>\n",
       "      <th>Total.Serious.Injuries</th>\n",
       "      <th>Total.Minor.Injuries</th>\n",
       "      <th>Total.Uninjured</th>\n",
       "      <th>Weather.Condition</th>\n",
       "      <th>Broad.phase.of.flight</th>\n",
       "      <th>Report.Status</th>\n",
       "      <th>Publication.Date</th>\n",
       "    </tr>\n",
       "  </thead>\n",
       "  <tbody>\n",
       "    <tr>\n",
       "      <th>88884</th>\n",
       "      <td>20221227106491</td>\n",
       "      <td>Accident</td>\n",
       "      <td>ERA23LA093</td>\n",
       "      <td>2022-12-26</td>\n",
       "      <td>Annapolis, MD</td>\n",
       "      <td>United States</td>\n",
       "      <td>NaN</td>\n",
       "      <td>NaN</td>\n",
       "      <td>NaN</td>\n",
       "      <td>NaN</td>\n",
       "      <td>...</td>\n",
       "      <td>Personal</td>\n",
       "      <td>NaN</td>\n",
       "      <td>0.0</td>\n",
       "      <td>1.0</td>\n",
       "      <td>0.0</td>\n",
       "      <td>0.0</td>\n",
       "      <td>NaN</td>\n",
       "      <td>NaN</td>\n",
       "      <td>NaN</td>\n",
       "      <td>29-12-2022</td>\n",
       "    </tr>\n",
       "    <tr>\n",
       "      <th>88885</th>\n",
       "      <td>20221227106494</td>\n",
       "      <td>Accident</td>\n",
       "      <td>ERA23LA095</td>\n",
       "      <td>2022-12-26</td>\n",
       "      <td>Hampton, NH</td>\n",
       "      <td>United States</td>\n",
       "      <td>NaN</td>\n",
       "      <td>NaN</td>\n",
       "      <td>NaN</td>\n",
       "      <td>NaN</td>\n",
       "      <td>...</td>\n",
       "      <td>NaN</td>\n",
       "      <td>NaN</td>\n",
       "      <td>0.0</td>\n",
       "      <td>0.0</td>\n",
       "      <td>0.0</td>\n",
       "      <td>0.0</td>\n",
       "      <td>NaN</td>\n",
       "      <td>NaN</td>\n",
       "      <td>NaN</td>\n",
       "      <td>NaN</td>\n",
       "    </tr>\n",
       "    <tr>\n",
       "      <th>88886</th>\n",
       "      <td>20221227106497</td>\n",
       "      <td>Accident</td>\n",
       "      <td>WPR23LA075</td>\n",
       "      <td>2022-12-26</td>\n",
       "      <td>Payson, AZ</td>\n",
       "      <td>United States</td>\n",
       "      <td>341525N</td>\n",
       "      <td>1112021W</td>\n",
       "      <td>PAN</td>\n",
       "      <td>PAYSON</td>\n",
       "      <td>...</td>\n",
       "      <td>Personal</td>\n",
       "      <td>NaN</td>\n",
       "      <td>0.0</td>\n",
       "      <td>0.0</td>\n",
       "      <td>0.0</td>\n",
       "      <td>1.0</td>\n",
       "      <td>VMC</td>\n",
       "      <td>NaN</td>\n",
       "      <td>NaN</td>\n",
       "      <td>27-12-2022</td>\n",
       "    </tr>\n",
       "    <tr>\n",
       "      <th>88887</th>\n",
       "      <td>20221227106498</td>\n",
       "      <td>Accident</td>\n",
       "      <td>WPR23LA076</td>\n",
       "      <td>2022-12-26</td>\n",
       "      <td>Morgan, UT</td>\n",
       "      <td>United States</td>\n",
       "      <td>NaN</td>\n",
       "      <td>NaN</td>\n",
       "      <td>NaN</td>\n",
       "      <td>NaN</td>\n",
       "      <td>...</td>\n",
       "      <td>Personal</td>\n",
       "      <td>MC CESSNA 210N LLC</td>\n",
       "      <td>0.0</td>\n",
       "      <td>0.0</td>\n",
       "      <td>0.0</td>\n",
       "      <td>0.0</td>\n",
       "      <td>NaN</td>\n",
       "      <td>NaN</td>\n",
       "      <td>NaN</td>\n",
       "      <td>NaN</td>\n",
       "    </tr>\n",
       "    <tr>\n",
       "      <th>88888</th>\n",
       "      <td>20221230106513</td>\n",
       "      <td>Accident</td>\n",
       "      <td>ERA23LA097</td>\n",
       "      <td>2022-12-29</td>\n",
       "      <td>Athens, GA</td>\n",
       "      <td>United States</td>\n",
       "      <td>NaN</td>\n",
       "      <td>NaN</td>\n",
       "      <td>NaN</td>\n",
       "      <td>NaN</td>\n",
       "      <td>...</td>\n",
       "      <td>Personal</td>\n",
       "      <td>NaN</td>\n",
       "      <td>0.0</td>\n",
       "      <td>1.0</td>\n",
       "      <td>0.0</td>\n",
       "      <td>1.0</td>\n",
       "      <td>NaN</td>\n",
       "      <td>NaN</td>\n",
       "      <td>NaN</td>\n",
       "      <td>30-12-2022</td>\n",
       "    </tr>\n",
       "  </tbody>\n",
       "</table>\n",
       "<p>5 rows × 31 columns</p>\n",
       "</div>"
      ],
      "text/plain": [
       "             Event.Id Investigation.Type Accident.Number  Event.Date  \\\n",
       "88884  20221227106491           Accident      ERA23LA093  2022-12-26   \n",
       "88885  20221227106494           Accident      ERA23LA095  2022-12-26   \n",
       "88886  20221227106497           Accident      WPR23LA075  2022-12-26   \n",
       "88887  20221227106498           Accident      WPR23LA076  2022-12-26   \n",
       "88888  20221230106513           Accident      ERA23LA097  2022-12-29   \n",
       "\n",
       "            Location        Country Latitude Longitude Airport.Code  \\\n",
       "88884  Annapolis, MD  United States      NaN       NaN          NaN   \n",
       "88885    Hampton, NH  United States      NaN       NaN          NaN   \n",
       "88886     Payson, AZ  United States  341525N  1112021W          PAN   \n",
       "88887     Morgan, UT  United States      NaN       NaN          NaN   \n",
       "88888     Athens, GA  United States      NaN       NaN          NaN   \n",
       "\n",
       "      Airport.Name  ... Purpose.of.flight         Air.carrier  \\\n",
       "88884          NaN  ...          Personal                 NaN   \n",
       "88885          NaN  ...               NaN                 NaN   \n",
       "88886       PAYSON  ...          Personal                 NaN   \n",
       "88887          NaN  ...          Personal  MC CESSNA 210N LLC   \n",
       "88888          NaN  ...          Personal                 NaN   \n",
       "\n",
       "      Total.Fatal.Injuries Total.Serious.Injuries Total.Minor.Injuries  \\\n",
       "88884                  0.0                    1.0                  0.0   \n",
       "88885                  0.0                    0.0                  0.0   \n",
       "88886                  0.0                    0.0                  0.0   \n",
       "88887                  0.0                    0.0                  0.0   \n",
       "88888                  0.0                    1.0                  0.0   \n",
       "\n",
       "      Total.Uninjured Weather.Condition  Broad.phase.of.flight Report.Status  \\\n",
       "88884             0.0               NaN                    NaN           NaN   \n",
       "88885             0.0               NaN                    NaN           NaN   \n",
       "88886             1.0               VMC                    NaN           NaN   \n",
       "88887             0.0               NaN                    NaN           NaN   \n",
       "88888             1.0               NaN                    NaN           NaN   \n",
       "\n",
       "      Publication.Date  \n",
       "88884       29-12-2022  \n",
       "88885              NaN  \n",
       "88886       27-12-2022  \n",
       "88887              NaN  \n",
       "88888       30-12-2022  \n",
       "\n",
       "[5 rows x 31 columns]"
      ]
     },
     "execution_count": 319,
     "metadata": {},
     "output_type": "execute_result"
    }
   ],
   "source": [
    "#check the last five records\n",
    "aviation_df.tail()"
   ]
  },
  {
   "cell_type": "code",
   "execution_count": 320,
   "metadata": {},
   "outputs": [
    {
     "data": {
      "text/plain": [
       "(88889, 31)"
      ]
     },
     "execution_count": 320,
     "metadata": {},
     "output_type": "execute_result"
    }
   ],
   "source": [
    "# Get the shape of the data, rows and columns\n",
    "aviation_df.shape"
   ]
  },
  {
   "cell_type": "code",
   "execution_count": 321,
   "metadata": {},
   "outputs": [
    {
     "name": "stdout",
     "output_type": "stream",
     "text": [
      "<class 'pandas.core.frame.DataFrame'>\n",
      "RangeIndex: 88889 entries, 0 to 88888\n",
      "Data columns (total 31 columns):\n",
      " #   Column                  Non-Null Count  Dtype  \n",
      "---  ------                  --------------  -----  \n",
      " 0   Event.Id                88889 non-null  object \n",
      " 1   Investigation.Type      88889 non-null  object \n",
      " 2   Accident.Number         88889 non-null  object \n",
      " 3   Event.Date              88889 non-null  object \n",
      " 4   Location                88837 non-null  object \n",
      " 5   Country                 88663 non-null  object \n",
      " 6   Latitude                34382 non-null  object \n",
      " 7   Longitude               34373 non-null  object \n",
      " 8   Airport.Code            50249 non-null  object \n",
      " 9   Airport.Name            52790 non-null  object \n",
      " 10  Injury.Severity         87889 non-null  object \n",
      " 11  Aircraft.damage         85695 non-null  object \n",
      " 12  Aircraft.Category       32287 non-null  object \n",
      " 13  Registration.Number     87572 non-null  object \n",
      " 14  Make                    88826 non-null  object \n",
      " 15  Model                   88797 non-null  object \n",
      " 16  Amateur.Built           88787 non-null  object \n",
      " 17  Number.of.Engines       82805 non-null  float64\n",
      " 18  Engine.Type             81812 non-null  object \n",
      " 19  FAR.Description         32023 non-null  object \n",
      " 20  Schedule                12582 non-null  object \n",
      " 21  Purpose.of.flight       82697 non-null  object \n",
      " 22  Air.carrier             16648 non-null  object \n",
      " 23  Total.Fatal.Injuries    77488 non-null  float64\n",
      " 24  Total.Serious.Injuries  76379 non-null  float64\n",
      " 25  Total.Minor.Injuries    76956 non-null  float64\n",
      " 26  Total.Uninjured         82977 non-null  float64\n",
      " 27  Weather.Condition       84397 non-null  object \n",
      " 28  Broad.phase.of.flight   61724 non-null  object \n",
      " 29  Report.Status           82508 non-null  object \n",
      " 30  Publication.Date        75118 non-null  object \n",
      "dtypes: float64(5), object(26)\n",
      "memory usage: 21.0+ MB\n"
     ]
    }
   ],
   "source": [
    "#get information about the data, including the datatypes of respective columns\n",
    "aviation_df.info()"
   ]
  },
  {
   "cell_type": "code",
   "execution_count": 322,
   "metadata": {},
   "outputs": [
    {
     "data": {
      "text/html": [
       "<div>\n",
       "<style scoped>\n",
       "    .dataframe tbody tr th:only-of-type {\n",
       "        vertical-align: middle;\n",
       "    }\n",
       "\n",
       "    .dataframe tbody tr th {\n",
       "        vertical-align: top;\n",
       "    }\n",
       "\n",
       "    .dataframe thead th {\n",
       "        text-align: right;\n",
       "    }\n",
       "</style>\n",
       "<table border=\"1\" class=\"dataframe\">\n",
       "  <thead>\n",
       "    <tr style=\"text-align: right;\">\n",
       "      <th></th>\n",
       "      <th>Number.of.Engines</th>\n",
       "      <th>Total.Fatal.Injuries</th>\n",
       "      <th>Total.Serious.Injuries</th>\n",
       "      <th>Total.Minor.Injuries</th>\n",
       "      <th>Total.Uninjured</th>\n",
       "    </tr>\n",
       "  </thead>\n",
       "  <tbody>\n",
       "    <tr>\n",
       "      <th>count</th>\n",
       "      <td>82805.000000</td>\n",
       "      <td>77488.000000</td>\n",
       "      <td>76379.000000</td>\n",
       "      <td>76956.000000</td>\n",
       "      <td>82977.000000</td>\n",
       "    </tr>\n",
       "    <tr>\n",
       "      <th>mean</th>\n",
       "      <td>1.146585</td>\n",
       "      <td>0.647855</td>\n",
       "      <td>0.279881</td>\n",
       "      <td>0.357061</td>\n",
       "      <td>5.325440</td>\n",
       "    </tr>\n",
       "    <tr>\n",
       "      <th>std</th>\n",
       "      <td>0.446510</td>\n",
       "      <td>5.485960</td>\n",
       "      <td>1.544084</td>\n",
       "      <td>2.235625</td>\n",
       "      <td>27.913634</td>\n",
       "    </tr>\n",
       "    <tr>\n",
       "      <th>min</th>\n",
       "      <td>0.000000</td>\n",
       "      <td>0.000000</td>\n",
       "      <td>0.000000</td>\n",
       "      <td>0.000000</td>\n",
       "      <td>0.000000</td>\n",
       "    </tr>\n",
       "    <tr>\n",
       "      <th>25%</th>\n",
       "      <td>1.000000</td>\n",
       "      <td>0.000000</td>\n",
       "      <td>0.000000</td>\n",
       "      <td>0.000000</td>\n",
       "      <td>0.000000</td>\n",
       "    </tr>\n",
       "    <tr>\n",
       "      <th>50%</th>\n",
       "      <td>1.000000</td>\n",
       "      <td>0.000000</td>\n",
       "      <td>0.000000</td>\n",
       "      <td>0.000000</td>\n",
       "      <td>1.000000</td>\n",
       "    </tr>\n",
       "    <tr>\n",
       "      <th>75%</th>\n",
       "      <td>1.000000</td>\n",
       "      <td>0.000000</td>\n",
       "      <td>0.000000</td>\n",
       "      <td>0.000000</td>\n",
       "      <td>2.000000</td>\n",
       "    </tr>\n",
       "    <tr>\n",
       "      <th>max</th>\n",
       "      <td>8.000000</td>\n",
       "      <td>349.000000</td>\n",
       "      <td>161.000000</td>\n",
       "      <td>380.000000</td>\n",
       "      <td>699.000000</td>\n",
       "    </tr>\n",
       "  </tbody>\n",
       "</table>\n",
       "</div>"
      ],
      "text/plain": [
       "       Number.of.Engines  Total.Fatal.Injuries  Total.Serious.Injuries  \\\n",
       "count       82805.000000          77488.000000            76379.000000   \n",
       "mean            1.146585              0.647855                0.279881   \n",
       "std             0.446510              5.485960                1.544084   \n",
       "min             0.000000              0.000000                0.000000   \n",
       "25%             1.000000              0.000000                0.000000   \n",
       "50%             1.000000              0.000000                0.000000   \n",
       "75%             1.000000              0.000000                0.000000   \n",
       "max             8.000000            349.000000              161.000000   \n",
       "\n",
       "       Total.Minor.Injuries  Total.Uninjured  \n",
       "count          76956.000000     82977.000000  \n",
       "mean               0.357061         5.325440  \n",
       "std                2.235625        27.913634  \n",
       "min                0.000000         0.000000  \n",
       "25%                0.000000         0.000000  \n",
       "50%                0.000000         1.000000  \n",
       "75%                0.000000         2.000000  \n",
       "max              380.000000       699.000000  "
      ]
     },
     "execution_count": 322,
     "metadata": {},
     "output_type": "execute_result"
    }
   ],
   "source": [
    "aviation_df.describe()"
   ]
  },
  {
   "cell_type": "markdown",
   "metadata": {},
   "source": [
    "From the above data, we can see aviation dataset has 88,889 rows with 35 columns. It gives info on aircraft type, location, country where the incident occured, information about the aircraft, dates, etc.\n",
    "\n",
    "There are missing data from the null values seen in the data. The dataset has numbers on injuries - fatal, seroius or minor ones, and number of engines of the aircraft."
   ]
  },
  {
   "cell_type": "code",
   "execution_count": 323,
   "metadata": {},
   "outputs": [
    {
     "data": {
      "text/html": [
       "<div>\n",
       "<style scoped>\n",
       "    .dataframe tbody tr th:only-of-type {\n",
       "        vertical-align: middle;\n",
       "    }\n",
       "\n",
       "    .dataframe tbody tr th {\n",
       "        vertical-align: top;\n",
       "    }\n",
       "\n",
       "    .dataframe thead th {\n",
       "        text-align: right;\n",
       "    }\n",
       "</style>\n",
       "<table border=\"1\" class=\"dataframe\">\n",
       "  <thead>\n",
       "    <tr style=\"text-align: right;\">\n",
       "      <th></th>\n",
       "      <th>US_State</th>\n",
       "      <th>Abbreviation</th>\n",
       "    </tr>\n",
       "  </thead>\n",
       "  <tbody>\n",
       "    <tr>\n",
       "      <th>0</th>\n",
       "      <td>Alabama</td>\n",
       "      <td>AL</td>\n",
       "    </tr>\n",
       "    <tr>\n",
       "      <th>1</th>\n",
       "      <td>Alaska</td>\n",
       "      <td>AK</td>\n",
       "    </tr>\n",
       "    <tr>\n",
       "      <th>2</th>\n",
       "      <td>Arizona</td>\n",
       "      <td>AZ</td>\n",
       "    </tr>\n",
       "    <tr>\n",
       "      <th>3</th>\n",
       "      <td>Arkansas</td>\n",
       "      <td>AR</td>\n",
       "    </tr>\n",
       "    <tr>\n",
       "      <th>4</th>\n",
       "      <td>California</td>\n",
       "      <td>CA</td>\n",
       "    </tr>\n",
       "  </tbody>\n",
       "</table>\n",
       "</div>"
      ],
      "text/plain": [
       "     US_State Abbreviation\n",
       "0     Alabama           AL\n",
       "1      Alaska           AK\n",
       "2     Arizona           AZ\n",
       "3    Arkansas           AR\n",
       "4  California           CA"
      ]
     },
     "execution_count": 323,
     "metadata": {},
     "output_type": "execute_result"
    }
   ],
   "source": [
    "##get top 5 rows of USState Codes data\n",
    "usstate_df.head()"
   ]
  },
  {
   "cell_type": "code",
   "execution_count": 324,
   "metadata": {},
   "outputs": [
    {
     "name": "stdout",
     "output_type": "stream",
     "text": [
      "<class 'pandas.core.frame.DataFrame'>\n",
      "RangeIndex: 62 entries, 0 to 61\n",
      "Data columns (total 2 columns):\n",
      " #   Column        Non-Null Count  Dtype \n",
      "---  ------        --------------  ----- \n",
      " 0   US_State      62 non-null     object\n",
      " 1   Abbreviation  62 non-null     object\n",
      "dtypes: object(2)\n",
      "memory usage: 1.1+ KB\n"
     ]
    }
   ],
   "source": [
    "usstate_df.info()"
   ]
  },
  {
   "cell_type": "markdown",
   "metadata": {},
   "source": [
    "The data from USState codes contains 62 rows, showing 62 states and 2 columns showing the States in the data and the respective abbreviation.\n",
    "There are no null values"
   ]
  },
  {
   "cell_type": "code",
   "execution_count": 325,
   "metadata": {},
   "outputs": [
    {
     "data": {
      "text/plain": [
       "(62, 2)"
      ]
     },
     "execution_count": 325,
     "metadata": {},
     "output_type": "execute_result"
    }
   ],
   "source": [
    "usstate_df.shape"
   ]
  },
  {
   "cell_type": "code",
   "execution_count": 326,
   "metadata": {},
   "outputs": [
    {
     "data": {
      "text/plain": [
       "Index(['Event.Id', 'Investigation.Type', 'Accident.Number', 'Event.Date',\n",
       "       'Location', 'Country', 'Latitude', 'Longitude', 'Airport.Code',\n",
       "       'Airport.Name', 'Injury.Severity', 'Aircraft.damage',\n",
       "       'Aircraft.Category', 'Registration.Number', 'Make', 'Model',\n",
       "       'Amateur.Built', 'Number.of.Engines', 'Engine.Type', 'FAR.Description',\n",
       "       'Schedule', 'Purpose.of.flight', 'Air.carrier', 'Total.Fatal.Injuries',\n",
       "       'Total.Serious.Injuries', 'Total.Minor.Injuries', 'Total.Uninjured',\n",
       "       'Weather.Condition', 'Broad.phase.of.flight', 'Report.Status',\n",
       "       'Publication.Date'],\n",
       "      dtype='object')"
      ]
     },
     "execution_count": 326,
     "metadata": {},
     "output_type": "execute_result"
    }
   ],
   "source": [
    "#Check the columns in the aviation publish_display_data\n",
    "aviation_df.columns"
   ]
  },
  {
   "cell_type": "code",
   "execution_count": 327,
   "metadata": {},
   "outputs": [
    {
     "data": {
      "text/plain": [
       "False    54\n",
       "True      8\n",
       "Name: US_State, dtype: int64"
      ]
     },
     "execution_count": 327,
     "metadata": {},
     "output_type": "execute_result"
    }
   ],
   "source": [
    "#let us check if the data has columns that have similar content on both aviation and usstate codes\n",
    "usstate_df['US_State'].isin(aviation_df['Country']).value_counts()\n"
   ]
  },
  {
   "cell_type": "code",
   "execution_count": 328,
   "metadata": {},
   "outputs": [
    {
     "data": {
      "text/plain": [
       "31"
      ]
     },
     "execution_count": 328,
     "metadata": {},
     "output_type": "execute_result"
    }
   ],
   "source": [
    "len(aviation_df.columns)"
   ]
  },
  {
   "cell_type": "markdown",
   "metadata": {},
   "source": [
    "## Data Preparation\n",
    "Let us prepare the data for analysis. This will/may involve handling missing values in the data, dropping unnecessary columns, selecting needed data, etc.\n",
    "\n",
    "We start by checking the essential columns and dropping the unnecessary ones.\n",
    "\n",
    "1. The company needs 'Airplane'. If you check the AircraftCategory, there are aircraft of the Airplane Category. So we will create a dataset of that category.\n",
    "\n",
    "2. To determine the low risk aircraft, it needs specific kind of data such as the model, make, category, engine type, level of damage, number of injuries, etc.\n",
    "Columns such as Event Id, Investigation Type, Accident Number, etc. may not be useful. So we will drop these columns\n",
    "\n",
    "3. The data may be having spaces at the edges, we will strip the empty spaces in case the are present.\n",
    "\n",
    "4. Then we rename the columns to be easy handling by removing dots on column names \n",
    "\n",
    "5. Check null values and see how to handle them, drop, replace by mode , mean or median.\n",
    "As noticed earlier, there are only 4 columns without null values in the aviation data i.e.:\n",
    "\n",
    "        1. 'Event.Id' \n",
    "        2. 'Investigation.Type'\n",
    "        3. 'Accident.Number'\n",
    "        4. 'Event.Date'"
   ]
  },
  {
   "cell_type": "code",
   "execution_count": 329,
   "metadata": {},
   "outputs": [],
   "source": [
    "#First let us make a copy of the data\n",
    "aviation_df_copy = aviation_df.copy(deep=True)"
   ]
  },
  {
   "cell_type": "code",
   "execution_count": 330,
   "metadata": {},
   "outputs": [
    {
     "data": {
      "text/plain": [
       "Index(['Event.Id', 'Investigation.Type', 'Accident.Number', 'Event.Date',\n",
       "       'Location', 'Country', 'Latitude', 'Longitude', 'Airport.Code',\n",
       "       'Airport.Name', 'Injury.Severity', 'Aircraft.damage',\n",
       "       'Aircraft.Category', 'Registration.Number', 'Make', 'Model',\n",
       "       'Amateur.Built', 'Number.of.Engines', 'Engine.Type', 'FAR.Description',\n",
       "       'Schedule', 'Purpose.of.flight', 'Air.carrier', 'Total.Fatal.Injuries',\n",
       "       'Total.Serious.Injuries', 'Total.Minor.Injuries', 'Total.Uninjured',\n",
       "       'Weather.Condition', 'Broad.phase.of.flight', 'Report.Status',\n",
       "       'Publication.Date'],\n",
       "      dtype='object')"
      ]
     },
     "execution_count": 330,
     "metadata": {},
     "output_type": "execute_result"
    }
   ],
   "source": [
    "#Checking the columns of aviation data\n",
    "aviation_df.columns"
   ]
  },
  {
   "cell_type": "code",
   "execution_count": 331,
   "metadata": {},
   "outputs": [
    {
     "data": {
      "text/plain": [
       "Airplane             27617\n",
       "Helicopter            3440\n",
       "Glider                 508\n",
       "Balloon                231\n",
       "Gyrocraft              173\n",
       "Weight-Shift           161\n",
       "Powered Parachute       91\n",
       "Ultralight              30\n",
       "Unknown                 14\n",
       "WSFT                     9\n",
       "Powered-Lift             5\n",
       "Blimp                    4\n",
       "UNK                      2\n",
       "ULTR                     1\n",
       "Rocket                   1\n",
       "Name: Aircraft.Category, dtype: int64"
      ]
     },
     "execution_count": 331,
     "metadata": {},
     "output_type": "execute_result"
    }
   ],
   "source": [
    "#Check Aircraft Category\n",
    "aviation_df['Aircraft.Category'].value_counts()"
   ]
  },
  {
   "cell_type": "code",
   "execution_count": 332,
   "metadata": {},
   "outputs": [
    {
     "data": {
      "text/html": [
       "<div>\n",
       "<style scoped>\n",
       "    .dataframe tbody tr th:only-of-type {\n",
       "        vertical-align: middle;\n",
       "    }\n",
       "\n",
       "    .dataframe tbody tr th {\n",
       "        vertical-align: top;\n",
       "    }\n",
       "\n",
       "    .dataframe thead th {\n",
       "        text-align: right;\n",
       "    }\n",
       "</style>\n",
       "<table border=\"1\" class=\"dataframe\">\n",
       "  <thead>\n",
       "    <tr style=\"text-align: right;\">\n",
       "      <th></th>\n",
       "      <th>Event.Id</th>\n",
       "      <th>Investigation.Type</th>\n",
       "      <th>Accident.Number</th>\n",
       "      <th>Event.Date</th>\n",
       "      <th>Location</th>\n",
       "      <th>Country</th>\n",
       "      <th>Latitude</th>\n",
       "      <th>Longitude</th>\n",
       "      <th>Airport.Code</th>\n",
       "      <th>Airport.Name</th>\n",
       "      <th>...</th>\n",
       "      <th>Purpose.of.flight</th>\n",
       "      <th>Air.carrier</th>\n",
       "      <th>Total.Fatal.Injuries</th>\n",
       "      <th>Total.Serious.Injuries</th>\n",
       "      <th>Total.Minor.Injuries</th>\n",
       "      <th>Total.Uninjured</th>\n",
       "      <th>Weather.Condition</th>\n",
       "      <th>Broad.phase.of.flight</th>\n",
       "      <th>Report.Status</th>\n",
       "      <th>Publication.Date</th>\n",
       "    </tr>\n",
       "  </thead>\n",
       "  <tbody>\n",
       "    <tr>\n",
       "      <th>0</th>\n",
       "      <td>20170710X52551</td>\n",
       "      <td>Accident</td>\n",
       "      <td>NYC79AA106</td>\n",
       "      <td>1979-09-17</td>\n",
       "      <td>BOSTON, MA</td>\n",
       "      <td>United States</td>\n",
       "      <td>42.445277</td>\n",
       "      <td>-70.758333</td>\n",
       "      <td>NaN</td>\n",
       "      <td>NaN</td>\n",
       "      <td>...</td>\n",
       "      <td>NaN</td>\n",
       "      <td>Air Canada</td>\n",
       "      <td>NaN</td>\n",
       "      <td>NaN</td>\n",
       "      <td>1.0</td>\n",
       "      <td>44.0</td>\n",
       "      <td>VMC</td>\n",
       "      <td>Climb</td>\n",
       "      <td>Probable Cause</td>\n",
       "      <td>19-09-2017</td>\n",
       "    </tr>\n",
       "    <tr>\n",
       "      <th>1</th>\n",
       "      <td>20020909X01562</td>\n",
       "      <td>Accident</td>\n",
       "      <td>SEA82DA022</td>\n",
       "      <td>1982-01-01</td>\n",
       "      <td>PULLMAN, WA</td>\n",
       "      <td>United States</td>\n",
       "      <td>NaN</td>\n",
       "      <td>NaN</td>\n",
       "      <td>NaN</td>\n",
       "      <td>BLACKBURN AG STRIP</td>\n",
       "      <td>...</td>\n",
       "      <td>Personal</td>\n",
       "      <td>NaN</td>\n",
       "      <td>0.0</td>\n",
       "      <td>0.0</td>\n",
       "      <td>0.0</td>\n",
       "      <td>2.0</td>\n",
       "      <td>VMC</td>\n",
       "      <td>Takeoff</td>\n",
       "      <td>Probable Cause</td>\n",
       "      <td>01-01-1982</td>\n",
       "    </tr>\n",
       "    <tr>\n",
       "      <th>2</th>\n",
       "      <td>20020909X01561</td>\n",
       "      <td>Accident</td>\n",
       "      <td>NYC82DA015</td>\n",
       "      <td>1982-01-01</td>\n",
       "      <td>EAST HANOVER, NJ</td>\n",
       "      <td>United States</td>\n",
       "      <td>NaN</td>\n",
       "      <td>NaN</td>\n",
       "      <td>N58</td>\n",
       "      <td>HANOVER</td>\n",
       "      <td>...</td>\n",
       "      <td>Business</td>\n",
       "      <td>NaN</td>\n",
       "      <td>0.0</td>\n",
       "      <td>0.0</td>\n",
       "      <td>0.0</td>\n",
       "      <td>2.0</td>\n",
       "      <td>IMC</td>\n",
       "      <td>Landing</td>\n",
       "      <td>Probable Cause</td>\n",
       "      <td>01-01-1982</td>\n",
       "    </tr>\n",
       "    <tr>\n",
       "      <th>3</th>\n",
       "      <td>20020917X02148</td>\n",
       "      <td>Accident</td>\n",
       "      <td>FTW82FRJ07</td>\n",
       "      <td>1982-01-02</td>\n",
       "      <td>HOMER, LA</td>\n",
       "      <td>United States</td>\n",
       "      <td>NaN</td>\n",
       "      <td>NaN</td>\n",
       "      <td>NaN</td>\n",
       "      <td>NaN</td>\n",
       "      <td>...</td>\n",
       "      <td>Personal</td>\n",
       "      <td>NaN</td>\n",
       "      <td>0.0</td>\n",
       "      <td>0.0</td>\n",
       "      <td>1.0</td>\n",
       "      <td>0.0</td>\n",
       "      <td>IMC</td>\n",
       "      <td>Cruise</td>\n",
       "      <td>Probable Cause</td>\n",
       "      <td>02-01-1983</td>\n",
       "    </tr>\n",
       "    <tr>\n",
       "      <th>4</th>\n",
       "      <td>20020917X02134</td>\n",
       "      <td>Accident</td>\n",
       "      <td>FTW82FRA14</td>\n",
       "      <td>1982-01-02</td>\n",
       "      <td>HEARNE, TX</td>\n",
       "      <td>United States</td>\n",
       "      <td>NaN</td>\n",
       "      <td>NaN</td>\n",
       "      <td>T72</td>\n",
       "      <td>HEARNE MUNICIPAL</td>\n",
       "      <td>...</td>\n",
       "      <td>Personal</td>\n",
       "      <td>NaN</td>\n",
       "      <td>1.0</td>\n",
       "      <td>0.0</td>\n",
       "      <td>0.0</td>\n",
       "      <td>0.0</td>\n",
       "      <td>IMC</td>\n",
       "      <td>Takeoff</td>\n",
       "      <td>Probable Cause</td>\n",
       "      <td>02-01-1983</td>\n",
       "    </tr>\n",
       "  </tbody>\n",
       "</table>\n",
       "<p>5 rows × 31 columns</p>\n",
       "</div>"
      ],
      "text/plain": [
       "         Event.Id Investigation.Type Accident.Number  Event.Date  \\\n",
       "0  20170710X52551           Accident      NYC79AA106  1979-09-17   \n",
       "1  20020909X01562           Accident      SEA82DA022  1982-01-01   \n",
       "2  20020909X01561           Accident      NYC82DA015  1982-01-01   \n",
       "3  20020917X02148           Accident      FTW82FRJ07  1982-01-02   \n",
       "4  20020917X02134           Accident      FTW82FRA14  1982-01-02   \n",
       "\n",
       "           Location        Country   Latitude   Longitude Airport.Code  \\\n",
       "0        BOSTON, MA  United States  42.445277  -70.758333          NaN   \n",
       "1       PULLMAN, WA  United States        NaN         NaN          NaN   \n",
       "2  EAST HANOVER, NJ  United States        NaN         NaN          N58   \n",
       "3         HOMER, LA  United States        NaN         NaN          NaN   \n",
       "4        HEARNE, TX  United States        NaN         NaN          T72   \n",
       "\n",
       "         Airport.Name  ... Purpose.of.flight Air.carrier Total.Fatal.Injuries  \\\n",
       "0                 NaN  ...               NaN  Air Canada                  NaN   \n",
       "1  BLACKBURN AG STRIP  ...          Personal         NaN                  0.0   \n",
       "2             HANOVER  ...          Business         NaN                  0.0   \n",
       "3                 NaN  ...          Personal         NaN                  0.0   \n",
       "4    HEARNE MUNICIPAL  ...          Personal         NaN                  1.0   \n",
       "\n",
       "  Total.Serious.Injuries Total.Minor.Injuries Total.Uninjured  \\\n",
       "0                    NaN                  1.0            44.0   \n",
       "1                    0.0                  0.0             2.0   \n",
       "2                    0.0                  0.0             2.0   \n",
       "3                    0.0                  1.0             0.0   \n",
       "4                    0.0                  0.0             0.0   \n",
       "\n",
       "  Weather.Condition  Broad.phase.of.flight   Report.Status Publication.Date  \n",
       "0               VMC                  Climb  Probable Cause       19-09-2017  \n",
       "1               VMC                Takeoff  Probable Cause       01-01-1982  \n",
       "2               IMC                Landing  Probable Cause       01-01-1982  \n",
       "3               IMC                 Cruise  Probable Cause       02-01-1983  \n",
       "4               IMC                Takeoff  Probable Cause       02-01-1983  \n",
       "\n",
       "[5 rows x 31 columns]"
      ]
     },
     "execution_count": 332,
     "metadata": {},
     "output_type": "execute_result"
    }
   ],
   "source": [
    "#creating Airplane dataset\n",
    "airplane_df = aviation_df.loc[aviation_df[\"Aircraft.Category\"] == \"Airplane\"].reset_index(drop=True)\n",
    "airplane_df.head()\n"
   ]
  },
  {
   "cell_type": "code",
   "execution_count": 333,
   "metadata": {},
   "outputs": [
    {
     "data": {
      "text/plain": [
       "Airplane    27617\n",
       "Name: Aircraft.Category, dtype: int64"
      ]
     },
     "execution_count": 333,
     "metadata": {},
     "output_type": "execute_result"
    }
   ],
   "source": [
    "#Confirming if the aircraft is  \"Airplane\" type only\n",
    "airplane_df['Aircraft.Category'].value_counts()"
   ]
  },
  {
   "cell_type": "code",
   "execution_count": 334,
   "metadata": {},
   "outputs": [
    {
     "data": {
      "text/html": [
       "<div>\n",
       "<style scoped>\n",
       "    .dataframe tbody tr th:only-of-type {\n",
       "        vertical-align: middle;\n",
       "    }\n",
       "\n",
       "    .dataframe tbody tr th {\n",
       "        vertical-align: top;\n",
       "    }\n",
       "\n",
       "    .dataframe thead th {\n",
       "        text-align: right;\n",
       "    }\n",
       "</style>\n",
       "<table border=\"1\" class=\"dataframe\">\n",
       "  <thead>\n",
       "    <tr style=\"text-align: right;\">\n",
       "      <th></th>\n",
       "      <th>Event.Date</th>\n",
       "      <th>Location</th>\n",
       "      <th>Country</th>\n",
       "      <th>Latitude</th>\n",
       "      <th>Longitude</th>\n",
       "      <th>Injury.Severity</th>\n",
       "      <th>Aircraft.damage</th>\n",
       "      <th>Aircraft.Category</th>\n",
       "      <th>Registration.Number</th>\n",
       "      <th>Make</th>\n",
       "      <th>...</th>\n",
       "      <th>Number.of.Engines</th>\n",
       "      <th>Engine.Type</th>\n",
       "      <th>FAR.Description</th>\n",
       "      <th>Purpose.of.flight</th>\n",
       "      <th>Total.Fatal.Injuries</th>\n",
       "      <th>Total.Serious.Injuries</th>\n",
       "      <th>Total.Minor.Injuries</th>\n",
       "      <th>Total.Uninjured</th>\n",
       "      <th>Weather.Condition</th>\n",
       "      <th>Broad.phase.of.flight</th>\n",
       "    </tr>\n",
       "  </thead>\n",
       "  <tbody>\n",
       "    <tr>\n",
       "      <th>0</th>\n",
       "      <td>1979-09-17</td>\n",
       "      <td>BOSTON, MA</td>\n",
       "      <td>United States</td>\n",
       "      <td>42.445277</td>\n",
       "      <td>-70.758333</td>\n",
       "      <td>Non-Fatal</td>\n",
       "      <td>Substantial</td>\n",
       "      <td>Airplane</td>\n",
       "      <td>CF-TLU</td>\n",
       "      <td>Mcdonnell Douglas</td>\n",
       "      <td>...</td>\n",
       "      <td>2.0</td>\n",
       "      <td>Turbo Fan</td>\n",
       "      <td>Part 129: Foreign</td>\n",
       "      <td>NaN</td>\n",
       "      <td>NaN</td>\n",
       "      <td>NaN</td>\n",
       "      <td>1.0</td>\n",
       "      <td>44.0</td>\n",
       "      <td>VMC</td>\n",
       "      <td>Climb</td>\n",
       "    </tr>\n",
       "    <tr>\n",
       "      <th>1</th>\n",
       "      <td>1982-01-01</td>\n",
       "      <td>PULLMAN, WA</td>\n",
       "      <td>United States</td>\n",
       "      <td>NaN</td>\n",
       "      <td>NaN</td>\n",
       "      <td>Non-Fatal</td>\n",
       "      <td>Substantial</td>\n",
       "      <td>Airplane</td>\n",
       "      <td>N2482N</td>\n",
       "      <td>Cessna</td>\n",
       "      <td>...</td>\n",
       "      <td>1.0</td>\n",
       "      <td>Reciprocating</td>\n",
       "      <td>Part 91: General Aviation</td>\n",
       "      <td>Personal</td>\n",
       "      <td>0.0</td>\n",
       "      <td>0.0</td>\n",
       "      <td>0.0</td>\n",
       "      <td>2.0</td>\n",
       "      <td>VMC</td>\n",
       "      <td>Takeoff</td>\n",
       "    </tr>\n",
       "    <tr>\n",
       "      <th>2</th>\n",
       "      <td>1982-01-01</td>\n",
       "      <td>EAST HANOVER, NJ</td>\n",
       "      <td>United States</td>\n",
       "      <td>NaN</td>\n",
       "      <td>NaN</td>\n",
       "      <td>Non-Fatal</td>\n",
       "      <td>Substantial</td>\n",
       "      <td>Airplane</td>\n",
       "      <td>N7967Q</td>\n",
       "      <td>Cessna</td>\n",
       "      <td>...</td>\n",
       "      <td>2.0</td>\n",
       "      <td>Reciprocating</td>\n",
       "      <td>Part 91: General Aviation</td>\n",
       "      <td>Business</td>\n",
       "      <td>0.0</td>\n",
       "      <td>0.0</td>\n",
       "      <td>0.0</td>\n",
       "      <td>2.0</td>\n",
       "      <td>IMC</td>\n",
       "      <td>Landing</td>\n",
       "    </tr>\n",
       "    <tr>\n",
       "      <th>3</th>\n",
       "      <td>1982-01-02</td>\n",
       "      <td>HOMER, LA</td>\n",
       "      <td>United States</td>\n",
       "      <td>NaN</td>\n",
       "      <td>NaN</td>\n",
       "      <td>Non-Fatal</td>\n",
       "      <td>Destroyed</td>\n",
       "      <td>Airplane</td>\n",
       "      <td>N14779</td>\n",
       "      <td>Bellanca</td>\n",
       "      <td>...</td>\n",
       "      <td>1.0</td>\n",
       "      <td>Reciprocating</td>\n",
       "      <td>Part 91: General Aviation</td>\n",
       "      <td>Personal</td>\n",
       "      <td>0.0</td>\n",
       "      <td>0.0</td>\n",
       "      <td>1.0</td>\n",
       "      <td>0.0</td>\n",
       "      <td>IMC</td>\n",
       "      <td>Cruise</td>\n",
       "    </tr>\n",
       "    <tr>\n",
       "      <th>4</th>\n",
       "      <td>1982-01-02</td>\n",
       "      <td>HEARNE, TX</td>\n",
       "      <td>United States</td>\n",
       "      <td>NaN</td>\n",
       "      <td>NaN</td>\n",
       "      <td>Fatal(1)</td>\n",
       "      <td>Destroyed</td>\n",
       "      <td>Airplane</td>\n",
       "      <td>N758SK</td>\n",
       "      <td>Cessna</td>\n",
       "      <td>...</td>\n",
       "      <td>1.0</td>\n",
       "      <td>Reciprocating</td>\n",
       "      <td>Part 91: General Aviation</td>\n",
       "      <td>Personal</td>\n",
       "      <td>1.0</td>\n",
       "      <td>0.0</td>\n",
       "      <td>0.0</td>\n",
       "      <td>0.0</td>\n",
       "      <td>IMC</td>\n",
       "      <td>Takeoff</td>\n",
       "    </tr>\n",
       "  </tbody>\n",
       "</table>\n",
       "<p>5 rows × 22 columns</p>\n",
       "</div>"
      ],
      "text/plain": [
       "   Event.Date          Location        Country   Latitude   Longitude  \\\n",
       "0  1979-09-17        BOSTON, MA  United States  42.445277  -70.758333   \n",
       "1  1982-01-01       PULLMAN, WA  United States        NaN         NaN   \n",
       "2  1982-01-01  EAST HANOVER, NJ  United States        NaN         NaN   \n",
       "3  1982-01-02         HOMER, LA  United States        NaN         NaN   \n",
       "4  1982-01-02        HEARNE, TX  United States        NaN         NaN   \n",
       "\n",
       "  Injury.Severity Aircraft.damage Aircraft.Category Registration.Number  \\\n",
       "0       Non-Fatal     Substantial          Airplane              CF-TLU   \n",
       "1       Non-Fatal     Substantial          Airplane              N2482N   \n",
       "2       Non-Fatal     Substantial          Airplane              N7967Q   \n",
       "3       Non-Fatal       Destroyed          Airplane              N14779   \n",
       "4        Fatal(1)       Destroyed          Airplane              N758SK   \n",
       "\n",
       "                Make  ... Number.of.Engines    Engine.Type  \\\n",
       "0  Mcdonnell Douglas  ...               2.0      Turbo Fan   \n",
       "1             Cessna  ...               1.0  Reciprocating   \n",
       "2             Cessna  ...               2.0  Reciprocating   \n",
       "3           Bellanca  ...               1.0  Reciprocating   \n",
       "4             Cessna  ...               1.0  Reciprocating   \n",
       "\n",
       "             FAR.Description Purpose.of.flight Total.Fatal.Injuries  \\\n",
       "0          Part 129: Foreign               NaN                  NaN   \n",
       "1  Part 91: General Aviation          Personal                  0.0   \n",
       "2  Part 91: General Aviation          Business                  0.0   \n",
       "3  Part 91: General Aviation          Personal                  0.0   \n",
       "4  Part 91: General Aviation          Personal                  1.0   \n",
       "\n",
       "  Total.Serious.Injuries  Total.Minor.Injuries  Total.Uninjured  \\\n",
       "0                    NaN                   1.0             44.0   \n",
       "1                    0.0                   0.0              2.0   \n",
       "2                    0.0                   0.0              2.0   \n",
       "3                    0.0                   1.0              0.0   \n",
       "4                    0.0                   0.0              0.0   \n",
       "\n",
       "   Weather.Condition  Broad.phase.of.flight  \n",
       "0                VMC                  Climb  \n",
       "1                VMC                Takeoff  \n",
       "2                IMC                Landing  \n",
       "3                IMC                 Cruise  \n",
       "4                IMC                Takeoff  \n",
       "\n",
       "[5 rows x 22 columns]"
      ]
     },
     "execution_count": 334,
     "metadata": {},
     "output_type": "execute_result"
    }
   ],
   "source": [
    "#dropping columns as they will not be needed for anaylsis. Note \"Broadphaseofflight\" has no much data\n",
    "airplane_df.drop([\"Event.Id\",\"Investigation.Type\", \"Accident.Number\", \"Airport.Code\", \"Airport.Name\", \"Air.carrier\", \"Schedule\", \"Report.Status\", \"Publication.Date\"], axis=1,inplace = True)\n",
    "airplane_df.head()"
   ]
  },
  {
   "cell_type": "code",
   "execution_count": 88,
   "metadata": {},
   "outputs": [
    {
     "name": "stdout",
     "output_type": "stream",
     "text": [
      "<class 'pandas.core.frame.DataFrame'>\n",
      "RangeIndex: 27617 entries, 0 to 27616\n",
      "Data columns (total 22 columns):\n",
      " #   Column                  Non-Null Count  Dtype  \n",
      "---  ------                  --------------  -----  \n",
      " 0   Event.Date              27617 non-null  object \n",
      " 1   Location                27610 non-null  object \n",
      " 2   Country                 27610 non-null  object \n",
      " 3   Latitude                22092 non-null  object \n",
      " 4   Longitude               22083 non-null  object \n",
      " 5   Injury.Severity         26803 non-null  object \n",
      " 6   Aircraft.damage         26335 non-null  object \n",
      " 7   Aircraft.Category       27617 non-null  object \n",
      " 8   Registration.Number     27391 non-null  object \n",
      " 9   Make                    27608 non-null  object \n",
      " 10  Model                   27586 non-null  object \n",
      " 11  Amateur.Built           27600 non-null  object \n",
      " 12  Number.of.Engines       24863 non-null  float64\n",
      " 13  Engine.Type             23391 non-null  object \n",
      " 14  FAR.Description         27118 non-null  object \n",
      " 15  Purpose.of.flight       23878 non-null  object \n",
      " 16  Total.Fatal.Injuries    24452 non-null  float64\n",
      " 17  Total.Serious.Injuries  24393 non-null  float64\n",
      " 18  Total.Minor.Injuries    24739 non-null  float64\n",
      " 19  Total.Uninjured         26717 non-null  float64\n",
      " 20  Weather.Condition       24564 non-null  object \n",
      " 21  Broad.phase.of.flight   6408 non-null   object \n",
      "dtypes: float64(5), object(17)\n",
      "memory usage: 4.6+ MB\n"
     ]
    }
   ],
   "source": [
    "airplane_df.info()"
   ]
  },
  {
   "cell_type": "code",
   "execution_count": 89,
   "metadata": {},
   "outputs": [
    {
     "data": {
      "text/plain": [
       "Index(['Event.Date', 'Location', 'Country', 'Latitude', 'Longitude',\n",
       "       'Injury.Severity', 'Aircraft.damage', 'Aircraft.Category',\n",
       "       'Registration.Number', 'Make', 'Model', 'Amateur.Built',\n",
       "       'Number.of.Engines', 'Engine.Type', 'FAR.Description',\n",
       "       'Purpose.of.flight', 'Total.Fatal.Injuries', 'Total.Serious.Injuries',\n",
       "       'Total.Minor.Injuries', 'Total.Uninjured', 'Weather.Condition',\n",
       "       'Broad.phase.of.flight'],\n",
       "      dtype='object')"
      ]
     },
     "execution_count": 89,
     "metadata": {},
     "output_type": "execute_result"
    }
   ],
   "source": [
    "airplane_df.columns"
   ]
  },
  {
   "cell_type": "markdown",
   "metadata": {},
   "source": [
    "If you check, the column names have a '.' separator between 2 names. We can remove the dot for each column name.\n",
    "Then we can strip of any empty spaces in the data."
   ]
  },
  {
   "cell_type": "code",
   "execution_count": 90,
   "metadata": {},
   "outputs": [
    {
     "data": {
      "text/plain": [
       "22"
      ]
     },
     "execution_count": 90,
     "metadata": {},
     "output_type": "execute_result"
    }
   ],
   "source": [
    "#Let us remove the dot(.) in the column names\n",
    "#First create a dictionary with key-value pairs consisting of old names as keys and new names as keys\n",
    "#create keys append them to an empty list\n",
    "colmn_names_orig = []\n",
    "for colmn in airplane_df.columns:\n",
    "    colmn_names_orig.append(colmn)\n",
    "len(colmn_names_orig)\n"
   ]
  },
  {
   "cell_type": "code",
   "execution_count": 91,
   "metadata": {},
   "outputs": [
    {
     "data": {
      "text/plain": [
       "22"
      ]
     },
     "execution_count": 91,
     "metadata": {},
     "output_type": "execute_result"
    }
   ],
   "source": [
    "#Create values\n",
    "colmn_names_new = []\n",
    "#remove the '.' from column names and append to an empty list\n",
    "for x in range(len(airplane_df.columns)):\n",
    "    new_column_name = airplane_df.columns[x].replace('.', '')\n",
    "    colmn_names_new.append(new_column_name)\n",
    "\n",
    "#type(colmn_names_new)\n",
    "len(colmn_names_new)"
   ]
  },
  {
   "cell_type": "code",
   "execution_count": 92,
   "metadata": {},
   "outputs": [],
   "source": [
    "#Create a dictionary using zip() method\n",
    "colmn_names_dict = dict(zip(colmn_names_orig, colmn_names_new))\n",
    "#colmn_names_dict"
   ]
  },
  {
   "cell_type": "code",
   "execution_count": 93,
   "metadata": {},
   "outputs": [],
   "source": [
    "#Rename the columns using rename() method and a dictionary as an argument\n",
    "airplane_df.rename(colmn_names_dict, axis='columns', inplace=True)"
   ]
  },
  {
   "cell_type": "code",
   "execution_count": 94,
   "metadata": {},
   "outputs": [
    {
     "data": {
      "text/plain": [
       "EventDate                object\n",
       "Location                 object\n",
       "Country                  object\n",
       "Latitude                 object\n",
       "Longitude                object\n",
       "InjurySeverity           object\n",
       "Aircraftdamage           object\n",
       "AircraftCategory         object\n",
       "RegistrationNumber       object\n",
       "Make                     object\n",
       "Model                    object\n",
       "AmateurBuilt             object\n",
       "NumberofEngines         float64\n",
       "EngineType               object\n",
       "FARDescription           object\n",
       "Purposeofflight          object\n",
       "TotalFatalInjuries      float64\n",
       "TotalSeriousInjuries    float64\n",
       "TotalMinorInjuries      float64\n",
       "TotalUninjured          float64\n",
       "WeatherCondition         object\n",
       "Broadphaseofflight       object\n",
       "dtype: object"
      ]
     },
     "execution_count": 94,
     "metadata": {},
     "output_type": "execute_result"
    }
   ],
   "source": [
    "airplane_df.dtypes"
   ]
  },
  {
   "cell_type": "code",
   "execution_count": 95,
   "metadata": {},
   "outputs": [
    {
     "data": {
      "text/plain": [
       "CESSNA                         4867\n",
       "Cessna                         3608\n",
       "PIPER                          2805\n",
       "Piper                          1910\n",
       "BOEING                         1037\n",
       "                               ... \n",
       "WALKER KENNETH                    1\n",
       "ALEXANDER THOMAS P                1\n",
       "HOLMGREEN JOHN B                  1\n",
       "CHATHAM ROBERT M                  1\n",
       "CENTRAL OHIO DRAGONFLY CLUB       1\n",
       "Name: Make, Length: 3874, dtype: int64"
      ]
     },
     "execution_count": 95,
     "metadata": {},
     "output_type": "execute_result"
    }
   ],
   "source": [
    "#Checking the Make and see if there is uniformity\n",
    "airplane_df['Make'].value_counts()#.head(20)"
   ]
  },
  {
   "cell_type": "markdown",
   "metadata": {},
   "source": [
    "If you check the 'Make\" for example, there are Cessna and CESSNA. The make is the same but they keyed in with different letter cases.\n",
    "We will make it uniform by captitalizing each or having it in small letters."
   ]
  },
  {
   "cell_type": "code",
   "execution_count": 96,
   "metadata": {},
   "outputs": [],
   "source": [
    "#Capitalizing the Make text for uniformity\n",
    "airplane_df['Make']= airplane_df['Make'].str.capitalize()"
   ]
  },
  {
   "cell_type": "code",
   "execution_count": 97,
   "metadata": {},
   "outputs": [
    {
     "data": {
      "text/plain": [
       "Cessna                8475\n",
       "Piper                 4715\n",
       "Beech                 1692\n",
       "Boeing                1324\n",
       "Mooney                 419\n",
       "Bellanca               282\n",
       "Grumman                251\n",
       "Airbus                 245\n",
       "Maule                  232\n",
       "Aeronca                229\n",
       "Air tractor            224\n",
       "Cirrus design corp     220\n",
       "Air tractor inc        219\n",
       "Champion               170\n",
       "Luscombe               164\n",
       "Embraer                155\n",
       "Stinson                146\n",
       "Cirrus                 137\n",
       "Vans                   125\n",
       "North american         118\n",
       "Name: Make, dtype: int64"
      ]
     },
     "execution_count": 97,
     "metadata": {},
     "output_type": "execute_result"
    }
   ],
   "source": [
    "#Confirming if the change is effected\n",
    "airplane_df['Make'].value_counts().head(20)"
   ]
  },
  {
   "cell_type": "markdown",
   "metadata": {},
   "source": [
    "## Dealing with missing values\n",
    "Let us check null values on different columns"
   ]
  },
  {
   "cell_type": "code",
   "execution_count": 98,
   "metadata": {},
   "outputs": [
    {
     "data": {
      "text/plain": [
       "EventDate                   0\n",
       "Location                    7\n",
       "Country                     7\n",
       "Latitude                 5525\n",
       "Longitude                5534\n",
       "InjurySeverity            814\n",
       "Aircraftdamage           1282\n",
       "AircraftCategory            0\n",
       "RegistrationNumber        226\n",
       "Make                        9\n",
       "Model                      31\n",
       "AmateurBuilt               17\n",
       "NumberofEngines          2754\n",
       "EngineType               4226\n",
       "FARDescription            499\n",
       "Purposeofflight          3739\n",
       "TotalFatalInjuries       3165\n",
       "TotalSeriousInjuries     3224\n",
       "TotalMinorInjuries       2878\n",
       "TotalUninjured            900\n",
       "WeatherCondition         3053\n",
       "Broadphaseofflight      21209\n",
       "dtype: int64"
      ]
     },
     "execution_count": 98,
     "metadata": {},
     "output_type": "execute_result"
    }
   ],
   "source": [
    "airplane_df.isna().sum()"
   ]
  },
  {
   "cell_type": "markdown",
   "metadata": {},
   "source": [
    "If you check the 'Make' and the 'Model', there are missing data. Without these values, we cannot determine what aircraft to purchase. You may not fill in the data as this concerns accidents and incidents that occured and may distort the information. So, we will drop the missing values on Make amd Model."
   ]
  },
  {
   "cell_type": "code",
   "execution_count": 99,
   "metadata": {},
   "outputs": [],
   "source": [
    "airplane_df.dropna(subset=['Make','Model'], inplace=True)"
   ]
  },
  {
   "cell_type": "code",
   "execution_count": 100,
   "metadata": {},
   "outputs": [
    {
     "data": {
      "text/plain": [
       "Landing        2253\n",
       "Takeoff        1278\n",
       "Cruise          838\n",
       "Approach        638\n",
       "Maneuvering     511\n",
       "Taxi            241\n",
       "Descent         168\n",
       "Go-around       154\n",
       "Climb           153\n",
       "Standing         75\n",
       "Unknown          62\n",
       "Other            14\n",
       "Name: Broadphaseofflight, dtype: int64"
      ]
     },
     "execution_count": 100,
     "metadata": {},
     "output_type": "execute_result"
    }
   ],
   "source": [
    "airplane_df['Broadphaseofflight'].value_counts()"
   ]
  },
  {
   "cell_type": "markdown",
   "metadata": {},
   "source": [
    "If you check the \"BroadPhaseoflight\" it has a lot of null values, '21,209'. The phases are crucial as they show what phase the incident occured and may help in risk management for the airplane. Dropping null values in this column will result in  a lot of loss of data. And if you check further, there is a value of 'Unknown'. This can fill up the missing values."
   ]
  },
  {
   "cell_type": "code",
   "execution_count": 101,
   "metadata": {},
   "outputs": [],
   "source": [
    "#Fill nulls with 'Unknown' in the 'Broadphaseofflight' column.\n",
    "airplane_df['Broadphaseofflight'].fillna(\"Unknown\", inplace=True)"
   ]
  },
  {
   "cell_type": "code",
   "execution_count": 102,
   "metadata": {},
   "outputs": [
    {
     "data": {
      "text/plain": [
       "False    27580\n",
       "Name: Broadphaseofflight, dtype: int64"
      ]
     },
     "execution_count": 102,
     "metadata": {},
     "output_type": "execute_result"
    }
   ],
   "source": [
    "#confirm\n",
    "airplane_df['Broadphaseofflight'].isna().value_counts()"
   ]
  },
  {
   "cell_type": "code",
   "execution_count": 103,
   "metadata": {},
   "outputs": [
    {
     "data": {
      "text/plain": [
       "EventDate                  0\n",
       "Location                   7\n",
       "Country                    7\n",
       "Latitude                5498\n",
       "Longitude               5507\n",
       "InjurySeverity           812\n",
       "Aircraftdamage          1279\n",
       "AircraftCategory           0\n",
       "RegistrationNumber       223\n",
       "Make                       0\n",
       "Model                      0\n",
       "AmateurBuilt              17\n",
       "NumberofEngines         2749\n",
       "EngineType              4213\n",
       "FARDescription           499\n",
       "Purposeofflight         3730\n",
       "TotalFatalInjuries      3159\n",
       "TotalSeriousInjuries    3216\n",
       "TotalMinorInjuries      2871\n",
       "TotalUninjured           894\n",
       "WeatherCondition        3044\n",
       "Broadphaseofflight         0\n",
       "dtype: int64"
      ]
     },
     "execution_count": 103,
     "metadata": {},
     "output_type": "execute_result"
    }
   ],
   "source": [
    "airplane_df.isna().sum()"
   ]
  },
  {
   "cell_type": "markdown",
   "metadata": {},
   "source": [
    "Most of the remaining factors may contribute to the analysis and others may be used for identification and event dates if needed later. Since we don't have the information, we may not know the values and cannot be filled in. So, let us drop the nulls. "
   ]
  },
  {
   "cell_type": "code",
   "execution_count": 68,
   "metadata": {},
   "outputs": [],
   "source": [
    "#airplane_df.dropna(subset = ['Latitude', 'Longitude'], inplace=True)"
   ]
  },
  {
   "cell_type": "code",
   "execution_count": 104,
   "metadata": {},
   "outputs": [],
   "source": [
    "airplane_df.dropna(axis=0, inplace=True)"
   ]
  },
  {
   "cell_type": "code",
   "execution_count": 105,
   "metadata": {},
   "outputs": [
    {
     "data": {
      "text/plain": [
       "EventDate               0\n",
       "Location                0\n",
       "Country                 0\n",
       "Latitude                0\n",
       "Longitude               0\n",
       "InjurySeverity          0\n",
       "Aircraftdamage          0\n",
       "AircraftCategory        0\n",
       "RegistrationNumber      0\n",
       "Make                    0\n",
       "Model                   0\n",
       "AmateurBuilt            0\n",
       "NumberofEngines         0\n",
       "EngineType              0\n",
       "FARDescription          0\n",
       "Purposeofflight         0\n",
       "TotalFatalInjuries      0\n",
       "TotalSeriousInjuries    0\n",
       "TotalMinorInjuries      0\n",
       "TotalUninjured          0\n",
       "WeatherCondition        0\n",
       "Broadphaseofflight      0\n",
       "dtype: int64"
      ]
     },
     "execution_count": 105,
     "metadata": {},
     "output_type": "execute_result"
    }
   ],
   "source": [
    "airplane_df.isna().sum()"
   ]
  },
  {
   "cell_type": "code",
   "execution_count": 106,
   "metadata": {},
   "outputs": [
    {
     "data": {
      "text/plain": [
       "14744"
      ]
     },
     "execution_count": 106,
     "metadata": {},
     "output_type": "execute_result"
    }
   ],
   "source": [
    "len(airplane_df)"
   ]
  },
  {
   "cell_type": "code",
   "execution_count": 107,
   "metadata": {},
   "outputs": [
    {
     "data": {
      "text/plain": [
       "Index(['EventDate', 'Location', 'Country', 'Latitude', 'Longitude',\n",
       "       'InjurySeverity', 'Aircraftdamage', 'AircraftCategory',\n",
       "       'RegistrationNumber', 'Make', 'Model', 'AmateurBuilt',\n",
       "       'NumberofEngines', 'EngineType', 'FARDescription', 'Purposeofflight',\n",
       "       'TotalFatalInjuries', 'TotalSeriousInjuries', 'TotalMinorInjuries',\n",
       "       'TotalUninjured', 'WeatherCondition', 'Broadphaseofflight'],\n",
       "      dtype='object')"
      ]
     },
     "execution_count": 107,
     "metadata": {},
     "output_type": "execute_result"
    }
   ],
   "source": [
    "airplane_df.columns"
   ]
  },
  {
   "cell_type": "code",
   "execution_count": 108,
   "metadata": {},
   "outputs": [
    {
     "data": {
      "text/plain": [
       "Make                            Purposeofflight        \n",
       "Cessna                          Personal                   2994\n",
       "Piper                           Personal                   1969\n",
       "Cessna                          Instructional               925\n",
       "Beech                           Personal                    657\n",
       "Piper                           Instructional               458\n",
       "                                                           ... \n",
       "Diamond                         Personal                     11\n",
       "Cessna                          Public Aircraft - State      11\n",
       "Luscombe                        Instructional                11\n",
       "Aeropro cz                      Personal                     11\n",
       "Costruzioni aeronautiche tecna  Instructional                11\n",
       "Length: 100, dtype: int64"
      ]
     },
     "execution_count": 108,
     "metadata": {},
     "output_type": "execute_result"
    }
   ],
   "source": [
    "#Checking the number of makes, they are 7,587\n",
    "airplane_df['Make'].value_counts()\n",
    "#Picking the top 20 makes\n",
    "airplane_df['Make'].value_counts().head(20)\n",
    "\n",
    "#Match the make with the use of the flight. The client needs flights for commercial and private enterprises\n",
    "use_make = airplane_df[[\"Make\",\"Purposeofflight\"]].value_counts()\n",
    "use_make.head(100)"
   ]
  },
  {
   "cell_type": "markdown",
   "metadata": {},
   "source": [
    "The company intends to use aircraft for business and private enterprises. Aircraft such as instructional, public aircraft (federal, state, local), firefighting, and others, are more specialized and often not classified under general commercial or private enterprise use.\n",
    "\n",
    "Let us form a dataset with aircraft for the purpose of business and private enterprises: Personal, Business, Executive/Corporate, Aerial Application, Banner Tow, Aerial Observation, Skydiving, Ferry, Flight Test, Positioning."
   ]
  },
  {
   "cell_type": "code",
   "execution_count": 114,
   "metadata": {},
   "outputs": [
    {
     "data": {
      "text/html": [
       "<div>\n",
       "<style scoped>\n",
       "    .dataframe tbody tr th:only-of-type {\n",
       "        vertical-align: middle;\n",
       "    }\n",
       "\n",
       "    .dataframe tbody tr th {\n",
       "        vertical-align: top;\n",
       "    }\n",
       "\n",
       "    .dataframe thead th {\n",
       "        text-align: right;\n",
       "    }\n",
       "</style>\n",
       "<table border=\"1\" class=\"dataframe\">\n",
       "  <thead>\n",
       "    <tr style=\"text-align: right;\">\n",
       "      <th></th>\n",
       "      <th>EventDate</th>\n",
       "      <th>Location</th>\n",
       "      <th>Country</th>\n",
       "      <th>Latitude</th>\n",
       "      <th>Longitude</th>\n",
       "      <th>InjurySeverity</th>\n",
       "      <th>Aircraftdamage</th>\n",
       "      <th>AircraftCategory</th>\n",
       "      <th>RegistrationNumber</th>\n",
       "      <th>Make</th>\n",
       "      <th>...</th>\n",
       "      <th>NumberofEngines</th>\n",
       "      <th>EngineType</th>\n",
       "      <th>FARDescription</th>\n",
       "      <th>Purposeofflight</th>\n",
       "      <th>TotalFatalInjuries</th>\n",
       "      <th>TotalSeriousInjuries</th>\n",
       "      <th>TotalMinorInjuries</th>\n",
       "      <th>TotalUninjured</th>\n",
       "      <th>WeatherCondition</th>\n",
       "      <th>Broadphaseofflight</th>\n",
       "    </tr>\n",
       "  </thead>\n",
       "  <tbody>\n",
       "    <tr>\n",
       "      <th>0</th>\n",
       "      <td>2001-06-03</td>\n",
       "      <td>LYTLE CREEK, CA</td>\n",
       "      <td>United States</td>\n",
       "      <td>34.241389</td>\n",
       "      <td>-117.539722</td>\n",
       "      <td>Fatal(1)</td>\n",
       "      <td>Substantial</td>\n",
       "      <td>Airplane</td>\n",
       "      <td>N8253W</td>\n",
       "      <td>Piper</td>\n",
       "      <td>...</td>\n",
       "      <td>1.0</td>\n",
       "      <td>Reciprocating</td>\n",
       "      <td>Part 91: General Aviation</td>\n",
       "      <td>Personal</td>\n",
       "      <td>1.0</td>\n",
       "      <td>0.0</td>\n",
       "      <td>0.0</td>\n",
       "      <td>0.0</td>\n",
       "      <td>VMC</td>\n",
       "      <td>Maneuvering</td>\n",
       "    </tr>\n",
       "    <tr>\n",
       "      <th>1</th>\n",
       "      <td>2003-06-21</td>\n",
       "      <td>Cushing, OK</td>\n",
       "      <td>United States</td>\n",
       "      <td>35.935833</td>\n",
       "      <td>-96.779167</td>\n",
       "      <td>Fatal(1)</td>\n",
       "      <td>Destroyed</td>\n",
       "      <td>Airplane</td>\n",
       "      <td>N8548S</td>\n",
       "      <td>Cessna</td>\n",
       "      <td>...</td>\n",
       "      <td>1.0</td>\n",
       "      <td>Reciprocating</td>\n",
       "      <td>Part 91: General Aviation</td>\n",
       "      <td>Skydiving</td>\n",
       "      <td>1.0</td>\n",
       "      <td>2.0</td>\n",
       "      <td>2.0</td>\n",
       "      <td>1.0</td>\n",
       "      <td>VMC</td>\n",
       "      <td>Maneuvering</td>\n",
       "    </tr>\n",
       "    <tr>\n",
       "      <th>2</th>\n",
       "      <td>2006-11-04</td>\n",
       "      <td>Yuba City, CA</td>\n",
       "      <td>United States</td>\n",
       "      <td>38.967778</td>\n",
       "      <td>-121.626945</td>\n",
       "      <td>Fatal(2)</td>\n",
       "      <td>Destroyed</td>\n",
       "      <td>Airplane</td>\n",
       "      <td>N158MD</td>\n",
       "      <td>Aircraft mfg &amp; dev. co. (amd)</td>\n",
       "      <td>...</td>\n",
       "      <td>1.0</td>\n",
       "      <td>Reciprocating</td>\n",
       "      <td>Part 91: General Aviation</td>\n",
       "      <td>Personal</td>\n",
       "      <td>2.0</td>\n",
       "      <td>0.0</td>\n",
       "      <td>0.0</td>\n",
       "      <td>0.0</td>\n",
       "      <td>VMC</td>\n",
       "      <td>Cruise</td>\n",
       "    </tr>\n",
       "    <tr>\n",
       "      <th>3</th>\n",
       "      <td>2006-12-07</td>\n",
       "      <td>Summersville, WV</td>\n",
       "      <td>United States</td>\n",
       "      <td>38.248611</td>\n",
       "      <td>-80.976111</td>\n",
       "      <td>Fatal(1)</td>\n",
       "      <td>Destroyed</td>\n",
       "      <td>Airplane</td>\n",
       "      <td>N9165T</td>\n",
       "      <td>Mooney</td>\n",
       "      <td>...</td>\n",
       "      <td>1.0</td>\n",
       "      <td>Reciprocating</td>\n",
       "      <td>Part 91: General Aviation</td>\n",
       "      <td>Personal</td>\n",
       "      <td>1.0</td>\n",
       "      <td>0.0</td>\n",
       "      <td>0.0</td>\n",
       "      <td>0.0</td>\n",
       "      <td>IMC</td>\n",
       "      <td>Cruise</td>\n",
       "    </tr>\n",
       "    <tr>\n",
       "      <th>4</th>\n",
       "      <td>2007-01-15</td>\n",
       "      <td>ADJUNTAS, PR</td>\n",
       "      <td>United States</td>\n",
       "      <td>18.147222</td>\n",
       "      <td>-66.798333</td>\n",
       "      <td>Fatal(2)</td>\n",
       "      <td>Substantial</td>\n",
       "      <td>Airplane</td>\n",
       "      <td>N90KB</td>\n",
       "      <td>Partenavia</td>\n",
       "      <td>...</td>\n",
       "      <td>2.0</td>\n",
       "      <td>Reciprocating</td>\n",
       "      <td>Part 91: General Aviation</td>\n",
       "      <td>Personal</td>\n",
       "      <td>2.0</td>\n",
       "      <td>0.0</td>\n",
       "      <td>0.0</td>\n",
       "      <td>0.0</td>\n",
       "      <td>IMC</td>\n",
       "      <td>Descent</td>\n",
       "    </tr>\n",
       "  </tbody>\n",
       "</table>\n",
       "<p>5 rows × 22 columns</p>\n",
       "</div>"
      ],
      "text/plain": [
       "    EventDate          Location        Country   Latitude    Longitude  \\\n",
       "0  2001-06-03   LYTLE CREEK, CA  United States  34.241389  -117.539722   \n",
       "1  2003-06-21       Cushing, OK  United States  35.935833   -96.779167   \n",
       "2  2006-11-04     Yuba City, CA  United States  38.967778  -121.626945   \n",
       "3  2006-12-07  Summersville, WV  United States  38.248611   -80.976111   \n",
       "4  2007-01-15      ADJUNTAS, PR  United States  18.147222   -66.798333   \n",
       "\n",
       "  InjurySeverity Aircraftdamage AircraftCategory RegistrationNumber  \\\n",
       "0       Fatal(1)    Substantial         Airplane             N8253W   \n",
       "1       Fatal(1)      Destroyed         Airplane             N8548S   \n",
       "2       Fatal(2)      Destroyed         Airplane             N158MD   \n",
       "3       Fatal(1)      Destroyed         Airplane             N9165T   \n",
       "4       Fatal(2)    Substantial         Airplane              N90KB   \n",
       "\n",
       "                            Make  ... NumberofEngines     EngineType  \\\n",
       "0                          Piper  ...             1.0  Reciprocating   \n",
       "1                         Cessna  ...             1.0  Reciprocating   \n",
       "2  Aircraft mfg & dev. co. (amd)  ...             1.0  Reciprocating   \n",
       "3                         Mooney  ...             1.0  Reciprocating   \n",
       "4                     Partenavia  ...             2.0  Reciprocating   \n",
       "\n",
       "              FARDescription Purposeofflight TotalFatalInjuries  \\\n",
       "0  Part 91: General Aviation        Personal                1.0   \n",
       "1  Part 91: General Aviation       Skydiving                1.0   \n",
       "2  Part 91: General Aviation        Personal                2.0   \n",
       "3  Part 91: General Aviation        Personal                1.0   \n",
       "4  Part 91: General Aviation        Personal                2.0   \n",
       "\n",
       "  TotalSeriousInjuries  TotalMinorInjuries  TotalUninjured  WeatherCondition  \\\n",
       "0                  0.0                 0.0             0.0               VMC   \n",
       "1                  2.0                 2.0             1.0               VMC   \n",
       "2                  0.0                 0.0             0.0               VMC   \n",
       "3                  0.0                 0.0             0.0               IMC   \n",
       "4                  0.0                 0.0             0.0               IMC   \n",
       "\n",
       "   Broadphaseofflight  \n",
       "0         Maneuvering  \n",
       "1         Maneuvering  \n",
       "2              Cruise  \n",
       "3              Cruise  \n",
       "4             Descent  \n",
       "\n",
       "[5 rows x 22 columns]"
      ]
     },
     "execution_count": 114,
     "metadata": {},
     "output_type": "execute_result"
    }
   ],
   "source": [
    "#Select aircraft for business and private enterprises\n",
    "selectcraft = [\"Personal\", \"Business\", \"Executive/corporate\", \"Aerial Application\", \"Banner Tow\", \"Aerial Observation\", \"Skydiving\", \"Ferry\", \"Flight Test\", \"Positioning\"]\n",
    "#Confirm if the purpose selected is in the dataset purpose of flight\n",
    "selectcraftSample = airplane_df['Purposeofflight'].isin(selectcraft)\n",
    "\n",
    "#Create the dataset\n",
    "airplaneCommPrivUse_df =airplane_df[selectcraftSample]\n",
    "#Reset index for uniformity\n",
    "airplaneCommPrivUse_df.reset_index(drop=True, inplace=True)\n",
    "#Check the top 5 rows\n",
    "airplaneCommPrivUse_df.head()"
   ]
  },
  {
   "cell_type": "code",
   "execution_count": 115,
   "metadata": {},
   "outputs": [
    {
     "data": {
      "text/plain": [
       "0"
      ]
     },
     "execution_count": 115,
     "metadata": {},
     "output_type": "execute_result"
    }
   ],
   "source": [
    "#Check duplicates and drop them if they exist\n",
    "airplaneCommPrivUse_df.duplicated().sum()"
   ]
  },
  {
   "cell_type": "code",
   "execution_count": 116,
   "metadata": {},
   "outputs": [
    {
     "name": "stderr",
     "output_type": "stream",
     "text": [
      "<ipython-input-116-c13b85a9a006>:6: SettingWithCopyWarning: \n",
      "A value is trying to be set on a copy of a slice from a DataFrame\n",
      "\n",
      "See the caveats in the documentation: https://pandas.pydata.org/pandas-docs/stable/user_guide/indexing.html#returning-a-view-versus-a-copy\n",
      "  airplaneCommPrivUse_df[\"Abbreviation\"][i] = airplaneCommPrivUse_df['Location'][i][-2:]\n",
      "c:\\Users\\amerc\\anaconda3\\envs\\learn-env\\lib\\site-packages\\IPython\\core\\interactiveshell.py:3417: SettingWithCopyWarning: \n",
      "A value is trying to be set on a copy of a slice from a DataFrame\n",
      "\n",
      "See the caveats in the documentation: https://pandas.pydata.org/pandas-docs/stable/user_guide/indexing.html#returning-a-view-versus-a-copy\n",
      "  exec(code_obj, self.user_global_ns, self.user_ns)\n"
     ]
    }
   ],
   "source": [
    "#Add statecodes and state to the data.\n",
    "airplaneCommPrivUse_df['Country'].value_counts()\n",
    "airplaneCommPrivUse_df['Location'][0][-2:]\n",
    "#Create the abbreviation column and add null values which will be edited below\n",
    "airplaneCommPrivUse_df.insert(21, \"Abbreviation\", \"NaN\")\n",
    "\n",
    "#Loop through the dataset and add abbreviations using the Location column's last 2 characters\n",
    "for i in range(len(airplaneCommPrivUse_df['Location'])):\n",
    "    airplaneCommPrivUse_df[\"Abbreviation\"][i] = airplaneCommPrivUse_df['Location'][i][-2:]\n",
    "    i=+1"
   ]
  },
  {
   "cell_type": "code",
   "execution_count": 117,
   "metadata": {},
   "outputs": [
    {
     "data": {
      "text/plain": [
       "Index(['EventDate', 'Location', 'Country', 'Latitude', 'Longitude',\n",
       "       'InjurySeverity', 'Aircraftdamage', 'AircraftCategory',\n",
       "       'RegistrationNumber', 'Make', 'Model', 'AmateurBuilt',\n",
       "       'NumberofEngines', 'EngineType', 'FARDescription', 'Purposeofflight',\n",
       "       'TotalFatalInjuries', 'TotalSeriousInjuries', 'TotalMinorInjuries',\n",
       "       'TotalUninjured', 'WeatherCondition', 'Abbreviation',\n",
       "       'Broadphaseofflight'],\n",
       "      dtype='object')"
      ]
     },
     "execution_count": 117,
     "metadata": {},
     "output_type": "execute_result"
    }
   ],
   "source": [
    "#Confirm the column has been added\n",
    "airplaneCommPrivUse_df.columns"
   ]
  },
  {
   "cell_type": "code",
   "execution_count": 119,
   "metadata": {},
   "outputs": [
    {
     "data": {
      "text/html": [
       "<div>\n",
       "<style scoped>\n",
       "    .dataframe tbody tr th:only-of-type {\n",
       "        vertical-align: middle;\n",
       "    }\n",
       "\n",
       "    .dataframe tbody tr th {\n",
       "        vertical-align: top;\n",
       "    }\n",
       "\n",
       "    .dataframe thead th {\n",
       "        text-align: right;\n",
       "    }\n",
       "</style>\n",
       "<table border=\"1\" class=\"dataframe\">\n",
       "  <thead>\n",
       "    <tr style=\"text-align: right;\">\n",
       "      <th></th>\n",
       "      <th>EventDate</th>\n",
       "      <th>Location</th>\n",
       "      <th>Country</th>\n",
       "      <th>Latitude</th>\n",
       "      <th>Longitude</th>\n",
       "      <th>InjurySeverity</th>\n",
       "      <th>Aircraftdamage</th>\n",
       "      <th>AircraftCategory</th>\n",
       "      <th>RegistrationNumber</th>\n",
       "      <th>Make</th>\n",
       "      <th>...</th>\n",
       "      <th>FARDescription</th>\n",
       "      <th>Purposeofflight</th>\n",
       "      <th>TotalFatalInjuries</th>\n",
       "      <th>TotalSeriousInjuries</th>\n",
       "      <th>TotalMinorInjuries</th>\n",
       "      <th>TotalUninjured</th>\n",
       "      <th>WeatherCondition</th>\n",
       "      <th>Abbreviation</th>\n",
       "      <th>Broadphaseofflight</th>\n",
       "      <th>US_State</th>\n",
       "    </tr>\n",
       "  </thead>\n",
       "  <tbody>\n",
       "    <tr>\n",
       "      <th>0</th>\n",
       "      <td>2001-06-03</td>\n",
       "      <td>LYTLE CREEK, CA</td>\n",
       "      <td>United States</td>\n",
       "      <td>34.241389</td>\n",
       "      <td>-117.539722</td>\n",
       "      <td>Fatal(1)</td>\n",
       "      <td>Substantial</td>\n",
       "      <td>Airplane</td>\n",
       "      <td>N8253W</td>\n",
       "      <td>Piper</td>\n",
       "      <td>...</td>\n",
       "      <td>Part 91: General Aviation</td>\n",
       "      <td>Personal</td>\n",
       "      <td>1.0</td>\n",
       "      <td>0.0</td>\n",
       "      <td>0.0</td>\n",
       "      <td>0.0</td>\n",
       "      <td>VMC</td>\n",
       "      <td>CA</td>\n",
       "      <td>Maneuvering</td>\n",
       "      <td>California</td>\n",
       "    </tr>\n",
       "    <tr>\n",
       "      <th>1</th>\n",
       "      <td>2003-06-21</td>\n",
       "      <td>Cushing, OK</td>\n",
       "      <td>United States</td>\n",
       "      <td>35.935833</td>\n",
       "      <td>-96.779167</td>\n",
       "      <td>Fatal(1)</td>\n",
       "      <td>Destroyed</td>\n",
       "      <td>Airplane</td>\n",
       "      <td>N8548S</td>\n",
       "      <td>Cessna</td>\n",
       "      <td>...</td>\n",
       "      <td>Part 91: General Aviation</td>\n",
       "      <td>Skydiving</td>\n",
       "      <td>1.0</td>\n",
       "      <td>2.0</td>\n",
       "      <td>2.0</td>\n",
       "      <td>1.0</td>\n",
       "      <td>VMC</td>\n",
       "      <td>OK</td>\n",
       "      <td>Maneuvering</td>\n",
       "      <td>Oklahoma</td>\n",
       "    </tr>\n",
       "    <tr>\n",
       "      <th>2</th>\n",
       "      <td>2006-11-04</td>\n",
       "      <td>Yuba City, CA</td>\n",
       "      <td>United States</td>\n",
       "      <td>38.967778</td>\n",
       "      <td>-121.626945</td>\n",
       "      <td>Fatal(2)</td>\n",
       "      <td>Destroyed</td>\n",
       "      <td>Airplane</td>\n",
       "      <td>N158MD</td>\n",
       "      <td>Aircraft mfg &amp; dev. co. (amd)</td>\n",
       "      <td>...</td>\n",
       "      <td>Part 91: General Aviation</td>\n",
       "      <td>Personal</td>\n",
       "      <td>2.0</td>\n",
       "      <td>0.0</td>\n",
       "      <td>0.0</td>\n",
       "      <td>0.0</td>\n",
       "      <td>VMC</td>\n",
       "      <td>CA</td>\n",
       "      <td>Cruise</td>\n",
       "      <td>California</td>\n",
       "    </tr>\n",
       "    <tr>\n",
       "      <th>3</th>\n",
       "      <td>2006-12-07</td>\n",
       "      <td>Summersville, WV</td>\n",
       "      <td>United States</td>\n",
       "      <td>38.248611</td>\n",
       "      <td>-80.976111</td>\n",
       "      <td>Fatal(1)</td>\n",
       "      <td>Destroyed</td>\n",
       "      <td>Airplane</td>\n",
       "      <td>N9165T</td>\n",
       "      <td>Mooney</td>\n",
       "      <td>...</td>\n",
       "      <td>Part 91: General Aviation</td>\n",
       "      <td>Personal</td>\n",
       "      <td>1.0</td>\n",
       "      <td>0.0</td>\n",
       "      <td>0.0</td>\n",
       "      <td>0.0</td>\n",
       "      <td>IMC</td>\n",
       "      <td>WV</td>\n",
       "      <td>Cruise</td>\n",
       "      <td>West Virginia</td>\n",
       "    </tr>\n",
       "    <tr>\n",
       "      <th>4</th>\n",
       "      <td>2007-01-15</td>\n",
       "      <td>ADJUNTAS, PR</td>\n",
       "      <td>United States</td>\n",
       "      <td>18.147222</td>\n",
       "      <td>-66.798333</td>\n",
       "      <td>Fatal(2)</td>\n",
       "      <td>Substantial</td>\n",
       "      <td>Airplane</td>\n",
       "      <td>N90KB</td>\n",
       "      <td>Partenavia</td>\n",
       "      <td>...</td>\n",
       "      <td>Part 91: General Aviation</td>\n",
       "      <td>Personal</td>\n",
       "      <td>2.0</td>\n",
       "      <td>0.0</td>\n",
       "      <td>0.0</td>\n",
       "      <td>0.0</td>\n",
       "      <td>IMC</td>\n",
       "      <td>PR</td>\n",
       "      <td>Descent</td>\n",
       "      <td>Puerto Rico</td>\n",
       "    </tr>\n",
       "  </tbody>\n",
       "</table>\n",
       "<p>5 rows × 24 columns</p>\n",
       "</div>"
      ],
      "text/plain": [
       "    EventDate          Location        Country   Latitude    Longitude  \\\n",
       "0  2001-06-03   LYTLE CREEK, CA  United States  34.241389  -117.539722   \n",
       "1  2003-06-21       Cushing, OK  United States  35.935833   -96.779167   \n",
       "2  2006-11-04     Yuba City, CA  United States  38.967778  -121.626945   \n",
       "3  2006-12-07  Summersville, WV  United States  38.248611   -80.976111   \n",
       "4  2007-01-15      ADJUNTAS, PR  United States  18.147222   -66.798333   \n",
       "\n",
       "  InjurySeverity Aircraftdamage AircraftCategory RegistrationNumber  \\\n",
       "0       Fatal(1)    Substantial         Airplane             N8253W   \n",
       "1       Fatal(1)      Destroyed         Airplane             N8548S   \n",
       "2       Fatal(2)      Destroyed         Airplane             N158MD   \n",
       "3       Fatal(1)      Destroyed         Airplane             N9165T   \n",
       "4       Fatal(2)    Substantial         Airplane              N90KB   \n",
       "\n",
       "                            Make  ...             FARDescription  \\\n",
       "0                          Piper  ...  Part 91: General Aviation   \n",
       "1                         Cessna  ...  Part 91: General Aviation   \n",
       "2  Aircraft mfg & dev. co. (amd)  ...  Part 91: General Aviation   \n",
       "3                         Mooney  ...  Part 91: General Aviation   \n",
       "4                     Partenavia  ...  Part 91: General Aviation   \n",
       "\n",
       "  Purposeofflight  TotalFatalInjuries TotalSeriousInjuries TotalMinorInjuries  \\\n",
       "0        Personal                 1.0                  0.0                0.0   \n",
       "1       Skydiving                 1.0                  2.0                2.0   \n",
       "2        Personal                 2.0                  0.0                0.0   \n",
       "3        Personal                 1.0                  0.0                0.0   \n",
       "4        Personal                 2.0                  0.0                0.0   \n",
       "\n",
       "  TotalUninjured  WeatherCondition  Abbreviation  Broadphaseofflight  \\\n",
       "0            0.0               VMC            CA         Maneuvering   \n",
       "1            1.0               VMC            OK         Maneuvering   \n",
       "2            0.0               VMC            CA              Cruise   \n",
       "3            0.0               IMC            WV              Cruise   \n",
       "4            0.0               IMC            PR             Descent   \n",
       "\n",
       "        US_State  \n",
       "0     California  \n",
       "1       Oklahoma  \n",
       "2     California  \n",
       "3  West Virginia  \n",
       "4    Puerto Rico  \n",
       "\n",
       "[5 rows x 24 columns]"
      ]
     },
     "execution_count": 119,
     "metadata": {},
     "output_type": "execute_result"
    }
   ],
   "source": [
    "#Merge data from the 2 datasets using a left join as we only need to fill in the state from the us_state dataset\n",
    "airplaneCommPrivUse_df_merged =airplaneCommPrivUse_df.merge(usstate_df, how='left', on='Abbreviation')\n",
    "\n",
    "#confirm by checking the top 5 rows\n",
    "airplaneCommPrivUse_df_merged.head()"
   ]
  },
  {
   "cell_type": "code",
   "execution_count": 160,
   "metadata": {},
   "outputs": [
    {
     "name": "stdout",
     "output_type": "stream",
     "text": [
      "<class 'pandas.core.frame.DataFrame'>\n",
      "RangeIndex: 12376 entries, 0 to 12375\n",
      "Data columns (total 24 columns):\n",
      " #   Column                Non-Null Count  Dtype  \n",
      "---  ------                --------------  -----  \n",
      " 0   EventDate             12376 non-null  object \n",
      " 1   Location              12376 non-null  object \n",
      " 2   Country               12376 non-null  object \n",
      " 3   Latitude              12376 non-null  object \n",
      " 4   Longitude             12376 non-null  object \n",
      " 5   InjurySeverity        12376 non-null  object \n",
      " 6   Aircraftdamage        12376 non-null  object \n",
      " 7   AircraftCategory      12376 non-null  object \n",
      " 8   RegistrationNumber    12376 non-null  object \n",
      " 9   Make                  12376 non-null  object \n",
      " 10  Model                 12376 non-null  object \n",
      " 11  AmateurBuilt          12376 non-null  object \n",
      " 12  NumberofEngines       12376 non-null  float64\n",
      " 13  EngineType            12376 non-null  object \n",
      " 14  FARDescription        12376 non-null  object \n",
      " 15  Purposeofflight       12376 non-null  object \n",
      " 16  TotalFatalInjuries    12376 non-null  float64\n",
      " 17  TotalSeriousInjuries  12376 non-null  float64\n",
      " 18  TotalMinorInjuries    12376 non-null  float64\n",
      " 19  TotalUninjured        12376 non-null  float64\n",
      " 20  WeatherCondition      12376 non-null  object \n",
      " 21  Abbreviation          12376 non-null  object \n",
      " 22  Broadphaseofflight    12376 non-null  object \n",
      " 23  US_State              12376 non-null  object \n",
      "dtypes: float64(5), object(19)\n",
      "memory usage: 2.3+ MB\n"
     ]
    }
   ],
   "source": [
    "#Check information about the merged dataset\n",
    "airplaneCommPrivUse_df_merged.info()"
   ]
  },
  {
   "cell_type": "code",
   "execution_count": 122,
   "metadata": {},
   "outputs": [
    {
     "data": {
      "text/plain": [
       "EventDate                0\n",
       "Location                 0\n",
       "Country                  0\n",
       "Latitude                 0\n",
       "Longitude                0\n",
       "InjurySeverity           0\n",
       "Aircraftdamage           0\n",
       "AircraftCategory         0\n",
       "RegistrationNumber       0\n",
       "Make                     0\n",
       "Model                    0\n",
       "AmateurBuilt             0\n",
       "NumberofEngines          0\n",
       "EngineType               0\n",
       "FARDescription           0\n",
       "Purposeofflight          0\n",
       "TotalFatalInjuries       0\n",
       "TotalSeriousInjuries     0\n",
       "TotalMinorInjuries       0\n",
       "TotalUninjured           0\n",
       "WeatherCondition         0\n",
       "Abbreviation             0\n",
       "Broadphaseofflight       0\n",
       "US_State                86\n",
       "dtype: int64"
      ]
     },
     "execution_count": 122,
     "metadata": {},
     "output_type": "execute_result"
    }
   ],
   "source": [
    "#Confirm if there is missing data after merging\n",
    "airplaneCommPrivUse_df_merged.isna().sum()"
   ]
  },
  {
   "cell_type": "markdown",
   "metadata": {},
   "source": [
    "Note the merge created some null values. So we fill in 'Unknown\" as we cannot drop the rows"
   ]
  },
  {
   "cell_type": "code",
   "execution_count": 335,
   "metadata": {},
   "outputs": [
    {
     "data": {
      "text/html": [
       "<div>\n",
       "<style scoped>\n",
       "    .dataframe tbody tr th:only-of-type {\n",
       "        vertical-align: middle;\n",
       "    }\n",
       "\n",
       "    .dataframe tbody tr th {\n",
       "        vertical-align: top;\n",
       "    }\n",
       "\n",
       "    .dataframe thead th {\n",
       "        text-align: right;\n",
       "    }\n",
       "</style>\n",
       "<table border=\"1\" class=\"dataframe\">\n",
       "  <thead>\n",
       "    <tr style=\"text-align: right;\">\n",
       "      <th></th>\n",
       "      <th>EventDate</th>\n",
       "      <th>Location</th>\n",
       "      <th>Country</th>\n",
       "      <th>Latitude</th>\n",
       "      <th>Longitude</th>\n",
       "      <th>InjurySeverity</th>\n",
       "      <th>Aircraftdamage</th>\n",
       "      <th>AircraftCategory</th>\n",
       "      <th>RegistrationNumber</th>\n",
       "      <th>Make</th>\n",
       "      <th>...</th>\n",
       "      <th>FARDescription</th>\n",
       "      <th>Purposeofflight</th>\n",
       "      <th>TotalFatalInjuries</th>\n",
       "      <th>TotalSeriousInjuries</th>\n",
       "      <th>TotalMinorInjuries</th>\n",
       "      <th>TotalUninjured</th>\n",
       "      <th>WeatherCondition</th>\n",
       "      <th>Abbreviation</th>\n",
       "      <th>Broadphaseofflight</th>\n",
       "      <th>US_State</th>\n",
       "    </tr>\n",
       "  </thead>\n",
       "  <tbody>\n",
       "    <tr>\n",
       "      <th>0</th>\n",
       "      <td>2001-06-03</td>\n",
       "      <td>LYTLE CREEK, CA</td>\n",
       "      <td>United States</td>\n",
       "      <td>34.241389</td>\n",
       "      <td>-117.539722</td>\n",
       "      <td>Fatal(1)</td>\n",
       "      <td>Substantial</td>\n",
       "      <td>Airplane</td>\n",
       "      <td>N8253W</td>\n",
       "      <td>Piper</td>\n",
       "      <td>...</td>\n",
       "      <td>Part 91: General Aviation</td>\n",
       "      <td>Personal</td>\n",
       "      <td>1.0</td>\n",
       "      <td>0.0</td>\n",
       "      <td>0.0</td>\n",
       "      <td>0.0</td>\n",
       "      <td>VMC</td>\n",
       "      <td>CA</td>\n",
       "      <td>Maneuvering</td>\n",
       "      <td>California</td>\n",
       "    </tr>\n",
       "    <tr>\n",
       "      <th>1</th>\n",
       "      <td>2003-06-21</td>\n",
       "      <td>Cushing, OK</td>\n",
       "      <td>United States</td>\n",
       "      <td>35.935833</td>\n",
       "      <td>-96.779167</td>\n",
       "      <td>Fatal(1)</td>\n",
       "      <td>Destroyed</td>\n",
       "      <td>Airplane</td>\n",
       "      <td>N8548S</td>\n",
       "      <td>Cessna</td>\n",
       "      <td>...</td>\n",
       "      <td>Part 91: General Aviation</td>\n",
       "      <td>Skydiving</td>\n",
       "      <td>1.0</td>\n",
       "      <td>2.0</td>\n",
       "      <td>2.0</td>\n",
       "      <td>1.0</td>\n",
       "      <td>VMC</td>\n",
       "      <td>OK</td>\n",
       "      <td>Maneuvering</td>\n",
       "      <td>Oklahoma</td>\n",
       "    </tr>\n",
       "    <tr>\n",
       "      <th>2</th>\n",
       "      <td>2006-11-04</td>\n",
       "      <td>Yuba City, CA</td>\n",
       "      <td>United States</td>\n",
       "      <td>38.967778</td>\n",
       "      <td>-121.626945</td>\n",
       "      <td>Fatal(2)</td>\n",
       "      <td>Destroyed</td>\n",
       "      <td>Airplane</td>\n",
       "      <td>N158MD</td>\n",
       "      <td>Aircraft mfg &amp; dev. co. (amd)</td>\n",
       "      <td>...</td>\n",
       "      <td>Part 91: General Aviation</td>\n",
       "      <td>Personal</td>\n",
       "      <td>2.0</td>\n",
       "      <td>0.0</td>\n",
       "      <td>0.0</td>\n",
       "      <td>0.0</td>\n",
       "      <td>VMC</td>\n",
       "      <td>CA</td>\n",
       "      <td>Cruise</td>\n",
       "      <td>California</td>\n",
       "    </tr>\n",
       "    <tr>\n",
       "      <th>3</th>\n",
       "      <td>2006-12-07</td>\n",
       "      <td>Summersville, WV</td>\n",
       "      <td>United States</td>\n",
       "      <td>38.248611</td>\n",
       "      <td>-80.976111</td>\n",
       "      <td>Fatal(1)</td>\n",
       "      <td>Destroyed</td>\n",
       "      <td>Airplane</td>\n",
       "      <td>N9165T</td>\n",
       "      <td>Mooney</td>\n",
       "      <td>...</td>\n",
       "      <td>Part 91: General Aviation</td>\n",
       "      <td>Personal</td>\n",
       "      <td>1.0</td>\n",
       "      <td>0.0</td>\n",
       "      <td>0.0</td>\n",
       "      <td>0.0</td>\n",
       "      <td>IMC</td>\n",
       "      <td>WV</td>\n",
       "      <td>Cruise</td>\n",
       "      <td>West Virginia</td>\n",
       "    </tr>\n",
       "    <tr>\n",
       "      <th>4</th>\n",
       "      <td>2007-01-15</td>\n",
       "      <td>ADJUNTAS, PR</td>\n",
       "      <td>United States</td>\n",
       "      <td>18.147222</td>\n",
       "      <td>-66.798333</td>\n",
       "      <td>Fatal(2)</td>\n",
       "      <td>Substantial</td>\n",
       "      <td>Airplane</td>\n",
       "      <td>N90KB</td>\n",
       "      <td>Partenavia</td>\n",
       "      <td>...</td>\n",
       "      <td>Part 91: General Aviation</td>\n",
       "      <td>Personal</td>\n",
       "      <td>2.0</td>\n",
       "      <td>0.0</td>\n",
       "      <td>0.0</td>\n",
       "      <td>0.0</td>\n",
       "      <td>IMC</td>\n",
       "      <td>PR</td>\n",
       "      <td>Descent</td>\n",
       "      <td>Puerto Rico</td>\n",
       "    </tr>\n",
       "  </tbody>\n",
       "</table>\n",
       "<p>5 rows × 24 columns</p>\n",
       "</div>"
      ],
      "text/plain": [
       "    EventDate          Location        Country   Latitude    Longitude  \\\n",
       "0  2001-06-03   LYTLE CREEK, CA  United States  34.241389  -117.539722   \n",
       "1  2003-06-21       Cushing, OK  United States  35.935833   -96.779167   \n",
       "2  2006-11-04     Yuba City, CA  United States  38.967778  -121.626945   \n",
       "3  2006-12-07  Summersville, WV  United States  38.248611   -80.976111   \n",
       "4  2007-01-15      ADJUNTAS, PR  United States  18.147222   -66.798333   \n",
       "\n",
       "  InjurySeverity Aircraftdamage AircraftCategory RegistrationNumber  \\\n",
       "0       Fatal(1)    Substantial         Airplane             N8253W   \n",
       "1       Fatal(1)      Destroyed         Airplane             N8548S   \n",
       "2       Fatal(2)      Destroyed         Airplane             N158MD   \n",
       "3       Fatal(1)      Destroyed         Airplane             N9165T   \n",
       "4       Fatal(2)    Substantial         Airplane              N90KB   \n",
       "\n",
       "                            Make  ...             FARDescription  \\\n",
       "0                          Piper  ...  Part 91: General Aviation   \n",
       "1                         Cessna  ...  Part 91: General Aviation   \n",
       "2  Aircraft mfg & dev. co. (amd)  ...  Part 91: General Aviation   \n",
       "3                         Mooney  ...  Part 91: General Aviation   \n",
       "4                     Partenavia  ...  Part 91: General Aviation   \n",
       "\n",
       "  Purposeofflight  TotalFatalInjuries TotalSeriousInjuries TotalMinorInjuries  \\\n",
       "0        Personal                 1.0                  0.0                0.0   \n",
       "1       Skydiving                 1.0                  2.0                2.0   \n",
       "2        Personal                 2.0                  0.0                0.0   \n",
       "3        Personal                 1.0                  0.0                0.0   \n",
       "4        Personal                 2.0                  0.0                0.0   \n",
       "\n",
       "  TotalUninjured  WeatherCondition  Abbreviation  Broadphaseofflight  \\\n",
       "0            0.0               VMC            CA         Maneuvering   \n",
       "1            1.0               VMC            OK         Maneuvering   \n",
       "2            0.0               VMC            CA              Cruise   \n",
       "3            0.0               IMC            WV              Cruise   \n",
       "4            0.0               IMC            PR             Descent   \n",
       "\n",
       "        US_State  \n",
       "0     California  \n",
       "1       Oklahoma  \n",
       "2     California  \n",
       "3  West Virginia  \n",
       "4    Puerto Rico  \n",
       "\n",
       "[5 rows x 24 columns]"
      ]
     },
     "execution_count": 335,
     "metadata": {},
     "output_type": "execute_result"
    }
   ],
   "source": [
    "#Fiil in the missing values with 'unknown'\n",
    "airplaneCommPrivUse_df_merged['US_State'].fillna(\"Unknown\", inplace=True)\n",
    "len(airplaneCommPrivUse_df_merged)\n",
    "#Reset index for uniformity\n",
    "airplaneCommPrivUse_df_merged.reset_index(drop=True, inplace=True)\n",
    "airplaneCommPrivUse_df_merged.head()"
   ]
  },
  {
   "cell_type": "markdown",
   "metadata": {},
   "source": [
    "## EDA\n",
    "### Checking history data\n",
    "Let us check on the make and model of the aircrafts. This will show which ones are used/bought often.\n",
    "\n",
    "Later we will examine Aircraft Damage by reviewing the historical damage records of each aircraft model. Models with frequent or severe damage might indicate higher risk\n",
    "\n",
    "Assess Injury Severity: Analyze the severity of injuries reported for each aircraft model. Lower injury severity can indicate better safety performance.\n",
    "\n",
    "Review Total Fatal and Serious Injuries: High numbers of fatal or serious injuries might be red flags. Compare these numbers across different aircraft models to identify safer options"
   ]
  },
  {
   "cell_type": "code",
   "execution_count": 150,
   "metadata": {},
   "outputs": [
    {
     "data": {
      "text/plain": [
       "Cessna               3463\n",
       "Piper                2184\n",
       "Beech                 762\n",
       "Mooney                233\n",
       "Air tractor inc       167\n",
       "                     ... \n",
       "Nelson sydney           1\n",
       "Post                    1\n",
       "Quickie                 1\n",
       "Edwards douglas l       1\n",
       "Citabria                1\n",
       "Name: Make, Length: 2454, dtype: int64"
      ]
     },
     "execution_count": 150,
     "metadata": {},
     "output_type": "execute_result"
    }
   ],
   "source": [
    "#Which 'Make' are so common: Cessna, Piper, Beech, Mooney\n",
    "airplaneCommPrivUse_df_merged['Make'].value_counts()"
   ]
  },
  {
   "cell_type": "code",
   "execution_count": 143,
   "metadata": {},
   "outputs": [
    {
     "data": {
      "image/png": "[encoded data removed]",
      "text/plain": [
       "<Figure size 720x576 with 1 Axes>"
      ]
     },
     "metadata": {
      "needs_background": "light"
     },
     "output_type": "display_data"
    }
   ],
   "source": [
    "#Plot the graph showing Make\n",
    "df = airplaneCommPrivUse_df_merged.Make.value_counts()\n",
    "#Plotting the top 30 'Makes\"\n",
    "df[:30].plot(kind='bar', figsize=(10,8))\n",
    "plt.title(\"Aircraft Make\")\n",
    "plt.xlabel(\"Aircraft Make\")\n",
    "plt.ylabel(\"Total Number of Aircraft\")\n",
    "plt.show()"
   ]
  },
  {
   "cell_type": "code",
   "execution_count": 145,
   "metadata": {},
   "outputs": [],
   "source": [
    "#Create a clean dataset\n",
    "airplaneCommPrivUse_df_merged.head()\n",
    "#Save the new cleaned data\n",
    "airplaneCommPrivUse_df_merged.to_csv(\"clean_aircraft.csv\", index=False)"
   ]
  },
  {
   "cell_type": "code",
   "execution_count": 251,
   "metadata": {},
   "outputs": [
    {
     "data": {
      "text/html": [
       "<div>\n",
       "<style scoped>\n",
       "    .dataframe tbody tr th:only-of-type {\n",
       "        vertical-align: middle;\n",
       "    }\n",
       "\n",
       "    .dataframe tbody tr th {\n",
       "        vertical-align: top;\n",
       "    }\n",
       "\n",
       "    .dataframe thead th {\n",
       "        text-align: right;\n",
       "    }\n",
       "</style>\n",
       "<table border=\"1\" class=\"dataframe\">\n",
       "  <thead>\n",
       "    <tr style=\"text-align: right;\">\n",
       "      <th></th>\n",
       "      <th>EventDate</th>\n",
       "      <th>Location</th>\n",
       "      <th>Country</th>\n",
       "      <th>Latitude</th>\n",
       "      <th>Longitude</th>\n",
       "      <th>InjurySeverity</th>\n",
       "      <th>Aircraftdamage</th>\n",
       "      <th>AircraftCategory</th>\n",
       "      <th>RegistrationNumber</th>\n",
       "      <th>Make</th>\n",
       "      <th>...</th>\n",
       "      <th>FARDescription</th>\n",
       "      <th>Purposeofflight</th>\n",
       "      <th>TotalFatalInjuries</th>\n",
       "      <th>TotalSeriousInjuries</th>\n",
       "      <th>TotalMinorInjuries</th>\n",
       "      <th>TotalUninjured</th>\n",
       "      <th>WeatherCondition</th>\n",
       "      <th>Abbreviation</th>\n",
       "      <th>Broadphaseofflight</th>\n",
       "      <th>US_State</th>\n",
       "    </tr>\n",
       "  </thead>\n",
       "  <tbody>\n",
       "    <tr>\n",
       "      <th>0</th>\n",
       "      <td>2001-06-03</td>\n",
       "      <td>LYTLE CREEK, CA</td>\n",
       "      <td>United States</td>\n",
       "      <td>34.241389</td>\n",
       "      <td>-117.539722</td>\n",
       "      <td>Fatal(1)</td>\n",
       "      <td>Substantial</td>\n",
       "      <td>Airplane</td>\n",
       "      <td>N8253W</td>\n",
       "      <td>Piper</td>\n",
       "      <td>...</td>\n",
       "      <td>Part 91: General Aviation</td>\n",
       "      <td>Personal</td>\n",
       "      <td>1</td>\n",
       "      <td>0</td>\n",
       "      <td>0</td>\n",
       "      <td>0</td>\n",
       "      <td>VMC</td>\n",
       "      <td>CA</td>\n",
       "      <td>Maneuvering</td>\n",
       "      <td>California</td>\n",
       "    </tr>\n",
       "    <tr>\n",
       "      <th>1</th>\n",
       "      <td>2003-06-21</td>\n",
       "      <td>Cushing, OK</td>\n",
       "      <td>United States</td>\n",
       "      <td>35.935833</td>\n",
       "      <td>-96.779167</td>\n",
       "      <td>Fatal(1)</td>\n",
       "      <td>Destroyed</td>\n",
       "      <td>Airplane</td>\n",
       "      <td>N8548S</td>\n",
       "      <td>Cessna</td>\n",
       "      <td>...</td>\n",
       "      <td>Part 91: General Aviation</td>\n",
       "      <td>Skydiving</td>\n",
       "      <td>1</td>\n",
       "      <td>2</td>\n",
       "      <td>2</td>\n",
       "      <td>1</td>\n",
       "      <td>VMC</td>\n",
       "      <td>OK</td>\n",
       "      <td>Maneuvering</td>\n",
       "      <td>Oklahoma</td>\n",
       "    </tr>\n",
       "    <tr>\n",
       "      <th>2</th>\n",
       "      <td>2006-11-04</td>\n",
       "      <td>Yuba City, CA</td>\n",
       "      <td>United States</td>\n",
       "      <td>38.967778</td>\n",
       "      <td>-121.626945</td>\n",
       "      <td>Fatal(2)</td>\n",
       "      <td>Destroyed</td>\n",
       "      <td>Airplane</td>\n",
       "      <td>N158MD</td>\n",
       "      <td>Aircraft mfg &amp; dev. co. (amd)</td>\n",
       "      <td>...</td>\n",
       "      <td>Part 91: General Aviation</td>\n",
       "      <td>Personal</td>\n",
       "      <td>2</td>\n",
       "      <td>0</td>\n",
       "      <td>0</td>\n",
       "      <td>0</td>\n",
       "      <td>VMC</td>\n",
       "      <td>CA</td>\n",
       "      <td>Cruise</td>\n",
       "      <td>California</td>\n",
       "    </tr>\n",
       "    <tr>\n",
       "      <th>3</th>\n",
       "      <td>2006-12-07</td>\n",
       "      <td>Summersville, WV</td>\n",
       "      <td>United States</td>\n",
       "      <td>38.248611</td>\n",
       "      <td>-80.976111</td>\n",
       "      <td>Fatal(1)</td>\n",
       "      <td>Destroyed</td>\n",
       "      <td>Airplane</td>\n",
       "      <td>N9165T</td>\n",
       "      <td>Mooney</td>\n",
       "      <td>...</td>\n",
       "      <td>Part 91: General Aviation</td>\n",
       "      <td>Personal</td>\n",
       "      <td>1</td>\n",
       "      <td>0</td>\n",
       "      <td>0</td>\n",
       "      <td>0</td>\n",
       "      <td>IMC</td>\n",
       "      <td>WV</td>\n",
       "      <td>Cruise</td>\n",
       "      <td>West Virginia</td>\n",
       "    </tr>\n",
       "    <tr>\n",
       "      <th>4</th>\n",
       "      <td>2007-01-15</td>\n",
       "      <td>ADJUNTAS, PR</td>\n",
       "      <td>United States</td>\n",
       "      <td>18.147222</td>\n",
       "      <td>-66.798333</td>\n",
       "      <td>Fatal(2)</td>\n",
       "      <td>Substantial</td>\n",
       "      <td>Airplane</td>\n",
       "      <td>N90KB</td>\n",
       "      <td>Partenavia</td>\n",
       "      <td>...</td>\n",
       "      <td>Part 91: General Aviation</td>\n",
       "      <td>Personal</td>\n",
       "      <td>2</td>\n",
       "      <td>0</td>\n",
       "      <td>0</td>\n",
       "      <td>0</td>\n",
       "      <td>IMC</td>\n",
       "      <td>PR</td>\n",
       "      <td>Descent</td>\n",
       "      <td>Puerto Rico</td>\n",
       "    </tr>\n",
       "  </tbody>\n",
       "</table>\n",
       "<p>5 rows × 24 columns</p>\n",
       "</div>"
      ],
      "text/plain": [
       "    EventDate          Location        Country   Latitude    Longitude  \\\n",
       "0  2001-06-03   LYTLE CREEK, CA  United States  34.241389  -117.539722   \n",
       "1  2003-06-21       Cushing, OK  United States  35.935833   -96.779167   \n",
       "2  2006-11-04     Yuba City, CA  United States  38.967778  -121.626945   \n",
       "3  2006-12-07  Summersville, WV  United States  38.248611   -80.976111   \n",
       "4  2007-01-15      ADJUNTAS, PR  United States  18.147222   -66.798333   \n",
       "\n",
       "  InjurySeverity Aircraftdamage AircraftCategory RegistrationNumber  \\\n",
       "0       Fatal(1)    Substantial         Airplane             N8253W   \n",
       "1       Fatal(1)      Destroyed         Airplane             N8548S   \n",
       "2       Fatal(2)      Destroyed         Airplane             N158MD   \n",
       "3       Fatal(1)      Destroyed         Airplane             N9165T   \n",
       "4       Fatal(2)    Substantial         Airplane              N90KB   \n",
       "\n",
       "                            Make  ...             FARDescription  \\\n",
       "0                          Piper  ...  Part 91: General Aviation   \n",
       "1                         Cessna  ...  Part 91: General Aviation   \n",
       "2  Aircraft mfg & dev. co. (amd)  ...  Part 91: General Aviation   \n",
       "3                         Mooney  ...  Part 91: General Aviation   \n",
       "4                     Partenavia  ...  Part 91: General Aviation   \n",
       "\n",
       "  Purposeofflight  TotalFatalInjuries TotalSeriousInjuries TotalMinorInjuries  \\\n",
       "0        Personal                   1                    0                  0   \n",
       "1       Skydiving                   1                    2                  2   \n",
       "2        Personal                   2                    0                  0   \n",
       "3        Personal                   1                    0                  0   \n",
       "4        Personal                   2                    0                  0   \n",
       "\n",
       "  TotalUninjured  WeatherCondition  Abbreviation  Broadphaseofflight  \\\n",
       "0              0               VMC            CA         Maneuvering   \n",
       "1              1               VMC            OK         Maneuvering   \n",
       "2              0               VMC            CA              Cruise   \n",
       "3              0               IMC            WV              Cruise   \n",
       "4              0               IMC            PR             Descent   \n",
       "\n",
       "        US_State  \n",
       "0     California  \n",
       "1       Oklahoma  \n",
       "2     California  \n",
       "3  West Virginia  \n",
       "4    Puerto Rico  \n",
       "\n",
       "[5 rows x 24 columns]"
      ]
     },
     "execution_count": 251,
     "metadata": {},
     "output_type": "execute_result"
    }
   ],
   "source": [
    "#Load and read the cleaned dataset\n",
    "clean_aircraft_df = pd.read_csv(\"clean_aircraft.csv\")\n",
    "clean_aircraft_df.head()"
   ]
  },
  {
   "cell_type": "code",
   "execution_count": 253,
   "metadata": {},
   "outputs": [
    {
     "data": {
      "text/plain": [
       "EventDate               object\n",
       "Location                object\n",
       "Country                 object\n",
       "Latitude                object\n",
       "Longitude               object\n",
       "InjurySeverity          object\n",
       "Aircraftdamage          object\n",
       "AircraftCategory        object\n",
       "RegistrationNumber      object\n",
       "Make                    object\n",
       "Model                   object\n",
       "AmateurBuilt            object\n",
       "NumberofEngines          int64\n",
       "EngineType              object\n",
       "FARDescription          object\n",
       "Purposeofflight         object\n",
       "TotalFatalInjuries       int64\n",
       "TotalSeriousInjuries     int64\n",
       "TotalMinorInjuries       int64\n",
       "TotalUninjured           int64\n",
       "WeatherCondition        object\n",
       "Abbreviation            object\n",
       "Broadphaseofflight      object\n",
       "US_State                object\n",
       "dtype: object"
      ]
     },
     "execution_count": 253,
     "metadata": {},
     "output_type": "execute_result"
    }
   ],
   "source": [
    "#Check data types for clarity during visualization\n",
    "clean_aircraft_df.dtypes"
   ]
  },
  {
   "cell_type": "code",
   "execution_count": 255,
   "metadata": {},
   "outputs": [],
   "source": [
    "#Change the datatypes from float to integer to avoid decimal places as it represents people\n",
    "clean_aircraft_df[\"TotalFatalInjuries\"] = clean_aircraft_df[\"TotalFatalInjuries\"].astype(\"int\")\n",
    "clean_aircraft_df[\"TotalSeriousInjuries\"] = clean_aircraft_df[\"TotalSeriousInjuries\"].astype(\"int\")\n",
    "clean_aircraft_df[\"TotalMinorInjuries\"] = clean_aircraft_df[\"TotalMinorInjuries\"].astype(\"int\")\n",
    "clean_aircraft_df[\"TotalUninjured\"] = clean_aircraft_df[\"TotalUninjured\"].astype(\"int\")\n",
    "clean_aircraft_df[\"NumberofEngines\"] = clean_aircraft_df[\"NumberofEngines\"].astype(\"int\")"
   ]
  },
  {
   "cell_type": "code",
   "execution_count": 256,
   "metadata": {},
   "outputs": [],
   "source": [
    "#Save the cleaned copy to a csv file\n",
    "clean_aircraft_df.to_csv(\"clean_aircraft.csv\", index=False)"
   ]
  },
  {
   "cell_type": "code",
   "execution_count": 257,
   "metadata": {},
   "outputs": [
    {
     "data": {
      "text/html": [
       "<div>\n",
       "<style scoped>\n",
       "    .dataframe tbody tr th:only-of-type {\n",
       "        vertical-align: middle;\n",
       "    }\n",
       "\n",
       "    .dataframe tbody tr th {\n",
       "        vertical-align: top;\n",
       "    }\n",
       "\n",
       "    .dataframe thead th {\n",
       "        text-align: right;\n",
       "    }\n",
       "</style>\n",
       "<table border=\"1\" class=\"dataframe\">\n",
       "  <thead>\n",
       "    <tr style=\"text-align: right;\">\n",
       "      <th></th>\n",
       "      <th>EventDate</th>\n",
       "      <th>Location</th>\n",
       "      <th>Country</th>\n",
       "      <th>Latitude</th>\n",
       "      <th>Longitude</th>\n",
       "      <th>InjurySeverity</th>\n",
       "      <th>Aircraftdamage</th>\n",
       "      <th>AircraftCategory</th>\n",
       "      <th>RegistrationNumber</th>\n",
       "      <th>Make</th>\n",
       "      <th>...</th>\n",
       "      <th>FARDescription</th>\n",
       "      <th>Purposeofflight</th>\n",
       "      <th>TotalFatalInjuries</th>\n",
       "      <th>TotalSeriousInjuries</th>\n",
       "      <th>TotalMinorInjuries</th>\n",
       "      <th>TotalUninjured</th>\n",
       "      <th>WeatherCondition</th>\n",
       "      <th>Abbreviation</th>\n",
       "      <th>Broadphaseofflight</th>\n",
       "      <th>US_State</th>\n",
       "    </tr>\n",
       "  </thead>\n",
       "  <tbody>\n",
       "    <tr>\n",
       "      <th>0</th>\n",
       "      <td>2001-06-03</td>\n",
       "      <td>LYTLE CREEK, CA</td>\n",
       "      <td>United States</td>\n",
       "      <td>34.241389</td>\n",
       "      <td>-117.539722</td>\n",
       "      <td>Fatal(1)</td>\n",
       "      <td>Substantial</td>\n",
       "      <td>Airplane</td>\n",
       "      <td>N8253W</td>\n",
       "      <td>Piper</td>\n",
       "      <td>...</td>\n",
       "      <td>Part 91: General Aviation</td>\n",
       "      <td>Personal</td>\n",
       "      <td>1</td>\n",
       "      <td>0</td>\n",
       "      <td>0</td>\n",
       "      <td>0</td>\n",
       "      <td>VMC</td>\n",
       "      <td>CA</td>\n",
       "      <td>Maneuvering</td>\n",
       "      <td>California</td>\n",
       "    </tr>\n",
       "    <tr>\n",
       "      <th>1</th>\n",
       "      <td>2003-06-21</td>\n",
       "      <td>Cushing, OK</td>\n",
       "      <td>United States</td>\n",
       "      <td>35.935833</td>\n",
       "      <td>-96.779167</td>\n",
       "      <td>Fatal(1)</td>\n",
       "      <td>Destroyed</td>\n",
       "      <td>Airplane</td>\n",
       "      <td>N8548S</td>\n",
       "      <td>Cessna</td>\n",
       "      <td>...</td>\n",
       "      <td>Part 91: General Aviation</td>\n",
       "      <td>Skydiving</td>\n",
       "      <td>1</td>\n",
       "      <td>2</td>\n",
       "      <td>2</td>\n",
       "      <td>1</td>\n",
       "      <td>VMC</td>\n",
       "      <td>OK</td>\n",
       "      <td>Maneuvering</td>\n",
       "      <td>Oklahoma</td>\n",
       "    </tr>\n",
       "    <tr>\n",
       "      <th>2</th>\n",
       "      <td>2006-11-04</td>\n",
       "      <td>Yuba City, CA</td>\n",
       "      <td>United States</td>\n",
       "      <td>38.967778</td>\n",
       "      <td>-121.626945</td>\n",
       "      <td>Fatal(2)</td>\n",
       "      <td>Destroyed</td>\n",
       "      <td>Airplane</td>\n",
       "      <td>N158MD</td>\n",
       "      <td>Aircraft mfg &amp; dev. co. (amd)</td>\n",
       "      <td>...</td>\n",
       "      <td>Part 91: General Aviation</td>\n",
       "      <td>Personal</td>\n",
       "      <td>2</td>\n",
       "      <td>0</td>\n",
       "      <td>0</td>\n",
       "      <td>0</td>\n",
       "      <td>VMC</td>\n",
       "      <td>CA</td>\n",
       "      <td>Cruise</td>\n",
       "      <td>California</td>\n",
       "    </tr>\n",
       "    <tr>\n",
       "      <th>3</th>\n",
       "      <td>2006-12-07</td>\n",
       "      <td>Summersville, WV</td>\n",
       "      <td>United States</td>\n",
       "      <td>38.248611</td>\n",
       "      <td>-80.976111</td>\n",
       "      <td>Fatal(1)</td>\n",
       "      <td>Destroyed</td>\n",
       "      <td>Airplane</td>\n",
       "      <td>N9165T</td>\n",
       "      <td>Mooney</td>\n",
       "      <td>...</td>\n",
       "      <td>Part 91: General Aviation</td>\n",
       "      <td>Personal</td>\n",
       "      <td>1</td>\n",
       "      <td>0</td>\n",
       "      <td>0</td>\n",
       "      <td>0</td>\n",
       "      <td>IMC</td>\n",
       "      <td>WV</td>\n",
       "      <td>Cruise</td>\n",
       "      <td>West Virginia</td>\n",
       "    </tr>\n",
       "    <tr>\n",
       "      <th>4</th>\n",
       "      <td>2007-01-15</td>\n",
       "      <td>ADJUNTAS, PR</td>\n",
       "      <td>United States</td>\n",
       "      <td>18.147222</td>\n",
       "      <td>-66.798333</td>\n",
       "      <td>Fatal(2)</td>\n",
       "      <td>Substantial</td>\n",
       "      <td>Airplane</td>\n",
       "      <td>N90KB</td>\n",
       "      <td>Partenavia</td>\n",
       "      <td>...</td>\n",
       "      <td>Part 91: General Aviation</td>\n",
       "      <td>Personal</td>\n",
       "      <td>2</td>\n",
       "      <td>0</td>\n",
       "      <td>0</td>\n",
       "      <td>0</td>\n",
       "      <td>IMC</td>\n",
       "      <td>PR</td>\n",
       "      <td>Descent</td>\n",
       "      <td>Puerto Rico</td>\n",
       "    </tr>\n",
       "  </tbody>\n",
       "</table>\n",
       "<p>5 rows × 24 columns</p>\n",
       "</div>"
      ],
      "text/plain": [
       "    EventDate          Location        Country   Latitude    Longitude  \\\n",
       "0  2001-06-03   LYTLE CREEK, CA  United States  34.241389  -117.539722   \n",
       "1  2003-06-21       Cushing, OK  United States  35.935833   -96.779167   \n",
       "2  2006-11-04     Yuba City, CA  United States  38.967778  -121.626945   \n",
       "3  2006-12-07  Summersville, WV  United States  38.248611   -80.976111   \n",
       "4  2007-01-15      ADJUNTAS, PR  United States  18.147222   -66.798333   \n",
       "\n",
       "  InjurySeverity Aircraftdamage AircraftCategory RegistrationNumber  \\\n",
       "0       Fatal(1)    Substantial         Airplane             N8253W   \n",
       "1       Fatal(1)      Destroyed         Airplane             N8548S   \n",
       "2       Fatal(2)      Destroyed         Airplane             N158MD   \n",
       "3       Fatal(1)      Destroyed         Airplane             N9165T   \n",
       "4       Fatal(2)    Substantial         Airplane              N90KB   \n",
       "\n",
       "                            Make  ...             FARDescription  \\\n",
       "0                          Piper  ...  Part 91: General Aviation   \n",
       "1                         Cessna  ...  Part 91: General Aviation   \n",
       "2  Aircraft mfg & dev. co. (amd)  ...  Part 91: General Aviation   \n",
       "3                         Mooney  ...  Part 91: General Aviation   \n",
       "4                     Partenavia  ...  Part 91: General Aviation   \n",
       "\n",
       "  Purposeofflight  TotalFatalInjuries TotalSeriousInjuries TotalMinorInjuries  \\\n",
       "0        Personal                   1                    0                  0   \n",
       "1       Skydiving                   1                    2                  2   \n",
       "2        Personal                   2                    0                  0   \n",
       "3        Personal                   1                    0                  0   \n",
       "4        Personal                   2                    0                  0   \n",
       "\n",
       "  TotalUninjured  WeatherCondition  Abbreviation  Broadphaseofflight  \\\n",
       "0              0               VMC            CA         Maneuvering   \n",
       "1              1               VMC            OK         Maneuvering   \n",
       "2              0               VMC            CA              Cruise   \n",
       "3              0               IMC            WV              Cruise   \n",
       "4              0               IMC            PR             Descent   \n",
       "\n",
       "        US_State  \n",
       "0     California  \n",
       "1       Oklahoma  \n",
       "2     California  \n",
       "3  West Virginia  \n",
       "4    Puerto Rico  \n",
       "\n",
       "[5 rows x 24 columns]"
      ]
     },
     "execution_count": 257,
     "metadata": {},
     "output_type": "execute_result"
    }
   ],
   "source": [
    "#Access the cleaned dataset for use\n",
    "clean_aircraft_df = pd.read_csv(\"clean_aircraft.csv\")\n",
    "clean_aircraft_df.head()"
   ]
  },
  {
   "cell_type": "code",
   "execution_count": 258,
   "metadata": {},
   "outputs": [
    {
     "data": {
      "text/plain": [
       "EventDate               object\n",
       "Location                object\n",
       "Country                 object\n",
       "Latitude                object\n",
       "Longitude               object\n",
       "InjurySeverity          object\n",
       "Aircraftdamage          object\n",
       "AircraftCategory        object\n",
       "RegistrationNumber      object\n",
       "Make                    object\n",
       "Model                   object\n",
       "AmateurBuilt            object\n",
       "NumberofEngines          int64\n",
       "EngineType              object\n",
       "FARDescription          object\n",
       "Purposeofflight         object\n",
       "TotalFatalInjuries       int64\n",
       "TotalSeriousInjuries     int64\n",
       "TotalMinorInjuries       int64\n",
       "TotalUninjured           int64\n",
       "WeatherCondition        object\n",
       "Abbreviation            object\n",
       "Broadphaseofflight      object\n",
       "US_State                object\n",
       "dtype: object"
      ]
     },
     "execution_count": 258,
     "metadata": {},
     "output_type": "execute_result"
    }
   ],
   "source": [
    "clean_aircraft_df.dtypes"
   ]
  },
  {
   "cell_type": "code",
   "execution_count": 259,
   "metadata": {},
   "outputs": [
    {
     "data": {
      "text/plain": [
       "172     315\n",
       "182     186\n",
       "180     156\n",
       "SR22    154\n",
       "PA28    132\n",
       "Name: Model, dtype: int64"
      ]
     },
     "execution_count": 259,
     "metadata": {},
     "output_type": "execute_result"
    }
   ],
   "source": [
    "#Check which model are common\n",
    "model_df = clean_aircraft_df.Model.value_counts()\n",
    "model_df.head()"
   ]
  },
  {
   "cell_type": "code",
   "execution_count": 336,
   "metadata": {},
   "outputs": [
    {
     "data": {
      "text/plain": [
       "Aircraftdamage  Make              \n",
       "Destroyed       Aero commander        4\n",
       "                Aero vodochody        2\n",
       "                Aerofab inc.          1\n",
       "                Aeronca               6\n",
       "                Aeropro cz            1\n",
       "                                     ..\n",
       "Substantial     Zwicker murray r      1\n",
       "Unknown         Aero commander        1\n",
       "                Cessna                1\n",
       "                Piper aircraft inc    1\n",
       "                Swann lynn j          1\n",
       "Name: Make, Length: 2633, dtype: int64"
      ]
     },
     "execution_count": 336,
     "metadata": {},
     "output_type": "execute_result"
    }
   ],
   "source": [
    "#Check Make or Model against damage, grouping by the damage\n",
    "clean_aircraft_df.groupby(['Aircraftdamage', 'Make'])['Make'].count()"
   ]
  },
  {
   "cell_type": "code",
   "execution_count": 337,
   "metadata": {},
   "outputs": [
    {
     "data": {
      "text/plain": [
       "TotalFatalInjuries  Make               \n",
       "0                   177mf llc              1\n",
       "                    2007 savage air llc    1\n",
       "                    2021fx3 llc            1\n",
       "                    781569 inc             1\n",
       "                    Aardema robert john    1\n",
       "                                          ..\n",
       "9                   Pilatus                1\n",
       "10                  Beech                  1\n",
       "                    Textron aviation       1\n",
       "11                  Beech                  1\n",
       "14                  Pilatus                1\n",
       "Name: Make, Length: 2744, dtype: int64"
      ]
     },
     "execution_count": 337,
     "metadata": {},
     "output_type": "execute_result"
    }
   ],
   "source": [
    "#How are the Aircraft associated with injuries\n",
    "type(clean_aircraft_df)\n",
    "clean_aircraft_df.groupby(['TotalFatalInjuries', 'Make'])['Make'].count()"
   ]
  },
  {
   "cell_type": "code",
   "execution_count": 201,
   "metadata": {},
   "outputs": [
    {
     "data": {
      "text/plain": [
       "0"
      ]
     },
     "execution_count": 201,
     "metadata": {},
     "output_type": "execute_result"
    }
   ],
   "source": [
    "#Check if the aircrafts follow Federal Aviation Regulations (FAR)\n",
    "clean_aircraft_df['FARDescription'].isna().sum()"
   ]
  },
  {
   "cell_type": "code",
   "execution_count": 266,
   "metadata": {},
   "outputs": [
    {
     "data": {
      "text/plain": [
       "array([[1.        , 0.14041973],\n",
       "       [0.14041973, 1.        ]])"
      ]
     },
     "execution_count": 266,
     "metadata": {},
     "output_type": "execute_result"
    }
   ],
   "source": [
    "#check how the engine type and number of engines are correlated with safety\n",
    "x = clean_aircraft_df['NumberofEngines']\n",
    "y = clean_aircraft_df['TotalFatalInjuries']\n",
    "np.corrcoef(x,y)"
   ]
  },
  {
   "cell_type": "code",
   "execution_count": 195,
   "metadata": {},
   "outputs": [
    {
     "data": {
      "text/plain": [
       "Index(['EventDate', 'Location', 'Country', 'Latitude', 'Longitude',\n",
       "       'InjurySeverity', 'Aircraftdamage', 'AircraftCategory',\n",
       "       'RegistrationNumber', 'Make', 'Model', 'AmateurBuilt',\n",
       "       'NumberofEngines', 'EngineType', 'FARDescription', 'Purposeofflight',\n",
       "       'TotalFatalInjuries', 'TotalSeriousInjuries', 'TotalMinorInjuries',\n",
       "       'TotalUninjured', 'WeatherCondition', 'Abbreviation',\n",
       "       'Broadphaseofflight', 'US_State'],\n",
       "      dtype='object')"
      ]
     },
     "execution_count": 195,
     "metadata": {},
     "output_type": "execute_result"
    }
   ],
   "source": [
    "clean_aircraft_df.columns"
   ]
  },
  {
   "cell_type": "code",
   "execution_count": 279,
   "metadata": {},
   "outputs": [
    {
     "data": {
      "text/plain": [
       "InjurySeverity  Make                         \n",
       "Fatal           Adams donald l                    1\n",
       "                Advertising mgmt & consulting     1\n",
       "                Aero adventure                    1\n",
       "                Aero commander                   11\n",
       "                Aero sp z o o                     1\n",
       "                                                 ..\n",
       "Serious         Globe                             2\n",
       "                Miller roger                      1\n",
       "                Piper                             1\n",
       "                Quicksilver aircraft co           1\n",
       "                Sawby scott                       1\n",
       "Name: Make, Length: 2679, dtype: int64"
      ]
     },
     "execution_count": 279,
     "metadata": {},
     "output_type": "execute_result"
    }
   ],
   "source": [
    "#Check  Make vs Injury severity\n",
    "clean_aircraft_df.groupby(['InjurySeverity', 'Make'])['Make'].count()"
   ]
  },
  {
   "cell_type": "code",
   "execution_count": 190,
   "metadata": {},
   "outputs": [
    {
     "data": {
      "text/html": [
       "<div>\n",
       "<style scoped>\n",
       "    .dataframe tbody tr th:only-of-type {\n",
       "        vertical-align: middle;\n",
       "    }\n",
       "\n",
       "    .dataframe tbody tr th {\n",
       "        vertical-align: top;\n",
       "    }\n",
       "\n",
       "    .dataframe thead th {\n",
       "        text-align: right;\n",
       "    }\n",
       "</style>\n",
       "<table border=\"1\" class=\"dataframe\">\n",
       "  <thead>\n",
       "    <tr style=\"text-align: right;\">\n",
       "      <th></th>\n",
       "      <th>NumberofEngines</th>\n",
       "      <th>TotalFatalInjuries</th>\n",
       "      <th>TotalSeriousInjuries</th>\n",
       "      <th>TotalMinorInjuries</th>\n",
       "      <th>TotalUninjured</th>\n",
       "    </tr>\n",
       "  </thead>\n",
       "  <tbody>\n",
       "    <tr>\n",
       "      <th>NumberofEngines</th>\n",
       "      <td>1.000000</td>\n",
       "      <td>0.140420</td>\n",
       "      <td>-0.018796</td>\n",
       "      <td>-0.011290</td>\n",
       "      <td>0.104715</td>\n",
       "    </tr>\n",
       "    <tr>\n",
       "      <th>TotalFatalInjuries</th>\n",
       "      <td>0.140420</td>\n",
       "      <td>1.000000</td>\n",
       "      <td>-0.139954</td>\n",
       "      <td>-0.029562</td>\n",
       "      <td>-0.188698</td>\n",
       "    </tr>\n",
       "    <tr>\n",
       "      <th>TotalSeriousInjuries</th>\n",
       "      <td>-0.018796</td>\n",
       "      <td>-0.139954</td>\n",
       "      <td>1.000000</td>\n",
       "      <td>0.007739</td>\n",
       "      <td>-0.151834</td>\n",
       "    </tr>\n",
       "    <tr>\n",
       "      <th>TotalMinorInjuries</th>\n",
       "      <td>-0.011290</td>\n",
       "      <td>-0.029562</td>\n",
       "      <td>0.007739</td>\n",
       "      <td>1.000000</td>\n",
       "      <td>-0.151278</td>\n",
       "    </tr>\n",
       "    <tr>\n",
       "      <th>TotalUninjured</th>\n",
       "      <td>0.104715</td>\n",
       "      <td>-0.188698</td>\n",
       "      <td>-0.151834</td>\n",
       "      <td>-0.151278</td>\n",
       "      <td>1.000000</td>\n",
       "    </tr>\n",
       "  </tbody>\n",
       "</table>\n",
       "</div>"
      ],
      "text/plain": [
       "                      NumberofEngines  TotalFatalInjuries  \\\n",
       "NumberofEngines              1.000000            0.140420   \n",
       "TotalFatalInjuries           0.140420            1.000000   \n",
       "TotalSeriousInjuries        -0.018796           -0.139954   \n",
       "TotalMinorInjuries          -0.011290           -0.029562   \n",
       "TotalUninjured               0.104715           -0.188698   \n",
       "\n",
       "                      TotalSeriousInjuries  TotalMinorInjuries  TotalUninjured  \n",
       "NumberofEngines                  -0.018796           -0.011290        0.104715  \n",
       "TotalFatalInjuries               -0.139954           -0.029562       -0.188698  \n",
       "TotalSeriousInjuries              1.000000            0.007739       -0.151834  \n",
       "TotalMinorInjuries                0.007739            1.000000       -0.151278  \n",
       "TotalUninjured                   -0.151834           -0.151278        1.000000  "
      ]
     },
     "execution_count": 190,
     "metadata": {},
     "output_type": "execute_result"
    }
   ],
   "source": [
    "clean_aircraft_df.corr(method='pearson')"
   ]
  },
  {
   "cell_type": "markdown",
   "metadata": {},
   "source": [
    "The Number of Engines has weak relationships with the number of injuries whether be serious, minor or fatal injury. The same applies to the uninjured totals.\n",
    "\n",
    "This can also be seen in the graphs below."
   ]
  },
  {
   "cell_type": "code",
   "execution_count": 189,
   "metadata": {},
   "outputs": [
    {
     "data": {
      "text/plain": [
       "2454"
      ]
     },
     "execution_count": 189,
     "metadata": {},
     "output_type": "execute_result"
    }
   ],
   "source": [
    "len(clean_aircraft_df['Make'].unique())"
   ]
  },
  {
   "cell_type": "code",
   "execution_count": 280,
   "metadata": {},
   "outputs": [
    {
     "data": {
      "text/plain": [
       "array([[1.        , 0.14041973],\n",
       "       [0.14041973, 1.        ]])"
      ]
     },
     "execution_count": 280,
     "metadata": {},
     "output_type": "execute_result"
    }
   ],
   "source": [
    "x = clean_aircraft_df['NumberofEngines']\n",
    "y = clean_aircraft_df['TotalFatalInjuries']\n",
    "r = np.corrcoef(x,y)\n",
    "r"
   ]
  },
  {
   "cell_type": "code",
   "execution_count": 297,
   "metadata": {},
   "outputs": [
    {
     "data": {
      "image/png": "[encoded data removed]",
      "text/plain": [
       "<Figure size 720x576 with 4 Axes>"
      ]
     },
     "metadata": {
      "needs_background": "light"
     },
     "output_type": "display_data"
    }
   ],
   "source": [
    "#Using scatter plot to chek relationship between number of Engines and injuries\n",
    "fig, axs = plt.subplots(2,2, figsize =(10,8))\n",
    "axs[0,0].scatter(x=clean_aircraft_df['TotalFatalInjuries'], y=clean_aircraft_df['NumberofEngines'], marker='v')\n",
    "axs[0,1].scatter(x=clean_aircraft_df['TotalSeriousInjuries'], y=clean_aircraft_df['NumberofEngines'], marker='x')\n",
    "axs[1,0].scatter(x=clean_aircraft_df['TotalMinorInjuries'], y=clean_aircraft_df['NumberofEngines'], marker='*')\n",
    "axs[1,1].scatter(x=clean_aircraft_df['TotalUninjured'], y=clean_aircraft_df['NumberofEngines'], marker='+')\n",
    "plt.show()"
   ]
  },
  {
   "cell_type": "code",
   "execution_count": 347,
   "metadata": {},
   "outputs": [
    {
     "data": {
      "text/plain": [
       "Nelson sydney        1\n",
       "Post                 1\n",
       "Quickie              1\n",
       "Edwards douglas l    1\n",
       "Citabria             1\n",
       "Name: Make, dtype: int64"
      ]
     },
     "execution_count": 347,
     "metadata": {},
     "output_type": "execute_result"
    }
   ],
   "source": [
    "clean_aircraft_df['Model'].value_counts().tail()\n",
    "clean_aircraft_df['Make'].value_counts().tail()"
   ]
  },
  {
   "cell_type": "markdown",
   "metadata": {},
   "source": [
    "From the analysis, The Cessna aircraft Make is more common. It has the highest number of injuries but also leads on uninjurred.\n",
    "\n",
    "On the comparing model and Severity of injury we find 'Air Tractor inc.' Make having the highest Non-Fatal accident/incidents. But we also see Cessna Make having more models that have Non-Fatal incidents/accidents."
   ]
  },
  {
   "cell_type": "markdown",
   "metadata": {},
   "source": [
    "Some other data cleaning challenges realised later. Which need more time for cleaning"
   ]
  },
  {
   "cell_type": "code",
   "execution_count": 291,
   "metadata": {},
   "outputs": [
    {
     "data": {
      "text/plain": [
       "False    12268\n",
       "True       108\n",
       "Name: Make, dtype: int64"
      ]
     },
     "execution_count": 291,
     "metadata": {},
     "output_type": "execute_result"
    }
   ],
   "source": [
    "#Some key attributes records are keyed in using different text\n",
    "clean_aircraft_df['Make'].isin(['Air tractor inc.']).value_counts()\n",
    "#clean_aircraft.loc[clean_aircraft['Model'], clean_aircraft['Make'] == \"Air tractor inc\"]#.value_counts()\n",
    "(clean_aircraft_df['Make']==\"Air tractor\").value_counts()"
   ]
  },
  {
   "cell_type": "code",
   "execution_count": 292,
   "metadata": {},
   "outputs": [
    {
     "data": {
      "text/plain": [
       "False    12209\n",
       "True       167\n",
       "Name: Make, dtype: int64"
      ]
     },
     "execution_count": 292,
     "metadata": {},
     "output_type": "execute_result"
    }
   ],
   "source": [
    "(clean_aircraft_df['Make']==\"Air tractor inc\").value_counts()"
   ]
  },
  {
   "cell_type": "code",
   "execution_count": 293,
   "metadata": {},
   "outputs": [
    {
     "data": {
      "text/plain": [
       "False    12373\n",
       "True         3\n",
       "Name: Make, dtype: int64"
      ]
     },
     "execution_count": 293,
     "metadata": {},
     "output_type": "execute_result"
    }
   ],
   "source": [
    "(clean_aircraft_df['Make']==\"Air tractor inc.\").value_counts()"
   ]
  },
  {
   "cell_type": "markdown",
   "metadata": {},
   "source": [
    "\n",
    "## Recommendations\n",
    "1. We would recomend the top 3 showing more safety in terms of non-Fatal accidents and Level of Damage. i.e.: Cessna, Air tractor, and Piper Make.\n",
    "\n",
    "2. The model that has low-risk are the Air Tractor Inc. models.\n",
    "3. More research to be done based on other factors before making a decision on the chose of Airplane."
   ]
  }
 ],
 "metadata": {
  "kernelspec": {
   "display_name": "learn-env",
   "language": "python",
   "name": "python3"
  },
  "language_info": {
   "codemirror_mode": {
    "name": "ipython",
    "version": 3
   },
   "file_extension": ".py",
   "mimetype": "text/x-python",
   "name": "python",
   "nbconvert_exporter": "python",
   "pygments_lexer": "ipython3",
   "version": "3.8.5"
  }
 },
 "nbformat": 4,
 "nbformat_minor": 2
}
